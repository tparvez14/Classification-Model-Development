{
 "cells": [
  {
   "cell_type": "markdown",
   "id": "112beb3d",
   "metadata": {},
   "source": [
    "This analysis focuses on identifying the most crucial elements for successful cross-selling new subscription to clients. A model to determine if a consumer will effectively cross-sell is included in this investigation."
   ]
  },
  {
   "cell_type": "code",
   "execution_count": 90,
   "id": "f9751267",
   "metadata": {},
   "outputs": [
    {
     "data": {
      "text/html": [
       "<div>\n",
       "<style scoped>\n",
       "    .dataframe tbody tr th:only-of-type {\n",
       "        vertical-align: middle;\n",
       "    }\n",
       "\n",
       "    .dataframe tbody tr th {\n",
       "        vertical-align: top;\n",
       "    }\n",
       "\n",
       "    .dataframe thead th {\n",
       "        text-align: right;\n",
       "    }\n",
       "</style>\n",
       "<table border=\"1\" class=\"dataframe\">\n",
       "  <thead>\n",
       "    <tr style=\"text-align: right;\">\n",
       "      <th></th>\n",
       "      <th>CROSS_SELL_SUCCESS</th>\n",
       "      <th>EMAIL</th>\n",
       "      <th>REVENUE</th>\n",
       "      <th>TOTAL_MEALS_ORDERED</th>\n",
       "      <th>UNIQUE_MEALS_PURCH</th>\n",
       "      <th>CONTACTS_W_CUSTOMER_SERVICE</th>\n",
       "      <th>PRODUCT_CATEGORIES_VIEWED</th>\n",
       "      <th>AVG_TIME_PER_SITE_VISIT</th>\n",
       "      <th>CANCELLATIONS_AFTER_NOON</th>\n",
       "      <th>PC_LOGINS</th>\n",
       "      <th>MOBILE_LOGINS</th>\n",
       "      <th>WEEKLY_PLAN</th>\n",
       "      <th>LATE_DELIVERIES</th>\n",
       "      <th>AVG_PREP_VID_TIME</th>\n",
       "      <th>LARGEST_ORDER_SIZE</th>\n",
       "      <th>AVG_MEAN_RATING</th>\n",
       "      <th>TOTAL_PHOTOS_VIEWED</th>\n",
       "    </tr>\n",
       "  </thead>\n",
       "  <tbody>\n",
       "    <tr>\n",
       "      <th>0</th>\n",
       "      <td>1</td>\n",
       "      <td>steffon.baratheon@yahoo.com</td>\n",
       "      <td>4920.0</td>\n",
       "      <td>493</td>\n",
       "      <td>9</td>\n",
       "      <td>1</td>\n",
       "      <td>10</td>\n",
       "      <td>265.6</td>\n",
       "      <td>5</td>\n",
       "      <td>5</td>\n",
       "      <td>2</td>\n",
       "      <td>0</td>\n",
       "      <td>0</td>\n",
       "      <td>137.41</td>\n",
       "      <td>6</td>\n",
       "      <td>2.894737</td>\n",
       "      <td>456</td>\n",
       "    </tr>\n",
       "    <tr>\n",
       "      <th>1</th>\n",
       "      <td>0</td>\n",
       "      <td>harlon.greyjoy@visa.com</td>\n",
       "      <td>6150.0</td>\n",
       "      <td>361</td>\n",
       "      <td>9</td>\n",
       "      <td>1</td>\n",
       "      <td>6</td>\n",
       "      <td>247.0</td>\n",
       "      <td>2</td>\n",
       "      <td>5</td>\n",
       "      <td>1</td>\n",
       "      <td>0</td>\n",
       "      <td>0</td>\n",
       "      <td>120.20</td>\n",
       "      <td>5</td>\n",
       "      <td>2.631579</td>\n",
       "      <td>680</td>\n",
       "    </tr>\n",
       "    <tr>\n",
       "      <th>2</th>\n",
       "      <td>0</td>\n",
       "      <td>monster@protonmail.com</td>\n",
       "      <td>3435.0</td>\n",
       "      <td>278</td>\n",
       "      <td>6</td>\n",
       "      <td>1</td>\n",
       "      <td>4</td>\n",
       "      <td>164.4</td>\n",
       "      <td>0</td>\n",
       "      <td>6</td>\n",
       "      <td>1</td>\n",
       "      <td>5</td>\n",
       "      <td>0</td>\n",
       "      <td>127.00</td>\n",
       "      <td>3</td>\n",
       "      <td>3.684211</td>\n",
       "      <td>145</td>\n",
       "    </tr>\n",
       "    <tr>\n",
       "      <th>3</th>\n",
       "      <td>1</td>\n",
       "      <td>damon.lannister.(lord)@yahoo.com</td>\n",
       "      <td>3330.0</td>\n",
       "      <td>269</td>\n",
       "      <td>8</td>\n",
       "      <td>1</td>\n",
       "      <td>2</td>\n",
       "      <td>176.0</td>\n",
       "      <td>5</td>\n",
       "      <td>5</td>\n",
       "      <td>2</td>\n",
       "      <td>0</td>\n",
       "      <td>0</td>\n",
       "      <td>129.78</td>\n",
       "      <td>6</td>\n",
       "      <td>3.157895</td>\n",
       "      <td>418</td>\n",
       "    </tr>\n",
       "    <tr>\n",
       "      <th>4</th>\n",
       "      <td>1</td>\n",
       "      <td>raynald.westerling@jnj.com</td>\n",
       "      <td>3427.5</td>\n",
       "      <td>276</td>\n",
       "      <td>7</td>\n",
       "      <td>1</td>\n",
       "      <td>10</td>\n",
       "      <td>164.6</td>\n",
       "      <td>0</td>\n",
       "      <td>6</td>\n",
       "      <td>1</td>\n",
       "      <td>14</td>\n",
       "      <td>0</td>\n",
       "      <td>34.42</td>\n",
       "      <td>3</td>\n",
       "      <td>3.157895</td>\n",
       "      <td>174</td>\n",
       "    </tr>\n",
       "    <tr>\n",
       "      <th>5</th>\n",
       "      <td>0</td>\n",
       "      <td>rollam.westerling@jnj.com</td>\n",
       "      <td>2917.5</td>\n",
       "      <td>246</td>\n",
       "      <td>7</td>\n",
       "      <td>1</td>\n",
       "      <td>2</td>\n",
       "      <td>240.3</td>\n",
       "      <td>1</td>\n",
       "      <td>5</td>\n",
       "      <td>1</td>\n",
       "      <td>20</td>\n",
       "      <td>0</td>\n",
       "      <td>240.90</td>\n",
       "      <td>8</td>\n",
       "      <td>4.473684</td>\n",
       "      <td>16</td>\n",
       "    </tr>\n",
       "    <tr>\n",
       "      <th>6</th>\n",
       "      <td>0</td>\n",
       "      <td>utt@passport.com</td>\n",
       "      <td>3901.5</td>\n",
       "      <td>316</td>\n",
       "      <td>10</td>\n",
       "      <td>1</td>\n",
       "      <td>5</td>\n",
       "      <td>183.8</td>\n",
       "      <td>2</td>\n",
       "      <td>5</td>\n",
       "      <td>2</td>\n",
       "      <td>46</td>\n",
       "      <td>4</td>\n",
       "      <td>140.01</td>\n",
       "      <td>6</td>\n",
       "      <td>3.157895</td>\n",
       "      <td>584</td>\n",
       "    </tr>\n",
       "    <tr>\n",
       "      <th>7</th>\n",
       "      <td>0</td>\n",
       "      <td>bandy@aol.com</td>\n",
       "      <td>5000.0</td>\n",
       "      <td>251</td>\n",
       "      <td>10</td>\n",
       "      <td>1</td>\n",
       "      <td>1</td>\n",
       "      <td>269.6</td>\n",
       "      <td>4</td>\n",
       "      <td>5</td>\n",
       "      <td>2</td>\n",
       "      <td>40</td>\n",
       "      <td>0</td>\n",
       "      <td>143.00</td>\n",
       "      <td>8</td>\n",
       "      <td>2.894737</td>\n",
       "      <td>1095</td>\n",
       "    </tr>\n",
       "    <tr>\n",
       "      <th>8</th>\n",
       "      <td>1</td>\n",
       "      <td>rickard.karstark@live.com</td>\n",
       "      <td>3090.0</td>\n",
       "      <td>256</td>\n",
       "      <td>7</td>\n",
       "      <td>1</td>\n",
       "      <td>5</td>\n",
       "      <td>218.4</td>\n",
       "      <td>2</td>\n",
       "      <td>6</td>\n",
       "      <td>1</td>\n",
       "      <td>30</td>\n",
       "      <td>0</td>\n",
       "      <td>120.34</td>\n",
       "      <td>6</td>\n",
       "      <td>2.894737</td>\n",
       "      <td>198</td>\n",
       "    </tr>\n",
       "    <tr>\n",
       "      <th>9</th>\n",
       "      <td>1</td>\n",
       "      <td>androw.frey@protonmail.com</td>\n",
       "      <td>5745.0</td>\n",
       "      <td>297</td>\n",
       "      <td>8</td>\n",
       "      <td>1</td>\n",
       "      <td>6</td>\n",
       "      <td>266.8</td>\n",
       "      <td>1</td>\n",
       "      <td>6</td>\n",
       "      <td>1</td>\n",
       "      <td>32</td>\n",
       "      <td>0</td>\n",
       "      <td>140.88</td>\n",
       "      <td>8</td>\n",
       "      <td>2.894737</td>\n",
       "      <td>664</td>\n",
       "    </tr>\n",
       "  </tbody>\n",
       "</table>\n",
       "</div>"
      ],
      "text/plain": [
       "   CROSS_SELL_SUCCESS                             EMAIL  REVENUE  TOTAL_MEALS_ORDERED  UNIQUE_MEALS_PURCH  CONTACTS_W_CUSTOMER_SERVICE  PRODUCT_CATEGORIES_VIEWED  AVG_TIME_PER_SITE_VISIT  CANCELLATIONS_AFTER_NOON  PC_LOGINS  MOBILE_LOGINS  WEEKLY_PLAN  LATE_DELIVERIES   AVG_PREP_VID_TIME  LARGEST_ORDER_SIZE  AVG_MEAN_RATING  TOTAL_PHOTOS_VIEWED\n",
       "0                   1       steffon.baratheon@yahoo.com   4920.0                  493                   9                            1                         10                    265.6                         5          5              2            0                 0             137.41                   6         2.894737                  456\n",
       "1                   0           harlon.greyjoy@visa.com   6150.0                  361                   9                            1                          6                    247.0                         2          5              1            0                 0             120.20                   5         2.631579                  680\n",
       "2                   0            monster@protonmail.com   3435.0                  278                   6                            1                          4                    164.4                         0          6              1            5                 0             127.00                   3         3.684211                  145\n",
       "3                   1  damon.lannister.(lord)@yahoo.com   3330.0                  269                   8                            1                          2                    176.0                         5          5              2            0                 0             129.78                   6         3.157895                  418\n",
       "4                   1        raynald.westerling@jnj.com   3427.5                  276                   7                            1                         10                    164.6                         0          6              1           14                 0              34.42                   3         3.157895                  174\n",
       "5                   0         rollam.westerling@jnj.com   2917.5                  246                   7                            1                          2                    240.3                         1          5              1           20                 0             240.90                   8         4.473684                   16\n",
       "6                   0                  utt@passport.com   3901.5                  316                  10                            1                          5                    183.8                         2          5              2           46                 4             140.01                   6         3.157895                  584\n",
       "7                   0                     bandy@aol.com   5000.0                  251                  10                            1                          1                    269.6                         4          5              2           40                 0             143.00                   8         2.894737                 1095\n",
       "8                   1         rickard.karstark@live.com   3090.0                  256                   7                            1                          5                    218.4                         2          6              1           30                 0             120.34                   6         2.894737                  198\n",
       "9                   1        androw.frey@protonmail.com   5745.0                  297                   8                            1                          6                    266.8                         1          6              1           32                 0             140.88                   8         2.894737                  664"
      ]
     },
     "execution_count": 90,
     "metadata": {},
     "output_type": "execute_result"
    }
   ],
   "source": [
    "# importing libraries\n",
    "import pandas            as pd                       # data science essentials\n",
    "import matplotlib.pyplot as plt                      # data visualization\n",
    "import seaborn           as sns                      # enhanced data viz\n",
    "import numpy             as np                       # Linear Algebra \n",
    "\n",
    "# Machine Learning Modules\n",
    "from sklearn.model_selection import train_test_split # train-test split\n",
    "from sklearn.linear_model import LogisticRegression  # logistic regression\n",
    "import statsmodels.formula.api as smf                # logistic regression\n",
    "from sklearn.metrics import confusion_matrix         # confusion matrix\n",
    "from sklearn.metrics import roc_auc_score            # auc score\n",
    "from sklearn.neighbors import KNeighborsClassifier   # KNN for classification\n",
    "from sklearn.neighbors import KNeighborsRegressor    # KNN for regression\n",
    "from sklearn.preprocessing import StandardScaler     # standard scaler\n",
    "from sklearn.tree import DecisionTreeClassifier      # classification trees\n",
    "from sklearn.tree import plot_tree                   # tree plots\n",
    "from sklearn.model_selection import RandomizedSearchCV\n",
    "from sklearn.metrics import make_scorer\n",
    "from io import StringIO\n",
    "from sklearn.ensemble import RandomForestClassifier     # random forest\n",
    "from sklearn.ensemble import GradientBoostingClassifier # gbm\n",
    "\n",
    "\n",
    "# specifying the path and file name\n",
    "file = './Cross_Sell_Success_Dataset_2023.xlsx'\n",
    "\n",
    "# reading the file into Python\n",
    "cs = pd.read_excel(io = file)\n",
    "\n",
    "# setting pandas print options\n",
    "pd.set_option('display.max_rows', 500)\n",
    "pd.set_option('display.max_columns', 500)\n",
    "pd.set_option('display.width', 1000)\n",
    "pd.set_option('display.max_colwidth', 100)\n",
    "\n",
    "#obtaining the top 10 rows as output to enhance data understanding\n",
    "cs.head(n = 10)\n"
   ]
  },
  {
   "cell_type": "markdown",
   "id": "ec5d122a",
   "metadata": {},
   "source": [
    "After loading the libraries, I will read the Excel file into Python from the working directory. Set pandas print parameters to make sure I can produce and examine data on all variables, not just the first few and the final few. After loading the file, I will examine the dataset's structure, variable types, and other details to get a first impression."
   ]
  },
  {
   "cell_type": "code",
   "execution_count": 2,
   "id": "0bd9ac01",
   "metadata": {},
   "outputs": [],
   "source": [
    "########################################\n",
    "# visual_cm\n",
    "########################################\n",
    "def visual_cm(true_y, pred_y, labels = None):\n",
    "    \"\"\"\n",
    "Creates a visualization of a confusion matrix.\n",
    "\n",
    "PARAMETERS\n",
    "----------\n",
    "true_y : true values for the response variable\n",
    "pred_y : predicted values for the response variable\n",
    "labels : , default None\n",
    "    \"\"\"\n",
    "    # visualizing the confusion matrix\n",
    "\n",
    "    # setting labels\n",
    "    lbls = labels\n",
    "    \n",
    "\n",
    "    # declaring a confusion matrix object\n",
    "    cm = confusion_matrix(y_true = true_y,\n",
    "                          y_pred = pred_y)\n",
    "\n",
    "\n",
    "    # heatmap\n",
    "    sns.heatmap(cm,\n",
    "                annot       = True,\n",
    "                xticklabels = lbls,\n",
    "                yticklabels = lbls,\n",
    "                cmap        = 'Blues',\n",
    "                fmt         = 'g')\n",
    "\n",
    "\n",
    "    plt.xlabel('Predicted')\n",
    "    plt.ylabel('Actual')\n",
    "    plt.title('Confusion Matrix of the Classifier')\n",
    "    plt.show()"
   ]
  },
  {
   "cell_type": "code",
   "execution_count": 3,
   "id": "fb51c77c",
   "metadata": {},
   "outputs": [
    {
     "data": {
      "text/plain": [
       "CROSS_SELL_SUCCESS             0\n",
       "EMAIL                          0\n",
       "REVENUE                        0\n",
       "TOTAL_MEALS_ORDERED            0\n",
       "UNIQUE_MEALS_PURCH             0\n",
       "CONTACTS_W_CUSTOMER_SERVICE    0\n",
       "PRODUCT_CATEGORIES_VIEWED      0\n",
       "AVG_TIME_PER_SITE_VISIT        0\n",
       "CANCELLATIONS_AFTER_NOON       0\n",
       "PC_LOGINS                      0\n",
       "MOBILE_LOGINS                  0\n",
       "WEEKLY_PLAN                    0\n",
       "LATE_DELIVERIES                0\n",
       "AVG_PREP_VID_TIME              0\n",
       "LARGEST_ORDER_SIZE             0\n",
       "AVG_MEAN_RATING                0\n",
       "TOTAL_PHOTOS_VIEWED            0\n",
       "dtype: int64"
      ]
     },
     "execution_count": 3,
     "metadata": {},
     "output_type": "execute_result"
    }
   ],
   "source": [
    "#Finding the dataset's missing or null values\n",
    "cs.isna().sum()"
   ]
  },
  {
   "cell_type": "markdown",
   "id": "9a871f1c",
   "metadata": {},
   "source": [
    "The dataset contains no missing values. Next, I will analyze the descriptive statistics of each numeric variable."
   ]
  },
  {
   "cell_type": "code",
   "execution_count": 4,
   "id": "d5e43ced",
   "metadata": {},
   "outputs": [
    {
     "data": {
      "text/html": [
       "<div>\n",
       "<style scoped>\n",
       "    .dataframe tbody tr th:only-of-type {\n",
       "        vertical-align: middle;\n",
       "    }\n",
       "\n",
       "    .dataframe tbody tr th {\n",
       "        vertical-align: top;\n",
       "    }\n",
       "\n",
       "    .dataframe thead th {\n",
       "        text-align: right;\n",
       "    }\n",
       "</style>\n",
       "<table border=\"1\" class=\"dataframe\">\n",
       "  <thead>\n",
       "    <tr style=\"text-align: right;\">\n",
       "      <th></th>\n",
       "      <th>CROSS_SELL_SUCCESS</th>\n",
       "      <th>REVENUE</th>\n",
       "      <th>TOTAL_MEALS_ORDERED</th>\n",
       "      <th>UNIQUE_MEALS_PURCH</th>\n",
       "      <th>CONTACTS_W_CUSTOMER_SERVICE</th>\n",
       "      <th>PRODUCT_CATEGORIES_VIEWED</th>\n",
       "      <th>AVG_TIME_PER_SITE_VISIT</th>\n",
       "      <th>CANCELLATIONS_AFTER_NOON</th>\n",
       "      <th>PC_LOGINS</th>\n",
       "      <th>MOBILE_LOGINS</th>\n",
       "      <th>WEEKLY_PLAN</th>\n",
       "      <th>LATE_DELIVERIES</th>\n",
       "      <th>AVG_PREP_VID_TIME</th>\n",
       "      <th>LARGEST_ORDER_SIZE</th>\n",
       "      <th>AVG_MEAN_RATING</th>\n",
       "      <th>TOTAL_PHOTOS_VIEWED</th>\n",
       "    </tr>\n",
       "  </thead>\n",
       "  <tbody>\n",
       "    <tr>\n",
       "      <th>count</th>\n",
       "      <td>1946.00</td>\n",
       "      <td>1946.00</td>\n",
       "      <td>1946.00</td>\n",
       "      <td>1946.00</td>\n",
       "      <td>1946.0</td>\n",
       "      <td>1946.00</td>\n",
       "      <td>1946.00</td>\n",
       "      <td>1946.00</td>\n",
       "      <td>1946.00</td>\n",
       "      <td>1946.00</td>\n",
       "      <td>1946.00</td>\n",
       "      <td>1946.00</td>\n",
       "      <td>1946.00</td>\n",
       "      <td>1946.00</td>\n",
       "      <td>1946.00</td>\n",
       "      <td>1946.00</td>\n",
       "    </tr>\n",
       "    <tr>\n",
       "      <th>mean</th>\n",
       "      <td>0.68</td>\n",
       "      <td>2107.29</td>\n",
       "      <td>74.63</td>\n",
       "      <td>6.98</td>\n",
       "      <td>4.9</td>\n",
       "      <td>5.38</td>\n",
       "      <td>150.56</td>\n",
       "      <td>1.57</td>\n",
       "      <td>5.52</td>\n",
       "      <td>1.48</td>\n",
       "      <td>11.33</td>\n",
       "      <td>2.05</td>\n",
       "      <td>99.60</td>\n",
       "      <td>4.44</td>\n",
       "      <td>3.55</td>\n",
       "      <td>113.15</td>\n",
       "    </tr>\n",
       "    <tr>\n",
       "      <th>std</th>\n",
       "      <td>0.47</td>\n",
       "      <td>1138.29</td>\n",
       "      <td>55.31</td>\n",
       "      <td>2.28</td>\n",
       "      <td>2.5</td>\n",
       "      <td>3.04</td>\n",
       "      <td>49.45</td>\n",
       "      <td>1.61</td>\n",
       "      <td>0.58</td>\n",
       "      <td>0.53</td>\n",
       "      <td>13.57</td>\n",
       "      <td>3.79</td>\n",
       "      <td>62.34</td>\n",
       "      <td>1.55</td>\n",
       "      <td>0.61</td>\n",
       "      <td>177.15</td>\n",
       "    </tr>\n",
       "    <tr>\n",
       "      <th>min</th>\n",
       "      <td>0.00</td>\n",
       "      <td>131.00</td>\n",
       "      <td>11.00</td>\n",
       "      <td>1.00</td>\n",
       "      <td>1.0</td>\n",
       "      <td>1.00</td>\n",
       "      <td>33.40</td>\n",
       "      <td>0.00</td>\n",
       "      <td>4.00</td>\n",
       "      <td>0.00</td>\n",
       "      <td>0.00</td>\n",
       "      <td>0.00</td>\n",
       "      <td>10.33</td>\n",
       "      <td>1.00</td>\n",
       "      <td>1.32</td>\n",
       "      <td>1.00</td>\n",
       "    </tr>\n",
       "    <tr>\n",
       "      <th>25%</th>\n",
       "      <td>0.00</td>\n",
       "      <td>1350.00</td>\n",
       "      <td>39.00</td>\n",
       "      <td>5.00</td>\n",
       "      <td>3.0</td>\n",
       "      <td>3.00</td>\n",
       "      <td>114.40</td>\n",
       "      <td>0.00</td>\n",
       "      <td>5.00</td>\n",
       "      <td>1.00</td>\n",
       "      <td>1.00</td>\n",
       "      <td>0.00</td>\n",
       "      <td>72.00</td>\n",
       "      <td>3.00</td>\n",
       "      <td>3.16</td>\n",
       "      <td>10.00</td>\n",
       "    </tr>\n",
       "    <tr>\n",
       "      <th>50%</th>\n",
       "      <td>1.00</td>\n",
       "      <td>1740.00</td>\n",
       "      <td>60.00</td>\n",
       "      <td>7.00</td>\n",
       "      <td>5.0</td>\n",
       "      <td>5.00</td>\n",
       "      <td>145.60</td>\n",
       "      <td>1.00</td>\n",
       "      <td>6.00</td>\n",
       "      <td>1.00</td>\n",
       "      <td>7.00</td>\n",
       "      <td>0.00</td>\n",
       "      <td>94.16</td>\n",
       "      <td>4.00</td>\n",
       "      <td>3.42</td>\n",
       "      <td>17.00</td>\n",
       "    </tr>\n",
       "    <tr>\n",
       "      <th>75%</th>\n",
       "      <td>1.00</td>\n",
       "      <td>2670.00</td>\n",
       "      <td>95.00</td>\n",
       "      <td>8.00</td>\n",
       "      <td>7.0</td>\n",
       "      <td>8.00</td>\n",
       "      <td>173.78</td>\n",
       "      <td>2.00</td>\n",
       "      <td>6.00</td>\n",
       "      <td>2.00</td>\n",
       "      <td>13.00</td>\n",
       "      <td>3.00</td>\n",
       "      <td>117.29</td>\n",
       "      <td>5.00</td>\n",
       "      <td>3.95</td>\n",
       "      <td>174.00</td>\n",
       "    </tr>\n",
       "    <tr>\n",
       "      <th>max</th>\n",
       "      <td>1.00</td>\n",
       "      <td>8793.75</td>\n",
       "      <td>493.00</td>\n",
       "      <td>18.00</td>\n",
       "      <td>19.0</td>\n",
       "      <td>10.00</td>\n",
       "      <td>564.20</td>\n",
       "      <td>13.00</td>\n",
       "      <td>7.00</td>\n",
       "      <td>3.00</td>\n",
       "      <td>52.00</td>\n",
       "      <td>18.00</td>\n",
       "      <td>1645.60</td>\n",
       "      <td>11.00</td>\n",
       "      <td>5.00</td>\n",
       "      <td>1600.00</td>\n",
       "    </tr>\n",
       "  </tbody>\n",
       "</table>\n",
       "</div>"
      ],
      "text/plain": [
       "       CROSS_SELL_SUCCESS  REVENUE  TOTAL_MEALS_ORDERED  UNIQUE_MEALS_PURCH  CONTACTS_W_CUSTOMER_SERVICE  PRODUCT_CATEGORIES_VIEWED  AVG_TIME_PER_SITE_VISIT  CANCELLATIONS_AFTER_NOON  PC_LOGINS  MOBILE_LOGINS  WEEKLY_PLAN  LATE_DELIVERIES   AVG_PREP_VID_TIME  LARGEST_ORDER_SIZE  AVG_MEAN_RATING  TOTAL_PHOTOS_VIEWED\n",
       "count             1946.00  1946.00              1946.00             1946.00                       1946.0                    1946.00                  1946.00                   1946.00    1946.00        1946.00      1946.00           1946.00            1946.00             1946.00          1946.00              1946.00\n",
       "mean                 0.68  2107.29                74.63                6.98                          4.9                       5.38                   150.56                      1.57       5.52           1.48        11.33              2.05              99.60                4.44             3.55               113.15\n",
       "std                  0.47  1138.29                55.31                2.28                          2.5                       3.04                    49.45                      1.61       0.58           0.53        13.57              3.79              62.34                1.55             0.61               177.15\n",
       "min                  0.00   131.00                11.00                1.00                          1.0                       1.00                    33.40                      0.00       4.00           0.00         0.00              0.00              10.33                1.00             1.32                 1.00\n",
       "25%                  0.00  1350.00                39.00                5.00                          3.0                       3.00                   114.40                      0.00       5.00           1.00         1.00              0.00              72.00                3.00             3.16                10.00\n",
       "50%                  1.00  1740.00                60.00                7.00                          5.0                       5.00                   145.60                      1.00       6.00           1.00         7.00              0.00              94.16                4.00             3.42                17.00\n",
       "75%                  1.00  2670.00                95.00                8.00                          7.0                       8.00                   173.78                      2.00       6.00           2.00        13.00              3.00             117.29                5.00             3.95               174.00\n",
       "max                  1.00  8793.75               493.00               18.00                         19.0                      10.00                   564.20                     13.00       7.00           3.00        52.00             18.00            1645.60               11.00             5.00              1600.00"
      ]
     },
     "execution_count": 4,
     "metadata": {},
     "output_type": "execute_result"
    }
   ],
   "source": [
    "#defining and evaluating every numerical column\n",
    "cs.describe().round(2)"
   ]
  },
  {
   "cell_type": "markdown",
   "id": "428698b2",
   "metadata": {},
   "source": [
    "I noticed some intriguing findings based on the results:\n",
    "    \n",
    "The top 25% of consumers earn significantly more revenue than the other 75%. 75% of Apprentice Chef's clients produce income ranging from 131 to 2670. Between 2670 and 8800 is generated by the top 25% of clients. This is a wide range, and in light of this data, I infer that in addition to individual users, we may also have corporate consumers for whom we fulfill substantial orders. If this were a real-world scenario, I would carefully research our clientele. This is a project, so keeping that in mind is already a noteworthy remark.  \n",
    "\n",
    "Also, there is an exponential gap between the number of meals ordered by the top 25% of clients and the rest. As this is an experiment rather than a real-world job, I lack the tools to examine Apprentice Chef's clientele thoroughly. However, this finding supports my initial hypothesis that the organization has individual and corporate clients based on the distribution of values in the \"REVENUE\" column. The average number of meals ordered is 75, while clients in the third quartile order about 95. As compared to clients in the 75th percentile, the top 25% of customers order up to 493 meals. In conclusion, we have both individuals and businesses as customers."
   ]
  },
  {
   "cell_type": "code",
   "execution_count": 5,
   "id": "14625cf0",
   "metadata": {},
   "outputs": [
    {
     "name": "stdout",
     "output_type": "stream",
     "text": [
      "<class 'pandas.core.frame.DataFrame'>\n",
      "RangeIndex: 1946 entries, 0 to 1945\n",
      "Data columns (total 17 columns):\n",
      " #   Column                       Non-Null Count  Dtype  \n",
      "---  ------                       --------------  -----  \n",
      " 0   CROSS_SELL_SUCCESS           1946 non-null   int64  \n",
      " 1   EMAIL                        1946 non-null   object \n",
      " 2   REVENUE                      1946 non-null   float64\n",
      " 3   TOTAL_MEALS_ORDERED          1946 non-null   int64  \n",
      " 4   UNIQUE_MEALS_PURCH           1946 non-null   int64  \n",
      " 5   CONTACTS_W_CUSTOMER_SERVICE  1946 non-null   int64  \n",
      " 6   PRODUCT_CATEGORIES_VIEWED    1946 non-null   int64  \n",
      " 7   AVG_TIME_PER_SITE_VISIT      1946 non-null   float64\n",
      " 8   CANCELLATIONS_AFTER_NOON     1946 non-null   int64  \n",
      " 9   PC_LOGINS                    1946 non-null   int64  \n",
      " 10  MOBILE_LOGINS                1946 non-null   int64  \n",
      " 11  WEEKLY_PLAN                  1946 non-null   int64  \n",
      " 12  LATE_DELIVERIES              1946 non-null   int64  \n",
      " 13  AVG_PREP_VID_TIME            1946 non-null   float64\n",
      " 14  LARGEST_ORDER_SIZE           1946 non-null   int64  \n",
      " 15  AVG_MEAN_RATING              1946 non-null   float64\n",
      " 16  TOTAL_PHOTOS_VIEWED          1946 non-null   int64  \n",
      "dtypes: float64(4), int64(12), object(1)\n",
      "memory usage: 258.6+ KB\n"
     ]
    }
   ],
   "source": [
    "#Details on each variable\n",
    "cs.info()"
   ]
  },
  {
   "cell_type": "code",
   "execution_count": 6,
   "id": "906660d9",
   "metadata": {},
   "outputs": [
    {
     "data": {
      "text/plain": [
       "CROSS_SELL_SUCCESS             1.00\n",
       "CANCELLATIONS_AFTER_NOON       0.14\n",
       "MOBILE_LOGINS                  0.06\n",
       "UNIQUE_MEALS_PURCH             0.04\n",
       "PC_LOGINS                      0.04\n",
       "AVG_TIME_PER_SITE_VISIT        0.03\n",
       "LATE_DELIVERIES                0.02\n",
       "LARGEST_ORDER_SIZE             0.02\n",
       "TOTAL_MEALS_ORDERED            0.01\n",
       "AVG_PREP_VID_TIME              0.01\n",
       "TOTAL_PHOTOS_VIEWED            0.01\n",
       "REVENUE                        0.00\n",
       "CONTACTS_W_CUSTOMER_SERVICE   -0.00\n",
       "PRODUCT_CATEGORIES_VIEWED      0.00\n",
       "WEEKLY_PLAN                   -0.01\n",
       "AVG_MEAN_RATING               -0.04\n",
       "Name: CROSS_SELL_SUCCESS, dtype: float64"
      ]
     },
     "execution_count": 6,
     "metadata": {},
     "output_type": "execute_result"
    }
   ],
   "source": [
    "# finding the correlation between the cross-sell success and the rest of the fields\n",
    "df_corr = cs.corr(method = 'pearson').round(decimals=2)\n",
    "\n",
    "df_corr['CROSS_SELL_SUCCESS'].sort_values(ascending = False)"
   ]
  },
  {
   "cell_type": "markdown",
   "id": "5965d761",
   "metadata": {},
   "source": [
    "Create histograms to examine the distribution of each continuous variable."
   ]
  },
  {
   "cell_type": "code",
   "execution_count": 7,
   "id": "66c8a328",
   "metadata": {
    "cell_style": "split"
   },
   "outputs": [
    {
     "data": {
      "image/png": "[encoded data removed]",
      "text/plain": [
       "<Figure size 1000x500 with 1 Axes>"
      ]
     },
     "metadata": {},
     "output_type": "display_data"
    }
   ],
   "source": [
    "# developing a histogram using DISPLOT\n",
    "sns.displot(data   = cs,\n",
    "           x       = 'REVENUE',\n",
    "           height  = 5,\n",
    "           aspect  = 2)\n",
    "\n",
    "# displaying the histogram\n",
    "plt.show()"
   ]
  },
  {
   "cell_type": "code",
   "execution_count": 8,
   "id": "4cf8f156",
   "metadata": {
    "cell_style": "split"
   },
   "outputs": [
    {
     "data": {
      "image/png": "[encoded data removed]",
      "text/plain": [
       "<Figure size 1000x500 with 1 Axes>"
      ]
     },
     "metadata": {},
     "output_type": "display_data"
    }
   ],
   "source": [
    "# log transforming REVENUE and saving it to the dataset\n",
    "cs['log_REVENUE'] = np.log10(cs['REVENUE'])\n",
    "\n",
    "# developing a histogram using DISPLOT for REVENUE after log transformation\n",
    "sns.displot(data   = cs,\n",
    "            x      = 'log_REVENUE',\n",
    "            height = 5,\n",
    "            aspect = 2)\n",
    "\n",
    "\n",
    "# displaying the histogram\n",
    "plt.show()"
   ]
  },
  {
   "cell_type": "markdown",
   "id": "3cee0365",
   "metadata": {},
   "source": [
    "The first finding from the distribution is that revenue is favorably skewed. The revenue variable tends to become more regularly distributed after log transformation than the raw data."
   ]
  },
  {
   "cell_type": "code",
   "execution_count": 9,
   "id": "7ea6157d",
   "metadata": {
    "cell_style": "split"
   },
   "outputs": [
    {
     "data": {
      "image/png": "[encoded data removed]",
      "text/plain": [
       "<Figure size 1000x500 with 1 Axes>"
      ]
     },
     "metadata": {},
     "output_type": "display_data"
    }
   ],
   "source": [
    "# developing a histogram using DISPLOT\n",
    "# AVG_TIME_PER_SITE_VISIT\n",
    "sns.displot(data   = cs,\n",
    "            x      = 'AVG_TIME_PER_SITE_VISIT',\n",
    "            height = 5,\n",
    "            aspect = 2)\n",
    "\n",
    "# displaying the histogram\n",
    "plt.show()"
   ]
  },
  {
   "cell_type": "code",
   "execution_count": 10,
   "id": "a5903511",
   "metadata": {
    "cell_style": "split"
   },
   "outputs": [
    {
     "data": {
      "image/png": "[encoded data removed]",
      "text/plain": [
       "<Figure size 1000x500 with 1 Axes>"
      ]
     },
     "metadata": {},
     "output_type": "display_data"
    }
   ],
   "source": [
    "# log transforming and saving it to the dataset\n",
    "cs['log_AVG_TIME_PER_SITE_VISIT'] = np.log10(cs['AVG_TIME_PER_SITE_VISIT'])\n",
    "\n",
    "# developing a histogram using DISPLOT\n",
    "sns.displot(data   = cs,\n",
    "            x      = 'log_AVG_TIME_PER_SITE_VISIT',\n",
    "            height = 5,\n",
    "            aspect = 2)\n",
    "\n",
    "\n",
    "# displaying the histogram\n",
    "plt.show()"
   ]
  },
  {
   "cell_type": "code",
   "execution_count": 11,
   "id": "d93e000c",
   "metadata": {
    "cell_style": "split"
   },
   "outputs": [
    {
     "data": {
      "image/png": "[encoded data removed]",
      "text/plain": [
       "<Figure size 1000x500 with 1 Axes>"
      ]
     },
     "metadata": {},
     "output_type": "display_data"
    }
   ],
   "source": [
    "# developing a histogram using DISPLOT\n",
    "# AVG_PREP_VID_TIME\n",
    "sns.displot(data   = cs,\n",
    "            x      = 'AVG_PREP_VID_TIME',\n",
    "            height = 5,\n",
    "            aspect = 2)\n",
    "\n",
    "\n",
    "\n",
    "\n",
    "# displaying the histogram\n",
    "plt.show()"
   ]
  },
  {
   "cell_type": "code",
   "execution_count": 12,
   "id": "84660708",
   "metadata": {
    "cell_style": "split"
   },
   "outputs": [
    {
     "data": {
      "image/png": "[encoded data removed]",
      "text/plain": [
       "<Figure size 1000x500 with 1 Axes>"
      ]
     },
     "metadata": {},
     "output_type": "display_data"
    }
   ],
   "source": [
    "# log transforming and saving it to the dataset\n",
    "cs['log_AVG_PREP_VID_TIME'] = np.log10(cs['AVG_PREP_VID_TIME'])\n",
    "\n",
    "# developing a histogram using DISPLOT\n",
    "sns.displot(data   = cs,\n",
    "            x      = 'log_AVG_PREP_VID_TIME',\n",
    "            height = 5,\n",
    "            aspect = 2)\n",
    "\n",
    "\n",
    "# displaying the histogram\n",
    "plt.show()"
   ]
  },
  {
   "cell_type": "code",
   "execution_count": 13,
   "id": "2cd1bb3b",
   "metadata": {
    "cell_style": "split"
   },
   "outputs": [
    {
     "data": {
      "image/png": "[encoded data removed]",
      "text/plain": [
       "<Figure size 1000x500 with 1 Axes>"
      ]
     },
     "metadata": {},
     "output_type": "display_data"
    }
   ],
   "source": [
    "# developing a histogram using DISPLOT\n",
    "# AVG_MEAN_RATING\n",
    "sns.displot(data   = cs,\n",
    "            x      = 'AVG_MEAN_RATING',\n",
    "            height = 5,\n",
    "            aspect = 2)\n",
    "\n",
    "\n",
    "\n",
    "\n",
    "# displaying the histogram\n",
    "plt.show()"
   ]
  },
  {
   "cell_type": "code",
   "execution_count": 14,
   "id": "0fe7db3a",
   "metadata": {
    "cell_style": "split"
   },
   "outputs": [
    {
     "data": {
      "image/png": "[encoded data removed]",
      "text/plain": [
       "<Figure size 1000x500 with 1 Axes>"
      ]
     },
     "metadata": {},
     "output_type": "display_data"
    }
   ],
   "source": [
    "# log transforming and saving it to the dataset\n",
    "cs['log_AVG_MEAN_RATING'] = np.log10(cs['AVG_MEAN_RATING'])\n",
    "\n",
    "# developing a histogram using DISPLOT\n",
    "sns.displot(data   = cs,\n",
    "            x      = 'log_AVG_MEAN_RATING',\n",
    "            height = 5,\n",
    "            aspect = 2)\n",
    "\n",
    "\n",
    "# displaying the histogram\n",
    "plt.show()"
   ]
  },
  {
   "cell_type": "markdown",
   "id": "7ca20d54",
   "metadata": {},
   "source": [
    "As can be observed from the distribution above, AVG_TIME_PER_SITE_VISIT is skewed positive with outliers on the right side. After applying log transformation, the AVG_TIME_PER_SITE_VISIT variable tends to become more generally distributed than the original data. Also,  AVG_PREP_VID_TIME and AVG_PREP_VID_TIME were skewed positive. After applying log transformation, AVG_PREP_VID_TIME and AVG_PREP_VID_TIME variables become more normally distributed than the original data."
   ]
  },
  {
   "cell_type": "markdown",
   "id": "89b038f7",
   "metadata": {},
   "source": [
    "Checking the correlation between CROSS SELL SUCCESS and continuous variables."
   ]
  },
  {
   "cell_type": "code",
   "execution_count": 15,
   "id": "fb92f191",
   "metadata": {},
   "outputs": [
    {
     "data": {
      "text/plain": [
       "CROSS_SELL_SUCCESS             1.00\n",
       "AVG_TIME_PER_SITE_VISIT        0.03\n",
       "log_AVG_TIME_PER_SITE_VISIT    0.03\n",
       "log_AVG_PREP_VID_TIME          0.02\n",
       "AVG_PREP_VID_TIME              0.01\n",
       "log_REVENUE                    0.01\n",
       "REVENUE                        0.00\n",
       "log_AVG_MEAN_RATING           -0.03\n",
       "AVG_MEAN_RATING               -0.04\n",
       "Name: CROSS_SELL_SUCCESS, dtype: float64"
      ]
     },
     "execution_count": 15,
     "metadata": {},
     "output_type": "execute_result"
    }
   ],
   "source": [
    "# building a correlation matrix based on continuous features\n",
    "cont_corr = cs.loc[ : , ['REVENUE',\n",
    "                             'AVG_TIME_PER_SITE_VISIT',\n",
    "                             'AVG_PREP_VID_TIME',\n",
    "                             'AVG_MEAN_RATING',\n",
    "                             'log_AVG_PREP_VID_TIME',\n",
    "                             'log_REVENUE',\n",
    "                             'log_AVG_TIME_PER_SITE_VISIT',\n",
    "                             'log_AVG_MEAN_RATING',\n",
    "                             'CROSS_SELL_SUCCESS']  ].corr(method = 'pearson')\\\n",
    "                                                     .round(decimals = 2)\n",
    "\n",
    "\n",
    "# calculating the correlations between each continuous column and CROSS_SELL_SUCCESS\n",
    "cont_corr.loc['CROSS_SELL_SUCCESS', : ].sort_values(ascending = False)"
   ]
  },
  {
   "cell_type": "markdown",
   "id": "11256812",
   "metadata": {},
   "source": [
    "Continuous variables have weak correlation with CROSS_SELL_SUCCESS."
   ]
  },
  {
   "cell_type": "markdown",
   "id": "8fc879b2",
   "metadata": {},
   "source": [
    "Analysising the correlation between the explanatory variables and the response variable (CROSS SELL SUCCESS)."
   ]
  },
  {
   "cell_type": "code",
   "execution_count": 16,
   "id": "094c9b57",
   "metadata": {},
   "outputs": [
    {
     "data": {
      "text/plain": [
       "CROSS_SELL_SUCCESS             1.00\n",
       "CANCELLATIONS_AFTER_NOON       0.14\n",
       "MOBILE_LOGINS                  0.06\n",
       "UNIQUE_MEALS_PURCH             0.04\n",
       "PC_LOGINS                      0.04\n",
       "LATE_DELIVERIES                0.02\n",
       "LARGEST_ORDER_SIZE             0.02\n",
       "TOTAL_MEALS_ORDERED            0.01\n",
       "TOTAL_PHOTOS_VIEWED            0.01\n",
       "CONTACTS_W_CUSTOMER_SERVICE   -0.00\n",
       "PRODUCT_CATEGORIES_VIEWED      0.00\n",
       "WEEKLY_PLAN                   -0.01\n",
       "Name: CROSS_SELL_SUCCESS, dtype: float64"
      ]
     },
     "execution_count": 16,
     "metadata": {},
     "output_type": "execute_result"
    }
   ],
   "source": [
    "# developing a correlation matrix\n",
    "interval_corr = cs.drop(['REVENUE',\n",
    "                             'AVG_TIME_PER_SITE_VISIT',\n",
    "                             'AVG_PREP_VID_TIME',\n",
    "                             'AVG_MEAN_RATING',\n",
    "                             'log_AVG_PREP_VID_TIME',\n",
    "                             'log_REVENUE',\n",
    "                             'log_AVG_TIME_PER_SITE_VISIT',\n",
    "                             'log_AVG_MEAN_RATING',], axis = 1)\\\n",
    "                    .corr(method = 'pearson')\\\n",
    "                    .round(decimals = 2)\n",
    "\n",
    "# checking the correlations\n",
    "interval_corr.loc['CROSS_SELL_SUCCESS', : ]\\\n",
    "                    .sort_values(ascending = False)"
   ]
  },
  {
   "cell_type": "markdown",
   "id": "cfb74362",
   "metadata": {},
   "source": [
    "CANCELLATIONS_BEFORE_NOON\n",
    "\n",
    "MOBILE_LOGINS\n",
    "\n",
    "UNIQUE_MEALS_PURCH\n",
    "\n",
    "PC_LOGINS\n",
    "\n",
    "These variables have a Positive correlation  with the success of cross-selling promotion, will use some of them in feature engineering."
   ]
  },
  {
   "cell_type": "markdown",
   "id": "3d99811d",
   "metadata": {},
   "source": [
    "# Feature Engineering"
   ]
  },
  {
   "cell_type": "code",
   "execution_count": 17,
   "id": "f0fb7f46",
   "metadata": {},
   "outputs": [
    {
     "name": "stdout",
     "output_type": "stream",
     "text": [
      "\n",
      "--------------------------------\n",
      "Total number of logins\n",
      "--------------------------------\n",
      "5     30\n",
      "6    487\n",
      "7    927\n",
      "8    472\n",
      "9     30\n",
      "Name: Total_Logins, dtype: int64\n",
      "\n",
      "\n"
     ]
    }
   ],
   "source": [
    "# total number of logins\n",
    "cs['Total_Logins'] = cs['MOBILE_LOGINS'] + cs['PC_LOGINS']\n",
    "\n",
    "# printing value counts\n",
    "print(f\"\"\"\n",
    "--------------------------------\n",
    "Total number of logins\n",
    "--------------------------------\n",
    "{cs['Total_Logins'].value_counts(normalize = False).sort_index()}\n",
    "\n",
    "\"\"\")"
   ]
  },
  {
   "cell_type": "code",
   "execution_count": 18,
   "id": "43faa629",
   "metadata": {},
   "outputs": [
    {
     "name": "stdout",
     "output_type": "stream",
     "text": [
      "\n",
      "Total Logins\n",
      "=================\n",
      "\n",
      "-------------------------------\n",
      "Total_Logins Correlations\n",
      "-------------------------------\n",
      "PC_LOGINS             0.04\n",
      "MOBILE_LOGINS         0.06\n",
      "Total_Logins          0.07\n",
      "CROSS_SELL_SUCCESS    1.00\n",
      "Name: CROSS_SELL_SUCCESS, dtype: float64\n",
      "\n",
      "\n"
     ]
    }
   ],
   "source": [
    "# developing a correlation matrix\n",
    "logins_corr = cs.loc[ : , ['PC_LOGINS',\n",
    "                             'MOBILE_LOGINS',\n",
    "                             'Total_Logins',\n",
    "                             'CROSS_SELL_SUCCESS']  ].corr(method = 'pearson')\\\n",
    "                                              .round(decimals = 2)\n",
    "\n",
    "\n",
    "# printing value counts and correlations\n",
    "print(f\"\"\"\n",
    "Total Logins\n",
    "=================\n",
    "\n",
    "-------------------------------\n",
    "Total_Logins Correlations\n",
    "-------------------------------\n",
    "{logins_corr['CROSS_SELL_SUCCESS']}\n",
    "\n",
    "\"\"\")"
   ]
  },
  {
   "cell_type": "markdown",
   "id": "8f04a1c6",
   "metadata": {},
   "source": [
    "Total_Logins have a Positive correlation with CROSS_SELL_SUCCESS."
   ]
  },
  {
   "cell_type": "code",
   "execution_count": 19,
   "id": "60dea004",
   "metadata": {},
   "outputs": [
    {
     "name": "stdout",
     "output_type": "stream",
     "text": [
      "\n",
      "                 No\t\tYes\n",
      "               ---------------------\n",
      "Revenue              | 0\t\t1946\n",
      "Meals Ordered        | 0\t\t1946\n",
      "Unique Meals         | 0\t\t1946\n",
      "Customer Service     | 0\t\t1946\n",
      "Product Categories   | 0\t\t1946\n",
      "Site Visit           | 0\t\t1946\n",
      "Cancellations        | 572\t\t1374\n",
      "PC Logins            | 0\t\t1946\n",
      "Mobile Logins        | 16\t\t1930\n",
      "Weekly Plans         | 468\t\t1478\n",
      "Late Delivery        | 1433\t\t513\n",
      "Video Time           | 0\t\t1946\n",
      "Largest Order        | 0\t\t1946\n",
      "Ratings              | 0\t\t1946\n",
      "Photos               | 0\t\t1946 \n"
     ]
    }
   ],
   "source": [
    "# counting the number of zeroes\n",
    "\n",
    "rev_zeroes         = len(cs['REVENUE'][cs[\"REVENUE\"] == 0]) # REVENUE\n",
    "tmo_zeroes         = len(cs['TOTAL_MEALS_ORDERED'][cs[\"TOTAL_MEALS_ORDERED\"] == 0]) # TOTAL_MEALS_ORDERED \n",
    "purch_zeroes       = len(cs['UNIQUE_MEALS_PURCH'][cs[\"UNIQUE_MEALS_PURCH\"] == 0]) # UNIQUE_MEALS_PURCH \n",
    "customer_zeroes    = len(cs['CONTACTS_W_CUSTOMER_SERVICE'][cs[\"CONTACTS_W_CUSTOMER_SERVICE\"] == 0]) # CONTACTS_W_CUSTOMER_SERVICE \n",
    "pd_cat_zeroes      = len(cs['PRODUCT_CATEGORIES_VIEWED'][cs[\"PRODUCT_CATEGORIES_VIEWED\"] == 0]) # PRODUCT_CATEGORIES_VIEWED\n",
    "site_zeroes        = len(cs['AVG_TIME_PER_SITE_VISIT'][cs[\"AVG_TIME_PER_SITE_VISIT\"] == 0]) # AVG_TIME_PER_SITE_VISIT\n",
    "cancel_zeroes      = len(cs['CANCELLATIONS_AFTER_NOON'][cs[\"CANCELLATIONS_AFTER_NOON\"] == 0]) # CANCELLATIONS_AFTER_NOON\n",
    "pc_zeroes          = len(cs['PC_LOGINS'][cs[\"PC_LOGINS\"] == 0]) # PC_LOGINS \n",
    "mobile_zeroes      = len(cs['MOBILE_LOGINS'][cs[\"MOBILE_LOGINS\"] == 0]) # MOBILE_LOGINS\n",
    "plan_zeroes        = len(cs['WEEKLY_PLAN'][cs[\"WEEKLY_PLAN\"] == 0]) # WEEKLY_PLAN\n",
    "late_dv_zeroes     = len(cs['LATE_DELIVERIES '][cs[\"LATE_DELIVERIES \"] == 0]) # LATE_DELIVERIES\n",
    "vid_zeroes         = len(cs['AVG_PREP_VID_TIME'][cs[\"AVG_PREP_VID_TIME\"] == 0]) # AVG_PREP_VID_TIME\n",
    "order_zeroes       = len(cs['LARGEST_ORDER_SIZE'][cs[\"LARGEST_ORDER_SIZE\"] == 0]) # LARGEST_ORDER_SIZE \n",
    "rating_zeroes      = len(cs['AVG_MEAN_RATING'][cs[\"AVG_MEAN_RATING\"] == 0]) # AVG_MEAN_RATING\n",
    "photo_zeroes       = len(cs['TOTAL_PHOTOS_VIEWED'][cs[\"TOTAL_PHOTOS_VIEWED\"] == 0]) # TOTAL_PHOTOS_VIEWED\n",
    "\n",
    "# printing a table of the results\n",
    "print(f\"\"\"\n",
    "                 No\\t\\tYes\n",
    "               ---------------------\n",
    "Revenue              | {rev_zeroes}\\t\\t{len(cs) - rev_zeroes}\n",
    "Meals Ordered        | {tmo_zeroes}\\t\\t{len(cs) - tmo_zeroes}\n",
    "Unique Meals         | {purch_zeroes}\\t\\t{len(cs) - purch_zeroes}\n",
    "Customer Service     | {customer_zeroes}\\t\\t{len(cs) - customer_zeroes}\n",
    "Product Categories   | {pd_cat_zeroes}\\t\\t{len(cs) - pd_cat_zeroes}\n",
    "Site Visit           | {site_zeroes}\\t\\t{len(cs) - site_zeroes}\n",
    "Cancellations        | {cancel_zeroes}\\t\\t{len(cs) - cancel_zeroes}\n",
    "PC Logins            | {pc_zeroes}\\t\\t{len(cs) - pc_zeroes}\n",
    "Mobile Logins        | {mobile_zeroes}\\t\\t{len(cs) - mobile_zeroes}\n",
    "Weekly Plans         | {plan_zeroes}\\t\\t{len(cs) - plan_zeroes}\n",
    "Late Delivery        | {late_dv_zeroes}\\t\\t{len(cs) - late_dv_zeroes}\n",
    "Video Time           | {vid_zeroes}\\t\\t{len(cs) - vid_zeroes}\n",
    "Largest Order        | {order_zeroes}\\t\\t{len(cs) - order_zeroes}\n",
    "Ratings              | {rating_zeroes}\\t\\t{len(cs) - rating_zeroes}\n",
    "Photos               | {photo_zeroes}\\t\\t{len(cs) - photo_zeroes} \"\"\")"
   ]
  },
  {
   "cell_type": "markdown",
   "id": "2056f725",
   "metadata": {},
   "source": [
    "Splitting Emails. It's crucial to divide the emails so that we may use them effectively in various groups. This will help us track down our consumers more effectively and gain more valuable information."
   ]
  },
  {
   "cell_type": "code",
   "execution_count": 20,
   "id": "fe8486dd",
   "metadata": {},
   "outputs": [],
   "source": [
    "# placeholder list\n",
    "email_lst = []\n",
    "\n",
    "# looping over each email address\n",
    "for index, col in cs.iterrows():\n",
    "    \n",
    "    # splitting email domain at '@'\n",
    "    email_info = cs.loc[index,'EMAIL'].split(sep = '@')\n",
    "\n",
    "    \n",
    "    # appending placeholder_lst with the results\n",
    "    email_lst.append(email_info)\n",
    "    \n",
    "# converting placeholder_lst into a DataFrame \n",
    "df_temp = pd.DataFrame(email_lst)"
   ]
  },
  {
   "cell_type": "code",
   "execution_count": 21,
   "id": "ad2487cf",
   "metadata": {},
   "outputs": [
    {
     "data": {
      "text/html": [
       "<div>\n",
       "<style scoped>\n",
       "    .dataframe tbody tr th:only-of-type {\n",
       "        vertical-align: middle;\n",
       "    }\n",
       "\n",
       "    .dataframe tbody tr th {\n",
       "        vertical-align: top;\n",
       "    }\n",
       "\n",
       "    .dataframe thead th {\n",
       "        text-align: right;\n",
       "    }\n",
       "</style>\n",
       "<table border=\"1\" class=\"dataframe\">\n",
       "  <thead>\n",
       "    <tr style=\"text-align: right;\">\n",
       "      <th></th>\n",
       "      <th>0</th>\n",
       "      <th>1</th>\n",
       "    </tr>\n",
       "  </thead>\n",
       "  <tbody>\n",
       "    <tr>\n",
       "      <th>0</th>\n",
       "      <td>steffon.baratheon</td>\n",
       "      <td>yahoo.com</td>\n",
       "    </tr>\n",
       "    <tr>\n",
       "      <th>1</th>\n",
       "      <td>harlon.greyjoy</td>\n",
       "      <td>visa.com</td>\n",
       "    </tr>\n",
       "    <tr>\n",
       "      <th>2</th>\n",
       "      <td>monster</td>\n",
       "      <td>protonmail.com</td>\n",
       "    </tr>\n",
       "    <tr>\n",
       "      <th>3</th>\n",
       "      <td>damon.lannister.(lord)</td>\n",
       "      <td>yahoo.com</td>\n",
       "    </tr>\n",
       "    <tr>\n",
       "      <th>4</th>\n",
       "      <td>raynald.westerling</td>\n",
       "      <td>jnj.com</td>\n",
       "    </tr>\n",
       "    <tr>\n",
       "      <th>...</th>\n",
       "      <td>...</td>\n",
       "      <td>...</td>\n",
       "    </tr>\n",
       "    <tr>\n",
       "      <th>1941</th>\n",
       "      <td>wat.(barleycorn)</td>\n",
       "      <td>live.com</td>\n",
       "    </tr>\n",
       "    <tr>\n",
       "      <th>1942</th>\n",
       "      <td>hendry.bracken</td>\n",
       "      <td>exxon.com</td>\n",
       "    </tr>\n",
       "    <tr>\n",
       "      <th>1943</th>\n",
       "      <td>aenys.i.targaryen</td>\n",
       "      <td>passport.com</td>\n",
       "    </tr>\n",
       "    <tr>\n",
       "      <th>1944</th>\n",
       "      <td>leo.blackbar</td>\n",
       "      <td>pg.com</td>\n",
       "    </tr>\n",
       "    <tr>\n",
       "      <th>1945</th>\n",
       "      <td>anguy</td>\n",
       "      <td>boeing.com</td>\n",
       "    </tr>\n",
       "  </tbody>\n",
       "</table>\n",
       "<p>1946 rows × 2 columns</p>\n",
       "</div>"
      ],
      "text/plain": [
       "                           0               1\n",
       "0          steffon.baratheon       yahoo.com\n",
       "1             harlon.greyjoy        visa.com\n",
       "2                    monster  protonmail.com\n",
       "3     damon.lannister.(lord)       yahoo.com\n",
       "4         raynald.westerling         jnj.com\n",
       "...                      ...             ...\n",
       "1941        wat.(barleycorn)        live.com\n",
       "1942          hendry.bracken       exxon.com\n",
       "1943       aenys.i.targaryen    passport.com\n",
       "1944            leo.blackbar          pg.com\n",
       "1945                   anguy      boeing.com\n",
       "\n",
       "[1946 rows x 2 columns]"
      ]
     },
     "execution_count": 21,
     "metadata": {},
     "output_type": "execute_result"
    }
   ],
   "source": [
    "# checking results \n",
    "df_temp"
   ]
  },
  {
   "cell_type": "code",
   "execution_count": 22,
   "id": "c9077e30",
   "metadata": {},
   "outputs": [],
   "source": [
    "#Setting Personal, Professional and Junk Emails\n",
    "personal      = ['@gmail.com',\n",
    "                               '@yahoo.com',\n",
    "                               '@protonmail.com']\n",
    "\n",
    "professional                 = ['@mmm.com',\n",
    "                               '@amex.com',\n",
    "                               '@apple.com',\n",
    "                               '@boeing.com',\n",
    "                               '@caterpillar.com',\n",
    "                               '@chevron.com',\n",
    "                               '@cisco.com',\n",
    "                               '@cocacola.com',\n",
    "                               '@disney.com',\n",
    "                               '@dupont.com',\n",
    "                               '@exxon.com',\n",
    "                               '@ge.org',\n",
    "                               '@goldmansacs.com',\n",
    "                               '@homedepot.com',\n",
    "                               '@ibm.com',\n",
    "                               '@intel.com',\n",
    "                               '@jnj.com',\n",
    "                               '@jpmorgan.com',\n",
    "                               '@mcdonalds.com',\n",
    "                               '@merck.com',\n",
    "                               '@microsoft.com',\n",
    "                               '@nike.com',\n",
    "                               '@pfizer.com',\n",
    "                               '@pg.com',\n",
    "                               '@travelers.com',\n",
    "                               '@unitedtech.com',\n",
    "                               '@unitedhealth.com',\n",
    "                               '@verizon.com',\n",
    "                               '@visa.com',\n",
    "                               '@walmart.com']\n",
    "\n",
    "junk                        = ['@me.com',\n",
    "                            '@aol.com',\n",
    "                            '@hotmail.com',\n",
    "                            '@live.com',\n",
    "                            '@msn.com',\n",
    "                            '@passport.com']"
   ]
  },
  {
   "cell_type": "code",
   "execution_count": 23,
   "id": "c722ff6f",
   "metadata": {},
   "outputs": [
    {
     "data": {
      "text/plain": [
       "personal        861\n",
       "professional    696\n",
       "junk            389\n",
       "Name: DOMAIN, dtype: int64"
      ]
     },
     "execution_count": 23,
     "metadata": {},
     "output_type": "execute_result"
    }
   ],
   "source": [
    "# placeholder list\n",
    "email_lst2 = []\n",
    "\n",
    "\n",
    "# looping to group observations by domain type\n",
    "for domain in df_temp[1]:\n",
    "        if '@' + domain in personal:\n",
    "            email_lst2.append('personal')\n",
    "            \n",
    "        elif '@' + domain in professional:\n",
    "            email_lst2.append('professional')\n",
    "           \n",
    "        elif '@' + domain in junk:\n",
    "            email_lst2.append('junk')\n",
    "            \n",
    "        else:\n",
    "            print('Unknown')\n",
    "\n",
    "\n",
    "# concatenating with original DataFrame\n",
    "cs['DOMAIN'] = pd.Series(email_lst2)\n",
    "\n",
    "# checking results\n",
    "cs['DOMAIN'].value_counts()"
   ]
  },
  {
   "cell_type": "code",
   "execution_count": 24,
   "id": "30ed074c",
   "metadata": {},
   "outputs": [
    {
     "data": {
      "text/html": [
       "<div>\n",
       "<style scoped>\n",
       "    .dataframe tbody tr th:only-of-type {\n",
       "        vertical-align: middle;\n",
       "    }\n",
       "\n",
       "    .dataframe tbody tr th {\n",
       "        vertical-align: top;\n",
       "    }\n",
       "\n",
       "    .dataframe thead th {\n",
       "        text-align: right;\n",
       "    }\n",
       "</style>\n",
       "<table border=\"1\" class=\"dataframe\">\n",
       "  <thead>\n",
       "    <tr style=\"text-align: right;\">\n",
       "      <th></th>\n",
       "      <th>CROSS_SELL_SUCCESS</th>\n",
       "      <th>EMAIL</th>\n",
       "      <th>REVENUE</th>\n",
       "      <th>TOTAL_MEALS_ORDERED</th>\n",
       "      <th>UNIQUE_MEALS_PURCH</th>\n",
       "      <th>CONTACTS_W_CUSTOMER_SERVICE</th>\n",
       "      <th>PRODUCT_CATEGORIES_VIEWED</th>\n",
       "      <th>AVG_TIME_PER_SITE_VISIT</th>\n",
       "      <th>CANCELLATIONS_AFTER_NOON</th>\n",
       "      <th>PC_LOGINS</th>\n",
       "      <th>MOBILE_LOGINS</th>\n",
       "      <th>WEEKLY_PLAN</th>\n",
       "      <th>LATE_DELIVERIES</th>\n",
       "      <th>AVG_PREP_VID_TIME</th>\n",
       "      <th>LARGEST_ORDER_SIZE</th>\n",
       "      <th>AVG_MEAN_RATING</th>\n",
       "      <th>TOTAL_PHOTOS_VIEWED</th>\n",
       "      <th>log_REVENUE</th>\n",
       "      <th>log_AVG_TIME_PER_SITE_VISIT</th>\n",
       "      <th>log_AVG_PREP_VID_TIME</th>\n",
       "      <th>log_AVG_MEAN_RATING</th>\n",
       "      <th>Total_Logins</th>\n",
       "      <th>DOMAIN</th>\n",
       "    </tr>\n",
       "  </thead>\n",
       "  <tbody>\n",
       "    <tr>\n",
       "      <th>0</th>\n",
       "      <td>1</td>\n",
       "      <td>steffon.baratheon@yahoo.com</td>\n",
       "      <td>4920.0</td>\n",
       "      <td>493</td>\n",
       "      <td>9</td>\n",
       "      <td>1</td>\n",
       "      <td>10</td>\n",
       "      <td>265.6</td>\n",
       "      <td>5</td>\n",
       "      <td>5</td>\n",
       "      <td>2</td>\n",
       "      <td>0</td>\n",
       "      <td>0</td>\n",
       "      <td>137.41</td>\n",
       "      <td>6</td>\n",
       "      <td>2.894737</td>\n",
       "      <td>456</td>\n",
       "      <td>3.691965</td>\n",
       "      <td>2.424228</td>\n",
       "      <td>2.138018</td>\n",
       "      <td>0.461609</td>\n",
       "      <td>7</td>\n",
       "      <td>personal</td>\n",
       "    </tr>\n",
       "    <tr>\n",
       "      <th>1</th>\n",
       "      <td>0</td>\n",
       "      <td>harlon.greyjoy@visa.com</td>\n",
       "      <td>6150.0</td>\n",
       "      <td>361</td>\n",
       "      <td>9</td>\n",
       "      <td>1</td>\n",
       "      <td>6</td>\n",
       "      <td>247.0</td>\n",
       "      <td>2</td>\n",
       "      <td>5</td>\n",
       "      <td>1</td>\n",
       "      <td>0</td>\n",
       "      <td>0</td>\n",
       "      <td>120.20</td>\n",
       "      <td>5</td>\n",
       "      <td>2.631579</td>\n",
       "      <td>680</td>\n",
       "      <td>3.788875</td>\n",
       "      <td>2.392697</td>\n",
       "      <td>2.079904</td>\n",
       "      <td>0.420216</td>\n",
       "      <td>6</td>\n",
       "      <td>professional</td>\n",
       "    </tr>\n",
       "    <tr>\n",
       "      <th>2</th>\n",
       "      <td>0</td>\n",
       "      <td>monster@protonmail.com</td>\n",
       "      <td>3435.0</td>\n",
       "      <td>278</td>\n",
       "      <td>6</td>\n",
       "      <td>1</td>\n",
       "      <td>4</td>\n",
       "      <td>164.4</td>\n",
       "      <td>0</td>\n",
       "      <td>6</td>\n",
       "      <td>1</td>\n",
       "      <td>5</td>\n",
       "      <td>0</td>\n",
       "      <td>127.00</td>\n",
       "      <td>3</td>\n",
       "      <td>3.684211</td>\n",
       "      <td>145</td>\n",
       "      <td>3.535927</td>\n",
       "      <td>2.215902</td>\n",
       "      <td>2.103804</td>\n",
       "      <td>0.566344</td>\n",
       "      <td>7</td>\n",
       "      <td>personal</td>\n",
       "    </tr>\n",
       "    <tr>\n",
       "      <th>3</th>\n",
       "      <td>1</td>\n",
       "      <td>damon.lannister.(lord)@yahoo.com</td>\n",
       "      <td>3330.0</td>\n",
       "      <td>269</td>\n",
       "      <td>8</td>\n",
       "      <td>1</td>\n",
       "      <td>2</td>\n",
       "      <td>176.0</td>\n",
       "      <td>5</td>\n",
       "      <td>5</td>\n",
       "      <td>2</td>\n",
       "      <td>0</td>\n",
       "      <td>0</td>\n",
       "      <td>129.78</td>\n",
       "      <td>6</td>\n",
       "      <td>3.157895</td>\n",
       "      <td>418</td>\n",
       "      <td>3.522444</td>\n",
       "      <td>2.245513</td>\n",
       "      <td>2.113208</td>\n",
       "      <td>0.499398</td>\n",
       "      <td>7</td>\n",
       "      <td>personal</td>\n",
       "    </tr>\n",
       "    <tr>\n",
       "      <th>4</th>\n",
       "      <td>1</td>\n",
       "      <td>raynald.westerling@jnj.com</td>\n",
       "      <td>3427.5</td>\n",
       "      <td>276</td>\n",
       "      <td>7</td>\n",
       "      <td>1</td>\n",
       "      <td>10</td>\n",
       "      <td>164.6</td>\n",
       "      <td>0</td>\n",
       "      <td>6</td>\n",
       "      <td>1</td>\n",
       "      <td>14</td>\n",
       "      <td>0</td>\n",
       "      <td>34.42</td>\n",
       "      <td>3</td>\n",
       "      <td>3.157895</td>\n",
       "      <td>174</td>\n",
       "      <td>3.534977</td>\n",
       "      <td>2.216430</td>\n",
       "      <td>1.536811</td>\n",
       "      <td>0.499398</td>\n",
       "      <td>7</td>\n",
       "      <td>professional</td>\n",
       "    </tr>\n",
       "  </tbody>\n",
       "</table>\n",
       "</div>"
      ],
      "text/plain": [
       "   CROSS_SELL_SUCCESS                             EMAIL  REVENUE  TOTAL_MEALS_ORDERED  UNIQUE_MEALS_PURCH  CONTACTS_W_CUSTOMER_SERVICE  PRODUCT_CATEGORIES_VIEWED  AVG_TIME_PER_SITE_VISIT  CANCELLATIONS_AFTER_NOON  PC_LOGINS  MOBILE_LOGINS  WEEKLY_PLAN  LATE_DELIVERIES   AVG_PREP_VID_TIME  LARGEST_ORDER_SIZE  AVG_MEAN_RATING  TOTAL_PHOTOS_VIEWED  log_REVENUE  log_AVG_TIME_PER_SITE_VISIT  log_AVG_PREP_VID_TIME  log_AVG_MEAN_RATING  Total_Logins        DOMAIN\n",
       "0                   1       steffon.baratheon@yahoo.com   4920.0                  493                   9                            1                         10                    265.6                         5          5              2            0                 0             137.41                   6         2.894737                  456     3.691965                     2.424228               2.138018             0.461609             7      personal\n",
       "1                   0           harlon.greyjoy@visa.com   6150.0                  361                   9                            1                          6                    247.0                         2          5              1            0                 0             120.20                   5         2.631579                  680     3.788875                     2.392697               2.079904             0.420216             6  professional\n",
       "2                   0            monster@protonmail.com   3435.0                  278                   6                            1                          4                    164.4                         0          6              1            5                 0             127.00                   3         3.684211                  145     3.535927                     2.215902               2.103804             0.566344             7      personal\n",
       "3                   1  damon.lannister.(lord)@yahoo.com   3330.0                  269                   8                            1                          2                    176.0                         5          5              2            0                 0             129.78                   6         3.157895                  418     3.522444                     2.245513               2.113208             0.499398             7      personal\n",
       "4                   1        raynald.westerling@jnj.com   3427.5                  276                   7                            1                         10                    164.6                         0          6              1           14                 0              34.42                   3         3.157895                  174     3.534977                     2.216430               1.536811             0.499398             7  professional"
      ]
     },
     "execution_count": 24,
     "metadata": {},
     "output_type": "execute_result"
    }
   ],
   "source": [
    "# checking results\n",
    "cs.head()"
   ]
  },
  {
   "cell_type": "code",
   "execution_count": 25,
   "id": "1121bbc5",
   "metadata": {},
   "outputs": [],
   "source": [
    "#Creating dummies for Emails\n",
    "Dummy      = pd.get_dummies(cs['DOMAIN'])"
   ]
  },
  {
   "cell_type": "code",
   "execution_count": 26,
   "id": "c891a69e",
   "metadata": {},
   "outputs": [],
   "source": [
    "cs        = cs.drop('EMAIL', axis = 1)\n",
    "cs        = cs.drop('DOMAIN', axis = 1)"
   ]
  },
  {
   "cell_type": "code",
   "execution_count": 27,
   "id": "50d1359d",
   "metadata": {},
   "outputs": [],
   "source": [
    "#joining column\n",
    "cs        = cs.join([Dummy])"
   ]
  },
  {
   "cell_type": "code",
   "execution_count": 28,
   "id": "bff01cf6",
   "metadata": {},
   "outputs": [
    {
     "data": {
      "text/html": [
       "<div>\n",
       "<style scoped>\n",
       "    .dataframe tbody tr th:only-of-type {\n",
       "        vertical-align: middle;\n",
       "    }\n",
       "\n",
       "    .dataframe tbody tr th {\n",
       "        vertical-align: top;\n",
       "    }\n",
       "\n",
       "    .dataframe thead th {\n",
       "        text-align: right;\n",
       "    }\n",
       "</style>\n",
       "<table border=\"1\" class=\"dataframe\">\n",
       "  <thead>\n",
       "    <tr style=\"text-align: right;\">\n",
       "      <th></th>\n",
       "      <th>CROSS_SELL_SUCCESS</th>\n",
       "      <th>REVENUE</th>\n",
       "      <th>TOTAL_MEALS_ORDERED</th>\n",
       "      <th>UNIQUE_MEALS_PURCH</th>\n",
       "      <th>CONTACTS_W_CUSTOMER_SERVICE</th>\n",
       "      <th>PRODUCT_CATEGORIES_VIEWED</th>\n",
       "      <th>AVG_TIME_PER_SITE_VISIT</th>\n",
       "      <th>CANCELLATIONS_AFTER_NOON</th>\n",
       "      <th>PC_LOGINS</th>\n",
       "      <th>MOBILE_LOGINS</th>\n",
       "      <th>WEEKLY_PLAN</th>\n",
       "      <th>LATE_DELIVERIES</th>\n",
       "      <th>AVG_PREP_VID_TIME</th>\n",
       "      <th>LARGEST_ORDER_SIZE</th>\n",
       "      <th>AVG_MEAN_RATING</th>\n",
       "      <th>TOTAL_PHOTOS_VIEWED</th>\n",
       "      <th>log_REVENUE</th>\n",
       "      <th>log_AVG_TIME_PER_SITE_VISIT</th>\n",
       "      <th>log_AVG_PREP_VID_TIME</th>\n",
       "      <th>log_AVG_MEAN_RATING</th>\n",
       "      <th>Total_Logins</th>\n",
       "      <th>junk</th>\n",
       "      <th>personal</th>\n",
       "      <th>professional</th>\n",
       "    </tr>\n",
       "  </thead>\n",
       "  <tbody>\n",
       "    <tr>\n",
       "      <th>0</th>\n",
       "      <td>1</td>\n",
       "      <td>4920.000</td>\n",
       "      <td>493</td>\n",
       "      <td>9</td>\n",
       "      <td>1</td>\n",
       "      <td>10</td>\n",
       "      <td>265.6</td>\n",
       "      <td>5</td>\n",
       "      <td>5</td>\n",
       "      <td>2</td>\n",
       "      <td>0</td>\n",
       "      <td>0</td>\n",
       "      <td>137.41</td>\n",
       "      <td>6</td>\n",
       "      <td>2.894737</td>\n",
       "      <td>456</td>\n",
       "      <td>3.691965</td>\n",
       "      <td>2.424228</td>\n",
       "      <td>2.138018</td>\n",
       "      <td>0.461609</td>\n",
       "      <td>7</td>\n",
       "      <td>0</td>\n",
       "      <td>1</td>\n",
       "      <td>0</td>\n",
       "    </tr>\n",
       "    <tr>\n",
       "      <th>1</th>\n",
       "      <td>0</td>\n",
       "      <td>6150.000</td>\n",
       "      <td>361</td>\n",
       "      <td>9</td>\n",
       "      <td>1</td>\n",
       "      <td>6</td>\n",
       "      <td>247.0</td>\n",
       "      <td>2</td>\n",
       "      <td>5</td>\n",
       "      <td>1</td>\n",
       "      <td>0</td>\n",
       "      <td>0</td>\n",
       "      <td>120.20</td>\n",
       "      <td>5</td>\n",
       "      <td>2.631579</td>\n",
       "      <td>680</td>\n",
       "      <td>3.788875</td>\n",
       "      <td>2.392697</td>\n",
       "      <td>2.079904</td>\n",
       "      <td>0.420216</td>\n",
       "      <td>6</td>\n",
       "      <td>0</td>\n",
       "      <td>0</td>\n",
       "      <td>1</td>\n",
       "    </tr>\n",
       "    <tr>\n",
       "      <th>2</th>\n",
       "      <td>0</td>\n",
       "      <td>3435.000</td>\n",
       "      <td>278</td>\n",
       "      <td>6</td>\n",
       "      <td>1</td>\n",
       "      <td>4</td>\n",
       "      <td>164.4</td>\n",
       "      <td>0</td>\n",
       "      <td>6</td>\n",
       "      <td>1</td>\n",
       "      <td>5</td>\n",
       "      <td>0</td>\n",
       "      <td>127.00</td>\n",
       "      <td>3</td>\n",
       "      <td>3.684211</td>\n",
       "      <td>145</td>\n",
       "      <td>3.535927</td>\n",
       "      <td>2.215902</td>\n",
       "      <td>2.103804</td>\n",
       "      <td>0.566344</td>\n",
       "      <td>7</td>\n",
       "      <td>0</td>\n",
       "      <td>1</td>\n",
       "      <td>0</td>\n",
       "    </tr>\n",
       "    <tr>\n",
       "      <th>3</th>\n",
       "      <td>1</td>\n",
       "      <td>3330.000</td>\n",
       "      <td>269</td>\n",
       "      <td>8</td>\n",
       "      <td>1</td>\n",
       "      <td>2</td>\n",
       "      <td>176.0</td>\n",
       "      <td>5</td>\n",
       "      <td>5</td>\n",
       "      <td>2</td>\n",
       "      <td>0</td>\n",
       "      <td>0</td>\n",
       "      <td>129.78</td>\n",
       "      <td>6</td>\n",
       "      <td>3.157895</td>\n",
       "      <td>418</td>\n",
       "      <td>3.522444</td>\n",
       "      <td>2.245513</td>\n",
       "      <td>2.113208</td>\n",
       "      <td>0.499398</td>\n",
       "      <td>7</td>\n",
       "      <td>0</td>\n",
       "      <td>1</td>\n",
       "      <td>0</td>\n",
       "    </tr>\n",
       "    <tr>\n",
       "      <th>4</th>\n",
       "      <td>1</td>\n",
       "      <td>3427.500</td>\n",
       "      <td>276</td>\n",
       "      <td>7</td>\n",
       "      <td>1</td>\n",
       "      <td>10</td>\n",
       "      <td>164.6</td>\n",
       "      <td>0</td>\n",
       "      <td>6</td>\n",
       "      <td>1</td>\n",
       "      <td>14</td>\n",
       "      <td>0</td>\n",
       "      <td>34.42</td>\n",
       "      <td>3</td>\n",
       "      <td>3.157895</td>\n",
       "      <td>174</td>\n",
       "      <td>3.534977</td>\n",
       "      <td>2.216430</td>\n",
       "      <td>1.536811</td>\n",
       "      <td>0.499398</td>\n",
       "      <td>7</td>\n",
       "      <td>0</td>\n",
       "      <td>0</td>\n",
       "      <td>1</td>\n",
       "    </tr>\n",
       "    <tr>\n",
       "      <th>...</th>\n",
       "      <td>...</td>\n",
       "      <td>...</td>\n",
       "      <td>...</td>\n",
       "      <td>...</td>\n",
       "      <td>...</td>\n",
       "      <td>...</td>\n",
       "      <td>...</td>\n",
       "      <td>...</td>\n",
       "      <td>...</td>\n",
       "      <td>...</td>\n",
       "      <td>...</td>\n",
       "      <td>...</td>\n",
       "      <td>...</td>\n",
       "      <td>...</td>\n",
       "      <td>...</td>\n",
       "      <td>...</td>\n",
       "      <td>...</td>\n",
       "      <td>...</td>\n",
       "      <td>...</td>\n",
       "      <td>...</td>\n",
       "      <td>...</td>\n",
       "      <td>...</td>\n",
       "      <td>...</td>\n",
       "      <td>...</td>\n",
       "    </tr>\n",
       "    <tr>\n",
       "      <th>1941</th>\n",
       "      <td>0</td>\n",
       "      <td>2940.000</td>\n",
       "      <td>89</td>\n",
       "      <td>6</td>\n",
       "      <td>13</td>\n",
       "      <td>3</td>\n",
       "      <td>143.0</td>\n",
       "      <td>1</td>\n",
       "      <td>5</td>\n",
       "      <td>2</td>\n",
       "      <td>8</td>\n",
       "      <td>0</td>\n",
       "      <td>53.00</td>\n",
       "      <td>5</td>\n",
       "      <td>2.894737</td>\n",
       "      <td>16</td>\n",
       "      <td>3.468347</td>\n",
       "      <td>2.155336</td>\n",
       "      <td>1.724276</td>\n",
       "      <td>0.461609</td>\n",
       "      <td>7</td>\n",
       "      <td>1</td>\n",
       "      <td>0</td>\n",
       "      <td>0</td>\n",
       "    </tr>\n",
       "    <tr>\n",
       "      <th>1942</th>\n",
       "      <td>1</td>\n",
       "      <td>7087.500</td>\n",
       "      <td>155</td>\n",
       "      <td>7</td>\n",
       "      <td>13</td>\n",
       "      <td>9</td>\n",
       "      <td>169.4</td>\n",
       "      <td>0</td>\n",
       "      <td>6</td>\n",
       "      <td>2</td>\n",
       "      <td>0</td>\n",
       "      <td>8</td>\n",
       "      <td>39.00</td>\n",
       "      <td>5</td>\n",
       "      <td>2.631579</td>\n",
       "      <td>302</td>\n",
       "      <td>3.850493</td>\n",
       "      <td>2.228913</td>\n",
       "      <td>1.591065</td>\n",
       "      <td>0.420216</td>\n",
       "      <td>8</td>\n",
       "      <td>0</td>\n",
       "      <td>0</td>\n",
       "      <td>1</td>\n",
       "    </tr>\n",
       "    <tr>\n",
       "      <th>1943</th>\n",
       "      <td>0</td>\n",
       "      <td>6562.500</td>\n",
       "      <td>65</td>\n",
       "      <td>9</td>\n",
       "      <td>13</td>\n",
       "      <td>6</td>\n",
       "      <td>187.4</td>\n",
       "      <td>1</td>\n",
       "      <td>5</td>\n",
       "      <td>1</td>\n",
       "      <td>0</td>\n",
       "      <td>9</td>\n",
       "      <td>48.00</td>\n",
       "      <td>6</td>\n",
       "      <td>2.631579</td>\n",
       "      <td>310</td>\n",
       "      <td>3.817069</td>\n",
       "      <td>2.272770</td>\n",
       "      <td>1.681241</td>\n",
       "      <td>0.420216</td>\n",
       "      <td>6</td>\n",
       "      <td>1</td>\n",
       "      <td>0</td>\n",
       "      <td>0</td>\n",
       "    </tr>\n",
       "    <tr>\n",
       "      <th>1944</th>\n",
       "      <td>1</td>\n",
       "      <td>5355.000</td>\n",
       "      <td>58</td>\n",
       "      <td>9</td>\n",
       "      <td>18</td>\n",
       "      <td>10</td>\n",
       "      <td>238.5</td>\n",
       "      <td>3</td>\n",
       "      <td>6</td>\n",
       "      <td>1</td>\n",
       "      <td>0</td>\n",
       "      <td>0</td>\n",
       "      <td>31.00</td>\n",
       "      <td>6</td>\n",
       "      <td>2.631579</td>\n",
       "      <td>275</td>\n",
       "      <td>3.728759</td>\n",
       "      <td>2.377488</td>\n",
       "      <td>1.491362</td>\n",
       "      <td>0.420216</td>\n",
       "      <td>7</td>\n",
       "      <td>0</td>\n",
       "      <td>0</td>\n",
       "      <td>1</td>\n",
       "    </tr>\n",
       "    <tr>\n",
       "      <th>1945</th>\n",
       "      <td>0</td>\n",
       "      <td>5194.875</td>\n",
       "      <td>96</td>\n",
       "      <td>7</td>\n",
       "      <td>19</td>\n",
       "      <td>10</td>\n",
       "      <td>168.9</td>\n",
       "      <td>2</td>\n",
       "      <td>6</td>\n",
       "      <td>2</td>\n",
       "      <td>0</td>\n",
       "      <td>0</td>\n",
       "      <td>47.00</td>\n",
       "      <td>5</td>\n",
       "      <td>2.368421</td>\n",
       "      <td>5</td>\n",
       "      <td>3.715575</td>\n",
       "      <td>2.227630</td>\n",
       "      <td>1.672098</td>\n",
       "      <td>0.374459</td>\n",
       "      <td>8</td>\n",
       "      <td>0</td>\n",
       "      <td>0</td>\n",
       "      <td>1</td>\n",
       "    </tr>\n",
       "  </tbody>\n",
       "</table>\n",
       "<p>1946 rows × 24 columns</p>\n",
       "</div>"
      ],
      "text/plain": [
       "      CROSS_SELL_SUCCESS   REVENUE  TOTAL_MEALS_ORDERED  UNIQUE_MEALS_PURCH  CONTACTS_W_CUSTOMER_SERVICE  PRODUCT_CATEGORIES_VIEWED  AVG_TIME_PER_SITE_VISIT  CANCELLATIONS_AFTER_NOON  PC_LOGINS  MOBILE_LOGINS  WEEKLY_PLAN  LATE_DELIVERIES   AVG_PREP_VID_TIME  LARGEST_ORDER_SIZE  AVG_MEAN_RATING  TOTAL_PHOTOS_VIEWED  log_REVENUE  log_AVG_TIME_PER_SITE_VISIT  log_AVG_PREP_VID_TIME  log_AVG_MEAN_RATING  Total_Logins  junk  personal  professional\n",
       "0                      1  4920.000                  493                   9                            1                         10                    265.6                         5          5              2            0                 0             137.41                   6         2.894737                  456     3.691965                     2.424228               2.138018             0.461609             7     0         1             0\n",
       "1                      0  6150.000                  361                   9                            1                          6                    247.0                         2          5              1            0                 0             120.20                   5         2.631579                  680     3.788875                     2.392697               2.079904             0.420216             6     0         0             1\n",
       "2                      0  3435.000                  278                   6                            1                          4                    164.4                         0          6              1            5                 0             127.00                   3         3.684211                  145     3.535927                     2.215902               2.103804             0.566344             7     0         1             0\n",
       "3                      1  3330.000                  269                   8                            1                          2                    176.0                         5          5              2            0                 0             129.78                   6         3.157895                  418     3.522444                     2.245513               2.113208             0.499398             7     0         1             0\n",
       "4                      1  3427.500                  276                   7                            1                         10                    164.6                         0          6              1           14                 0              34.42                   3         3.157895                  174     3.534977                     2.216430               1.536811             0.499398             7     0         0             1\n",
       "...                  ...       ...                  ...                 ...                          ...                        ...                      ...                       ...        ...            ...          ...               ...                ...                 ...              ...                  ...          ...                          ...                    ...                  ...           ...   ...       ...           ...\n",
       "1941                   0  2940.000                   89                   6                           13                          3                    143.0                         1          5              2            8                 0              53.00                   5         2.894737                   16     3.468347                     2.155336               1.724276             0.461609             7     1         0             0\n",
       "1942                   1  7087.500                  155                   7                           13                          9                    169.4                         0          6              2            0                 8              39.00                   5         2.631579                  302     3.850493                     2.228913               1.591065             0.420216             8     0         0             1\n",
       "1943                   0  6562.500                   65                   9                           13                          6                    187.4                         1          5              1            0                 9              48.00                   6         2.631579                  310     3.817069                     2.272770               1.681241             0.420216             6     1         0             0\n",
       "1944                   1  5355.000                   58                   9                           18                         10                    238.5                         3          6              1            0                 0              31.00                   6         2.631579                  275     3.728759                     2.377488               1.491362             0.420216             7     0         0             1\n",
       "1945                   0  5194.875                   96                   7                           19                         10                    168.9                         2          6              2            0                 0              47.00                   5         2.368421                    5     3.715575                     2.227630               1.672098             0.374459             8     0         0             1\n",
       "\n",
       "[1946 rows x 24 columns]"
      ]
     },
     "execution_count": 28,
     "metadata": {},
     "output_type": "execute_result"
    }
   ],
   "source": [
    "# checking results\n",
    "cs"
   ]
  },
  {
   "cell_type": "markdown",
   "id": "7cb9c531",
   "metadata": {},
   "source": [
    "Prepare train-test split for statsmodels."
   ]
  },
  {
   "cell_type": "code",
   "execution_count": 29,
   "id": "54fe2c35",
   "metadata": {},
   "outputs": [],
   "source": [
    "# declaring explanatory variables\n",
    "cs_data = cs.drop('CROSS_SELL_SUCCESS', axis = 1)\n",
    "\n",
    "\n",
    "# declaring response variable\n",
    "cs_target = cs['CROSS_SELL_SUCCESS']"
   ]
  },
  {
   "cell_type": "code",
   "execution_count": 30,
   "id": "93ab571b",
   "metadata": {},
   "outputs": [
    {
     "name": "stdout",
     "output_type": "stream",
     "text": [
      "\n",
      "\n",
      "Response Variable Proportions (Training Set)\n",
      "--------------------------------------------\n",
      "1    0.68\n",
      "0    0.32\n",
      "Name: CROSS_SELL_SUCCESS, dtype: float64\n",
      "\n",
      "\n",
      "\n",
      "Response Variable Proportions (Testing Set)\n",
      "--------------------------------------------\n",
      "1    0.68\n",
      "0    0.32\n",
      "Name: CROSS_SELL_SUCCESS, dtype: float64\n",
      "\n"
     ]
    }
   ],
   "source": [
    "# train-test split with stratification\n",
    "x_train, x_test, y_train, y_test = train_test_split(\n",
    "            cs_data,\n",
    "            cs_target,\n",
    "            test_size    = 0.25,\n",
    "            random_state = 219,\n",
    "            stratify     = cs_target) # preserving balance\n",
    "\n",
    "\n",
    "# merging training data for statsmodels\n",
    "cs_train = pd.concat([x_train, y_train], axis = 1)\n",
    "\n",
    "print(f\"\"\"\n",
    "\n",
    "Response Variable Proportions (Training Set)\n",
    "--------------------------------------------\n",
    "{y_train.value_counts(normalize = True).round(decimals = 2)}\n",
    "\n",
    "\n",
    "\n",
    "Response Variable Proportions (Testing Set)\n",
    "--------------------------------------------\n",
    "{y_test.value_counts(normalize = True).round(decimals = 2)}\n",
    "\"\"\")"
   ]
  },
  {
   "cell_type": "code",
   "execution_count": 31,
   "id": "6d23d82e",
   "metadata": {},
   "outputs": [
    {
     "name": "stdout",
     "output_type": "stream",
     "text": [
      "Optimization terminated successfully.\n",
      "         Current function value: 0.594776\n",
      "         Iterations 9\n"
     ]
    },
    {
     "data": {
      "text/html": [
       "<table class=\"simpletable\">\n",
       "<tr>\n",
       "        <td>Model:</td>               <td>Logit</td>       <td>Pseudo R-squared:</td>    <td>0.053</td>  \n",
       "</tr>\n",
       "<tr>\n",
       "  <td>Dependent Variable:</td> <td>CROSS_SELL_SUCCESS</td>       <td>AIC:</td>         <td>1747.5552</td>\n",
       "</tr>\n",
       "<tr>\n",
       "         <td>Date:</td>         <td>2023-03-03 23:42</td>        <td>BIC:</td>         <td>1779.2682</td>\n",
       "</tr>\n",
       "<tr>\n",
       "   <td>No. Observations:</td>         <td>1459</td>         <td>Log-Likelihood:</td>    <td>-867.78</td> \n",
       "</tr>\n",
       "<tr>\n",
       "       <td>Df Model:</td>               <td>5</td>             <td>LL-Null:</td>        <td>-916.19</td> \n",
       "</tr>\n",
       "<tr>\n",
       "     <td>Df Residuals:</td>           <td>1453</td>          <td>LLR p-value:</td>    <td>2.4575e-19</td>\n",
       "</tr>\n",
       "<tr>\n",
       "      <td>Converged:</td>            <td>1.0000</td>            <td>Scale:</td>         <td>1.0000</td>  \n",
       "</tr>\n",
       "<tr>\n",
       "    <td>No. Iterations:</td>         <td>9.0000</td>               <td></td>               <td></td>     \n",
       "</tr>\n",
       "</table>\n",
       "<table class=\"simpletable\">\n",
       "<tr>\n",
       "              <td></td>              <th>Coef.</th>   <th>Std.Err.</th>      <th>z</th>     <th>P>|z|</th>    <th>[0.025</th>      <th>0.975]</th>   \n",
       "</tr>\n",
       "<tr>\n",
       "  <th>Intercept</th>                <td>-1.9699</td>   <td>0.6145</td>    <td>-3.2059</td> <td>0.0013</td>    <td>-3.1742</td>     <td>-0.7656</td>  \n",
       "</tr>\n",
       "<tr>\n",
       "  <th>CANCELLATIONS_AFTER_NOON</th> <td>0.2031</td>    <td>0.0397</td>    <td>5.1121</td>  <td>0.0000</td>    <td>0.1252</td>      <td>0.2810</td>   \n",
       "</tr>\n",
       "<tr>\n",
       "  <th>PC_LOGINS</th>                <td>0.0338</td>  <td>395651.2579</td> <td>0.0000</td>  <td>1.0000</td> <td>-775462.1822</td> <td>775462.2497</td>\n",
       "</tr>\n",
       "<tr>\n",
       "  <th>MOBILE_LOGINS</th>            <td>0.1633</td>  <td>395651.2579</td> <td>0.0000</td>  <td>1.0000</td> <td>-775462.0527</td> <td>775462.3792</td>\n",
       "</tr>\n",
       "<tr>\n",
       "  <th>Total_Logins</th>             <td>0.1970</td>  <td>395651.2579</td> <td>0.0000</td>  <td>1.0000</td> <td>-775462.0190</td> <td>775462.4130</td>\n",
       "</tr>\n",
       "<tr>\n",
       "  <th>UNIQUE_MEALS_PURCH</th>       <td>0.0482</td>    <td>0.0253</td>    <td>1.9074</td>  <td>0.0565</td>    <td>-0.0013</td>     <td>0.0978</td>   \n",
       "</tr>\n",
       "<tr>\n",
       "  <th>professional</th>             <td>0.8856</td>    <td>0.1288</td>    <td>6.8760</td>  <td>0.0000</td>    <td>0.6331</td>      <td>1.1380</td>   \n",
       "</tr>\n",
       "</table>"
      ],
      "text/plain": [
       "<class 'statsmodels.iolib.summary2.Summary'>\n",
       "\"\"\"\n",
       "                                   Results: Logit\n",
       "====================================================================================\n",
       "Model:                     Logit                   Pseudo R-squared:      0.053     \n",
       "Dependent Variable:        CROSS_SELL_SUCCESS      AIC:                   1747.5552 \n",
       "Date:                      2023-03-03 23:42        BIC:                   1779.2682 \n",
       "No. Observations:          1459                    Log-Likelihood:        -867.78   \n",
       "Df Model:                  5                       LL-Null:               -916.19   \n",
       "Df Residuals:              1453                    LLR p-value:           2.4575e-19\n",
       "Converged:                 1.0000                  Scale:                 1.0000    \n",
       "No. Iterations:            9.0000                                                   \n",
       "------------------------------------------------------------------------------------\n",
       "                          Coef.    Std.Err.     z    P>|z|     [0.025       0.975]  \n",
       "------------------------------------------------------------------------------------\n",
       "Intercept                -1.9699      0.6145 -3.2059 0.0013      -3.1742     -0.7656\n",
       "CANCELLATIONS_AFTER_NOON  0.2031      0.0397  5.1121 0.0000       0.1252      0.2810\n",
       "PC_LOGINS                 0.0338 395651.2579  0.0000 1.0000 -775462.1822 775462.2497\n",
       "MOBILE_LOGINS             0.1633 395651.2579  0.0000 1.0000 -775462.0527 775462.3792\n",
       "Total_Logins              0.1970 395651.2579  0.0000 1.0000 -775462.0190 775462.4130\n",
       "UNIQUE_MEALS_PURCH        0.0482      0.0253  1.9074 0.0565      -0.0013      0.0978\n",
       "professional              0.8856      0.1288  6.8760 0.0000       0.6331      1.1380\n",
       "====================================================================================\n",
       "\n",
       "\"\"\""
      ]
     },
     "execution_count": 31,
     "metadata": {},
     "output_type": "execute_result"
    }
   ],
   "source": [
    "# instantiating a logistic regression model object\n",
    "logistic_small = smf.logit(formula = \"\"\"CROSS_SELL_SUCCESS ~ CANCELLATIONS_AFTER_NOON + \n",
    "                                        PC_LOGINS +\n",
    "                                        MOBILE_LOGINS +\n",
    "                                        Total_Logins +\n",
    "                                        UNIQUE_MEALS_PURCH +\n",
    "                                        professional\"\"\",\n",
    "                           data    = cs_train)\n",
    "\n",
    "\n",
    "# fitting the model object\n",
    "results_logistic = logistic_small.fit()\n",
    "\n",
    "\n",
    "# checking the results SUMMARY\n",
    "results_logistic.summary2() # summary2() has AIC and BIC"
   ]
  },
  {
   "cell_type": "code",
   "execution_count": 32,
   "id": "960b3270",
   "metadata": {},
   "outputs": [
    {
     "name": "stdout",
     "output_type": "stream",
     "text": [
      " REVENUE + \n",
      " TOTAL_MEALS_ORDERED + \n",
      " UNIQUE_MEALS_PURCH + \n",
      " CONTACTS_W_CUSTOMER_SERVICE + \n",
      " PRODUCT_CATEGORIES_VIEWED + \n",
      " AVG_TIME_PER_SITE_VISIT + \n",
      " CANCELLATIONS_AFTER_NOON + \n",
      " PC_LOGINS + \n",
      " MOBILE_LOGINS + \n",
      " WEEKLY_PLAN + \n",
      " LATE_DELIVERIES  + \n",
      " AVG_PREP_VID_TIME + \n",
      " LARGEST_ORDER_SIZE + \n",
      " AVG_MEAN_RATING + \n",
      " TOTAL_PHOTOS_VIEWED + \n",
      " log_REVENUE + \n",
      " log_AVG_TIME_PER_SITE_VISIT + \n",
      " log_AVG_PREP_VID_TIME + \n",
      " log_AVG_MEAN_RATING + \n",
      " Total_Logins + \n",
      " junk + \n",
      " personal + \n",
      " professional + \n"
     ]
    }
   ],
   "source": [
    "for val in cs_data:\n",
    "    print(f\" {val} + \")"
   ]
  },
  {
   "cell_type": "code",
   "execution_count": 33,
   "id": "492fe760",
   "metadata": {},
   "outputs": [
    {
     "name": "stdout",
     "output_type": "stream",
     "text": [
      "Optimization terminated successfully.\n",
      "         Current function value: 0.566752\n",
      "         Iterations 7\n"
     ]
    },
    {
     "data": {
      "text/html": [
       "<table class=\"simpletable\">\n",
       "<tr>\n",
       "        <td>Model:</td>               <td>Logit</td>       <td>Pseudo R-squared:</td>    <td>0.097</td>  \n",
       "</tr>\n",
       "<tr>\n",
       "  <td>Dependent Variable:</td> <td>CROSS_SELL_SUCCESS</td>       <td>AIC:</td>         <td>1695.7830</td>\n",
       "</tr>\n",
       "<tr>\n",
       "         <td>Date:</td>         <td>2023-03-03 23:42</td>        <td>BIC:</td>         <td>1806.7786</td>\n",
       "</tr>\n",
       "<tr>\n",
       "   <td>No. Observations:</td>         <td>1459</td>         <td>Log-Likelihood:</td>    <td>-826.89</td> \n",
       "</tr>\n",
       "<tr>\n",
       "       <td>Df Model:</td>              <td>20</td>             <td>LL-Null:</td>        <td>-916.19</td> \n",
       "</tr>\n",
       "<tr>\n",
       "     <td>Df Residuals:</td>           <td>1438</td>          <td>LLR p-value:</td>    <td>1.8204e-27</td>\n",
       "</tr>\n",
       "<tr>\n",
       "      <td>Converged:</td>            <td>1.0000</td>            <td>Scale:</td>         <td>1.0000</td>  \n",
       "</tr>\n",
       "<tr>\n",
       "    <td>No. Iterations:</td>         <td>7.0000</td>               <td></td>               <td></td>     \n",
       "</tr>\n",
       "</table>\n",
       "<table class=\"simpletable\">\n",
       "<tr>\n",
       "               <td></td>                <th>Coef.</th>   <th>Std.Err.</th>      <th>z</th>     <th>P>|z|</th>    <th>[0.025</th>      <th>0.975]</th>   \n",
       "</tr>\n",
       "<tr>\n",
       "  <th>Intercept</th>                   <td>-2.1156</td>     <td>nan</td>       <td>nan</td>     <td>nan</td>       <td>nan</td>         <td>nan</td>    \n",
       "</tr>\n",
       "<tr>\n",
       "  <th>REVENUE</th>                     <td>-0.0002</td>   <td>0.0002</td>    <td>-1.0888</td> <td>0.2762</td>    <td>-0.0006</td>     <td>0.0002</td>   \n",
       "</tr>\n",
       "<tr>\n",
       "  <th>TOTAL_MEALS_ORDERED</th>         <td>0.0007</td>    <td>0.0015</td>    <td>0.4476</td>  <td>0.6544</td>    <td>-0.0022</td>     <td>0.0035</td>   \n",
       "</tr>\n",
       "<tr>\n",
       "  <th>UNIQUE_MEALS_PURCH</th>          <td>0.0650</td>    <td>0.0294</td>    <td>2.2096</td>  <td>0.0271</td>    <td>0.0073</td>      <td>0.1226</td>   \n",
       "</tr>\n",
       "<tr>\n",
       "  <th>CONTACTS_W_CUSTOMER_SERVICE</th> <td>0.0255</td>    <td>0.0264</td>    <td>0.9658</td>  <td>0.3342</td>    <td>-0.0262</td>     <td>0.0772</td>   \n",
       "</tr>\n",
       "<tr>\n",
       "  <th>PRODUCT_CATEGORIES_VIEWED</th>   <td>-0.0040</td>   <td>0.0200</td>    <td>-0.2027</td> <td>0.8393</td>    <td>-0.0432</td>     <td>0.0351</td>   \n",
       "</tr>\n",
       "<tr>\n",
       "  <th>AVG_TIME_PER_SITE_VISIT</th>     <td>0.0073</td>    <td>0.0063</td>    <td>1.1502</td>  <td>0.2501</td>    <td>-0.0051</td>     <td>0.0196</td>   \n",
       "</tr>\n",
       "<tr>\n",
       "  <th>CANCELLATIONS_AFTER_NOON</th>    <td>0.2127</td>    <td>0.0413</td>    <td>5.1483</td>  <td>0.0000</td>    <td>0.1317</td>      <td>0.2937</td>   \n",
       "</tr>\n",
       "<tr>\n",
       "  <th>PC_LOGINS</th>                   <td>0.0170</td>  <td>164217.8085</td> <td>0.0000</td>  <td>1.0000</td> <td>-321860.9732</td> <td>321861.0072</td>\n",
       "</tr>\n",
       "<tr>\n",
       "  <th>MOBILE_LOGINS</th>               <td>0.1720</td>  <td>164217.8085</td> <td>0.0000</td>  <td>1.0000</td> <td>-321860.8182</td> <td>321861.1622</td>\n",
       "</tr>\n",
       "<tr>\n",
       "  <th>WEEKLY_PLAN</th>                 <td>0.0000</td>    <td>0.0044</td>    <td>0.0080</td>  <td>0.9936</td>    <td>-0.0086</td>     <td>0.0086</td>   \n",
       "</tr>\n",
       "<tr>\n",
       "  <th>AVG_PREP_VID_TIME</th>           <td>-0.0017</td>   <td>0.0024</td>    <td>-0.7025</td> <td>0.4823</td>    <td>-0.0064</td>     <td>0.0030</td>   \n",
       "</tr>\n",
       "<tr>\n",
       "  <th>LARGEST_ORDER_SIZE</th>          <td>-0.0714</td>   <td>0.0698</td>    <td>-1.0228</td> <td>0.3064</td>    <td>-0.2081</td>     <td>0.0654</td>   \n",
       "</tr>\n",
       "<tr>\n",
       "  <th>AVG_MEAN_RATING</th>             <td>-0.7857</td>   <td>0.7652</td>    <td>-1.0267</td> <td>0.3045</td>    <td>-2.2855</td>     <td>0.7141</td>   \n",
       "</tr>\n",
       "<tr>\n",
       "  <th>TOTAL_PHOTOS_VIEWED</th>         <td>0.0000</td>    <td>0.0004</td>    <td>0.0630</td>  <td>0.9498</td>    <td>-0.0008</td>     <td>0.0009</td>   \n",
       "</tr>\n",
       "<tr>\n",
       "  <th>log_REVENUE</th>                 <td>0.4623</td>    <td>1.1805</td>    <td>0.3916</td>  <td>0.6954</td>    <td>-1.8514</td>     <td>2.7760</td>   \n",
       "</tr>\n",
       "<tr>\n",
       "  <th>log_AVG_TIME_PER_SITE_VISIT</th> <td>-0.6290</td>   <td>2.1607</td>    <td>-0.2911</td> <td>0.7710</td>    <td>-4.8639</td>     <td>3.6058</td>   \n",
       "</tr>\n",
       "<tr>\n",
       "  <th>log_AVG_PREP_VID_TIME</th>       <td>0.2172</td>    <td>0.5961</td>    <td>0.3643</td>  <td>0.7156</td>    <td>-0.9512</td>     <td>1.3855</td>   \n",
       "</tr>\n",
       "<tr>\n",
       "  <th>log_AVG_MEAN_RATING</th>         <td>5.4235</td>    <td>6.0361</td>    <td>0.8985</td>  <td>0.3689</td>    <td>-6.4070</td>     <td>17.2540</td>  \n",
       "</tr>\n",
       "<tr>\n",
       "  <th>Total_Logins</th>                <td>0.1890</td>  <td>164217.8085</td> <td>0.0000</td>  <td>1.0000</td> <td>-321860.8012</td> <td>321861.1792</td>\n",
       "</tr>\n",
       "<tr>\n",
       "  <th>junk</th>                        <td>-1.7114</td>     <td>nan</td>       <td>nan</td>     <td>nan</td>       <td>nan</td>         <td>nan</td>    \n",
       "</tr>\n",
       "<tr>\n",
       "  <th>personal</th>                    <td>-0.4324</td>     <td>nan</td>       <td>nan</td>     <td>nan</td>       <td>nan</td>         <td>nan</td>    \n",
       "</tr>\n",
       "<tr>\n",
       "  <th>professional</th>                <td>0.0281</td>      <td>nan</td>       <td>nan</td>     <td>nan</td>       <td>nan</td>         <td>nan</td>    \n",
       "</tr>\n",
       "</table>"
      ],
      "text/plain": [
       "<class 'statsmodels.iolib.summary2.Summary'>\n",
       "\"\"\"\n",
       "                                    Results: Logit\n",
       "=======================================================================================\n",
       "Model:                      Logit                    Pseudo R-squared:       0.097     \n",
       "Dependent Variable:         CROSS_SELL_SUCCESS       AIC:                    1695.7830 \n",
       "Date:                       2023-03-03 23:42         BIC:                    1806.7786 \n",
       "No. Observations:           1459                     Log-Likelihood:         -826.89   \n",
       "Df Model:                   20                       LL-Null:                -916.19   \n",
       "Df Residuals:               1438                     LLR p-value:            1.8204e-27\n",
       "Converged:                  1.0000                   Scale:                  1.0000    \n",
       "No. Iterations:             7.0000                                                     \n",
       "---------------------------------------------------------------------------------------\n",
       "                             Coef.    Std.Err.     z    P>|z|     [0.025       0.975]  \n",
       "---------------------------------------------------------------------------------------\n",
       "Intercept                   -2.1156         nan     nan    nan          nan         nan\n",
       "REVENUE                     -0.0002      0.0002 -1.0888 0.2762      -0.0006      0.0002\n",
       "TOTAL_MEALS_ORDERED          0.0007      0.0015  0.4476 0.6544      -0.0022      0.0035\n",
       "UNIQUE_MEALS_PURCH           0.0650      0.0294  2.2096 0.0271       0.0073      0.1226\n",
       "CONTACTS_W_CUSTOMER_SERVICE  0.0255      0.0264  0.9658 0.3342      -0.0262      0.0772\n",
       "PRODUCT_CATEGORIES_VIEWED   -0.0040      0.0200 -0.2027 0.8393      -0.0432      0.0351\n",
       "AVG_TIME_PER_SITE_VISIT      0.0073      0.0063  1.1502 0.2501      -0.0051      0.0196\n",
       "CANCELLATIONS_AFTER_NOON     0.2127      0.0413  5.1483 0.0000       0.1317      0.2937\n",
       "PC_LOGINS                    0.0170 164217.8085  0.0000 1.0000 -321860.9732 321861.0072\n",
       "MOBILE_LOGINS                0.1720 164217.8085  0.0000 1.0000 -321860.8182 321861.1622\n",
       "WEEKLY_PLAN                  0.0000      0.0044  0.0080 0.9936      -0.0086      0.0086\n",
       "AVG_PREP_VID_TIME           -0.0017      0.0024 -0.7025 0.4823      -0.0064      0.0030\n",
       "LARGEST_ORDER_SIZE          -0.0714      0.0698 -1.0228 0.3064      -0.2081      0.0654\n",
       "AVG_MEAN_RATING             -0.7857      0.7652 -1.0267 0.3045      -2.2855      0.7141\n",
       "TOTAL_PHOTOS_VIEWED          0.0000      0.0004  0.0630 0.9498      -0.0008      0.0009\n",
       "log_REVENUE                  0.4623      1.1805  0.3916 0.6954      -1.8514      2.7760\n",
       "log_AVG_TIME_PER_SITE_VISIT -0.6290      2.1607 -0.2911 0.7710      -4.8639      3.6058\n",
       "log_AVG_PREP_VID_TIME        0.2172      0.5961  0.3643 0.7156      -0.9512      1.3855\n",
       "log_AVG_MEAN_RATING          5.4235      6.0361  0.8985 0.3689      -6.4070     17.2540\n",
       "Total_Logins                 0.1890 164217.8085  0.0000 1.0000 -321860.8012 321861.1792\n",
       "junk                        -1.7114         nan     nan    nan          nan         nan\n",
       "personal                    -0.4324         nan     nan    nan          nan         nan\n",
       "professional                 0.0281         nan     nan    nan          nan         nan\n",
       "=======================================================================================\n",
       "\n",
       "\"\"\""
      ]
     },
     "execution_count": 33,
     "metadata": {},
     "output_type": "execute_result"
    }
   ],
   "source": [
    "# instantiating a logistic regression model object\n",
    "logistic_full = smf.logit(formula = \"\"\"  CROSS_SELL_SUCCESS ~\n",
    "                                          REVENUE + \n",
    "                                          TOTAL_MEALS_ORDERED + \n",
    "                                          UNIQUE_MEALS_PURCH + \n",
    "                                          CONTACTS_W_CUSTOMER_SERVICE + \n",
    "                                          PRODUCT_CATEGORIES_VIEWED + \n",
    "                                          AVG_TIME_PER_SITE_VISIT + \n",
    "                                          CANCELLATIONS_AFTER_NOON + \n",
    "                                          PC_LOGINS + \n",
    "                                          MOBILE_LOGINS + \n",
    "                                          WEEKLY_PLAN +\n",
    "                                          AVG_PREP_VID_TIME + \n",
    "                                          LARGEST_ORDER_SIZE + \n",
    "                                          AVG_MEAN_RATING + \n",
    "                                          TOTAL_PHOTOS_VIEWED + \n",
    "                                          log_REVENUE + \n",
    "                                          log_AVG_TIME_PER_SITE_VISIT + \n",
    "                                          log_AVG_PREP_VID_TIME + \n",
    "                                          log_AVG_MEAN_RATING + \n",
    "                                          Total_Logins + \n",
    "                                          junk + \n",
    "                                          personal + \n",
    "                                          professional \"\"\",\n",
    "                                         data    = cs_train)\n",
    "\n",
    "# fitting the model object\n",
    "results_full = logistic_full.fit()\n",
    "\n",
    "\n",
    "# checking the results SUMMARY\n",
    "results_full.summary2()"
   ]
  },
  {
   "cell_type": "code",
   "execution_count": 34,
   "id": "ff81d0e2",
   "metadata": {
    "scrolled": true
   },
   "outputs": [
    {
     "name": "stdout",
     "output_type": "stream",
     "text": [
      "Optimization terminated successfully.\n",
      "         Current function value: 0.595250\n",
      "         Iterations 5\n"
     ]
    },
    {
     "data": {
      "text/html": [
       "<table class=\"simpletable\">\n",
       "<tr>\n",
       "        <td>Model:</td>               <td>Logit</td>       <td>Pseudo R-squared:</td>    <td>0.052</td>  \n",
       "</tr>\n",
       "<tr>\n",
       "  <td>Dependent Variable:</td> <td>CROSS_SELL_SUCCESS</td>       <td>AIC:</td>         <td>1750.9404</td>\n",
       "</tr>\n",
       "<tr>\n",
       "         <td>Date:</td>         <td>2023-03-03 23:42</td>        <td>BIC:</td>         <td>1787.9390</td>\n",
       "</tr>\n",
       "<tr>\n",
       "   <td>No. Observations:</td>         <td>1459</td>         <td>Log-Likelihood:</td>    <td>-868.47</td> \n",
       "</tr>\n",
       "<tr>\n",
       "       <td>Df Model:</td>               <td>6</td>             <td>LL-Null:</td>        <td>-916.19</td> \n",
       "</tr>\n",
       "<tr>\n",
       "     <td>Df Residuals:</td>           <td>1452</td>          <td>LLR p-value:</td>    <td>2.2319e-18</td>\n",
       "</tr>\n",
       "<tr>\n",
       "      <td>Converged:</td>            <td>1.0000</td>            <td>Scale:</td>         <td>1.0000</td>  \n",
       "</tr>\n",
       "<tr>\n",
       "    <td>No. Iterations:</td>         <td>5.0000</td>               <td></td>               <td></td>     \n",
       "</tr>\n",
       "</table>\n",
       "<table class=\"simpletable\">\n",
       "<tr>\n",
       "               <td></td>                <th>Coef.</th>  <th>Std.Err.</th>    <th>z</th>     <th>P>|z|</th> <th>[0.025</th>  <th>0.975]</th>\n",
       "</tr>\n",
       "<tr>\n",
       "  <th>Intercept</th>                   <td>-2.5502</td>  <td>1.4140</td>  <td>-1.8034</td> <td>0.0713</td> <td>-5.3216</td> <td>0.2213</td>\n",
       "</tr>\n",
       "<tr>\n",
       "  <th>CANCELLATIONS_AFTER_NOON</th>    <td>0.2064</td>   <td>0.0397</td>  <td>5.2054</td>  <td>0.0000</td> <td>0.1287</td>  <td>0.2841</td>\n",
       "</tr>\n",
       "<tr>\n",
       "  <th>log_AVG_TIME_PER_SITE_VISIT</th> <td>0.6102</td>   <td>0.4854</td>  <td>1.2573</td>  <td>0.2086</td> <td>-0.3411</td> <td>1.5615</td>\n",
       "</tr>\n",
       "<tr>\n",
       "  <th>log_AVG_PREP_VID_TIME</th>       <td>-0.1359</td>  <td>0.2768</td>  <td>-0.4910</td> <td>0.6234</td> <td>-0.6783</td> <td>0.4066</td>\n",
       "</tr>\n",
       "<tr>\n",
       "  <th>log_AVG_MEAN_RATING</th>         <td>-0.4452</td>  <td>0.8511</td>  <td>-0.5230</td> <td>0.6009</td> <td>-2.1132</td> <td>1.2229</td>\n",
       "</tr>\n",
       "<tr>\n",
       "  <th>Total_Logins</th>                <td>0.2731</td>   <td>0.0750</td>  <td>3.6418</td>  <td>0.0003</td> <td>0.1261</td>  <td>0.4201</td>\n",
       "</tr>\n",
       "<tr>\n",
       "  <th>professional</th>                <td>0.8855</td>   <td>0.1288</td>  <td>6.8757</td>  <td>0.0000</td> <td>0.6331</td>  <td>1.1379</td>\n",
       "</tr>\n",
       "</table>"
      ],
      "text/plain": [
       "<class 'statsmodels.iolib.summary2.Summary'>\n",
       "\"\"\"\n",
       "                              Results: Logit\n",
       "==========================================================================\n",
       "Model:                 Logit                Pseudo R-squared:   0.052     \n",
       "Dependent Variable:    CROSS_SELL_SUCCESS   AIC:                1750.9404 \n",
       "Date:                  2023-03-03 23:42     BIC:                1787.9390 \n",
       "No. Observations:      1459                 Log-Likelihood:     -868.47   \n",
       "Df Model:              6                    LL-Null:            -916.19   \n",
       "Df Residuals:          1452                 LLR p-value:        2.2319e-18\n",
       "Converged:             1.0000               Scale:              1.0000    \n",
       "No. Iterations:        5.0000                                             \n",
       "--------------------------------------------------------------------------\n",
       "                             Coef.  Std.Err.    z    P>|z|   [0.025 0.975]\n",
       "--------------------------------------------------------------------------\n",
       "Intercept                   -2.5502   1.4140 -1.8034 0.0713 -5.3216 0.2213\n",
       "CANCELLATIONS_AFTER_NOON     0.2064   0.0397  5.2054 0.0000  0.1287 0.2841\n",
       "log_AVG_TIME_PER_SITE_VISIT  0.6102   0.4854  1.2573 0.2086 -0.3411 1.5615\n",
       "log_AVG_PREP_VID_TIME       -0.1359   0.2768 -0.4910 0.6234 -0.6783 0.4066\n",
       "log_AVG_MEAN_RATING         -0.4452   0.8511 -0.5230 0.6009 -2.1132 1.2229\n",
       "Total_Logins                 0.2731   0.0750  3.6418 0.0003  0.1261 0.4201\n",
       "professional                 0.8855   0.1288  6.8757 0.0000  0.6331 1.1379\n",
       "==========================================================================\n",
       "\n",
       "\"\"\""
      ]
     },
     "execution_count": 34,
     "metadata": {},
     "output_type": "execute_result"
    }
   ],
   "source": [
    "#####################\n",
    "# Sample Solution 1 #\n",
    "#####################\n",
    "\n",
    "# instantiating a logistic regression model object\n",
    "logit_sig = smf.logit(formula = \"\"\" CROSS_SELL_SUCCESS ~ \n",
    "                                          CANCELLATIONS_AFTER_NOON + \n",
    "                                          log_AVG_TIME_PER_SITE_VISIT + \n",
    "                                          log_AVG_PREP_VID_TIME + \n",
    "                                          log_AVG_MEAN_RATING + \n",
    "                                          Total_Logins +  \n",
    "                                          professional \"\"\",\n",
    "                                    data = cs_train)\n",
    "\n",
    "# fitting the model object\n",
    "logit_sig = logit_sig.fit()\n",
    "\n",
    "\n",
    "# checking the results SUMMARY\n",
    "logit_sig.summary2()"
   ]
  },
  {
   "cell_type": "markdown",
   "id": "b619992b",
   "metadata": {},
   "source": [
    "Proportion of CROSS_SELL_SUCCESS in different campaigns. "
   ]
  },
  {
   "cell_type": "code",
   "execution_count": 35,
   "id": "48efc557",
   "metadata": {},
   "outputs": [
    {
     "name": "stdout",
     "output_type": "stream",
     "text": [
      "\n",
      "Proportion of CROSS_SELL_SUCCESS\n",
      "============================\n",
      "0     625\n",
      "1    1321\n",
      "Name: CROSS_SELL_SUCCESS, dtype: int64\n",
      "\n",
      "\n"
     ]
    }
   ],
   "source": [
    "print(f\"\"\"\n",
    "Proportion of CROSS_SELL_SUCCESS\n",
    "============================\n",
    "{cs['CROSS_SELL_SUCCESS'].value_counts(normalize = False).sort_index()}\n",
    "\n",
    "\"\"\")"
   ]
  },
  {
   "cell_type": "code",
   "execution_count": 36,
   "id": "8feb84f0",
   "metadata": {},
   "outputs": [],
   "source": [
    "# create explanatory variable sets\n",
    "candidate_dict = {\n",
    "\n",
    " # original x-variables\n",
    " 'logit_full'   :['REVENUE', 'TOTAL_MEALS_ORDERED', \n",
    "                 'UNIQUE_MEALS_PURCH', \n",
    "                 'CONTACTS_W_CUSTOMER_SERVICE',\n",
    "                 'PRODUCT_CATEGORIES_VIEWED',\n",
    "                 'AVG_TIME_PER_SITE_VISIT', \n",
    "                 'CANCELLATIONS_AFTER_NOON',\n",
    "                 'PC_LOGINS',\n",
    "                 'MOBILE_LOGINS',\n",
    "                 'WEEKLY_PLAN',\n",
    "                 'AVG_PREP_VID_TIME',\n",
    "                 'LARGEST_ORDER_SIZE',\n",
    "                 'AVG_MEAN_RATING',\n",
    "                 'TOTAL_PHOTOS_VIEWED'],\n",
    "    \n",
    " # significant variables only (set 1)\n",
    " 'logit_sig1'    : ['MOBILE_LOGINS',\n",
    "                    'AVG_MEAN_RATING','PC_LOGINS' ,'CANCELLATIONS_AFTER_NOON'],\n",
    "    \n",
    " # significant variables only (set 2)\n",
    " 'logit_sig2'    : ['CANCELLATIONS_AFTER_NOON','MOBILE_LOGINS',\n",
    "                    'personal', 'professional'],}\n",
    "\n",
    "# defining explanatory variable set to run in the models\n",
    "key_to_run = 'logit_sig2'"
   ]
  },
  {
   "cell_type": "code",
   "execution_count": 37,
   "id": "1484daba",
   "metadata": {},
   "outputs": [
    {
     "name": "stdout",
     "output_type": "stream",
     "text": [
      "LogReg Training ACCURACY: 0.6785\n",
      "LogReg Testing  ACCURACY: 0.6776\n",
      "LogReg Train-Test Gap   : 0.0009\n"
     ]
    },
    {
     "name": "stderr",
     "output_type": "stream",
     "text": [
      "/Users/tanginaparvez/opt/anaconda3/lib/python3.9/site-packages/sklearn/linear_model/_logistic.py:814: ConvergenceWarning: lbfgs failed to converge (status=1):\n",
      "STOP: TOTAL NO. of ITERATIONS REACHED LIMIT.\n",
      "\n",
      "Increase the number of iterations (max_iter) or scale the data as shown in:\n",
      "    https://scikit-learn.org/stable/modules/preprocessing.html\n",
      "Please also refer to the documentation for alternative solver options:\n",
      "    https://scikit-learn.org/stable/modules/linear_model.html#logistic-regression\n",
      "  n_iter_i = _check_optimize_result(\n"
     ]
    }
   ],
   "source": [
    "# train/test split with the full model\n",
    "cs_data   =  cs.loc[ : , candidate_dict['logit_full']]\n",
    "cs_target =  cs.loc[ : , 'CROSS_SELL_SUCCESS']\n",
    "\n",
    "\n",
    "# this is the exact code we were using before\n",
    "x_train, x_test, y_train, y_test = train_test_split(\n",
    "            cs_data,\n",
    "            cs_target,\n",
    "            random_state = 219,\n",
    "            test_size    = 0.25,\n",
    "            stratify     = cs_target)\n",
    "\n",
    "\n",
    "# INSTANTIATING a logistic regression model\n",
    "logreg = LogisticRegression(solver = 'lbfgs',\n",
    "                            C = 1.4,\n",
    "                            warm_start= True,\n",
    "                            random_state = 219)\n",
    "\n",
    "\n",
    "# FITTING the training data\n",
    "logreg_fit = logreg.fit(x_train, y_train)\n",
    "\n",
    "\n",
    "# PREDICTING based on the testing set\n",
    "logreg_pred = logreg_fit.predict(x_test)\n",
    "\n",
    "\n",
    "# SCORING the results\n",
    "print('LogReg Training ACCURACY:', logreg_fit.score(x_train, y_train).round(4))\n",
    "print('LogReg Testing  ACCURACY:', logreg_fit.score(x_test, y_test).round(4))\n",
    "\n",
    "# saving scoring data for future use\n",
    "logreg_train_score = logreg_fit.score(x_train, y_train).round(4) # accuracy\n",
    "logreg_test_score  = logreg_fit.score(x_test, y_test).round(4)   # accuracy\n",
    "\n",
    "\n",
    "# displaying and saving the gap between training and testing\n",
    "print('LogReg Train-Test Gap   :', abs(logreg_train_score - logreg_test_score).round(4))\n",
    "logreg_test_gap = abs(logreg_train_score - logreg_test_score).round(4)"
   ]
  },
  {
   "cell_type": "code",
   "execution_count": 38,
   "id": "4db173f6",
   "metadata": {},
   "outputs": [
    {
     "name": "stdout",
     "output_type": "stream",
     "text": [
      "[[  0 156]\n",
      " [  1 330]]\n"
     ]
    }
   ],
   "source": [
    "# creating a confusion matrix\n",
    "print(confusion_matrix(y_true = y_test,\n",
    "                       y_pred = logreg_pred))"
   ]
  },
  {
   "cell_type": "code",
   "execution_count": 39,
   "id": "ad605e2a",
   "metadata": {},
   "outputs": [
    {
     "name": "stdout",
     "output_type": "stream",
     "text": [
      "\n",
      "True Negatives : 0\n",
      "False Positives: 156\n",
      "False Negatives: 1\n",
      "True Positives : 330\n",
      "\n"
     ]
    }
   ],
   "source": [
    "# unpacking the confusion matrix\n",
    "logreg_tn, \\\n",
    "logreg_fp, \\\n",
    "logreg_fn, \\\n",
    "logreg_tp = confusion_matrix(y_true = y_test, y_pred = logreg_pred).ravel()\n",
    "\n",
    "\n",
    "# printing each result one-by-one\n",
    "print(f\"\"\"\n",
    "True Negatives : {logreg_tn}\n",
    "False Positives: {logreg_fp}\n",
    "False Negatives: {logreg_fn}\n",
    "True Positives : {logreg_tp}\n",
    "\"\"\")"
   ]
  },
  {
   "cell_type": "code",
   "execution_count": 40,
   "id": "b4f67b12",
   "metadata": {},
   "outputs": [
    {
     "data": {
      "image/png": "[encoded data removed]",
      "text/plain": [
       "<Figure size 640x480 with 2 Axes>"
      ]
     },
     "metadata": {},
     "output_type": "display_data"
    }
   ],
   "source": [
    "# calling the visual_cm function\n",
    "visual_cm(true_y = y_test,\n",
    "          pred_y = logreg_pred,\n",
    "          labels = ['CANCELLATIONS_AFTER_NOON', 'professional'])"
   ]
  },
  {
   "cell_type": "code",
   "execution_count": 41,
   "id": "f9f10d1e",
   "metadata": {},
   "outputs": [
    {
     "name": "stdout",
     "output_type": "stream",
     "text": [
      "0.4985\n"
     ]
    }
   ],
   "source": [
    "# area under the roc curve (auc)\n",
    "print(roc_auc_score(y_true  = y_test,\n",
    "                    y_score = logreg_pred).round(decimals = 4))\n",
    "\n",
    "\n",
    "# saving AUC score for future use\n",
    "logreg_auc_score = roc_auc_score(y_true  = y_test,\n",
    "                                 y_score = logreg_pred).round(decimals = 4)"
   ]
  },
  {
   "cell_type": "code",
   "execution_count": 42,
   "id": "5a0a537e",
   "metadata": {},
   "outputs": [
    {
     "name": "stdout",
     "output_type": "stream",
     "text": [
      "Full Tree Training ACCURACY: 1.0\n",
      "Full Tree Testing ACCURACY : 0.538\n",
      "Full Tree AUC Score: 0.4754\n"
     ]
    }
   ],
   "source": [
    "# INSTANTIATING a classification tree object\n",
    "full_tree = DecisionTreeClassifier()\n",
    "\n",
    "\n",
    "# FITTING the training data\n",
    "full_tree_fit = full_tree.fit(x_train, y_train)\n",
    "\n",
    "\n",
    "# PREDICTING on new data\n",
    "full_tree_pred = full_tree_fit.predict(x_test)\n",
    "\n",
    "\n",
    "# SCORING the model\n",
    "print('Full Tree Training ACCURACY:', full_tree_fit.score(x_train,\n",
    "                                                     y_train).round(4))\n",
    "\n",
    "print('Full Tree Testing ACCURACY :', full_tree_fit.score(x_test,\n",
    "                                                     y_test).round(4))\n",
    "\n",
    "print('Full Tree AUC Score:', roc_auc_score(y_true  = y_test,\n",
    "                                            y_score = full_tree_pred).round(4))\n",
    "\n",
    "\n",
    "# saving scoring data for future use\n",
    "full_tree_train_score = full_tree_fit.score(x_train, y_train).round(4) # accuracy\n",
    "full_tree_test_score  = full_tree_fit.score(x_test, y_test).round(4)   # accuracy\n",
    "\n",
    "\n",
    "# saving AUC\n",
    "full_tree_auc_score   = roc_auc_score(y_true  = y_test,\n",
    "                                      y_score = full_tree_pred).round(4) # auc"
   ]
  },
  {
   "cell_type": "markdown",
   "id": "2f835359",
   "metadata": {},
   "source": [
    "# Classification Modeling"
   ]
  },
  {
   "cell_type": "code",
   "execution_count": 43,
   "id": "bc0bb66c",
   "metadata": {},
   "outputs": [],
   "source": [
    "########################################\n",
    "# optimal_neighbors\n",
    "########################################\n",
    "def optimal_neighbors(X_data,\n",
    "                      y_data,\n",
    "                      standardize = True,\n",
    "                      pct_test=0.25,\n",
    "                      seed=219,\n",
    "                      response_type='reg',\n",
    "                      max_neighbors=20,\n",
    "                      show_viz=True):\n",
    "    \"\"\"\n",
    "Exhaustively compute training and testing results for KNN across\n",
    "[1, max_neighbors]. Outputs the maximum test score and (by default) a\n",
    "visualization of the results.\n",
    "PARAMETERS\n",
    "----------\n",
    "X_data        : explanatory variable data\n",
    "y_data        : response variable\n",
    "standardize   : whether or not to standardize the X data, default True\n",
    "pct_test      : test size for training and validation from (0,1), default 0.25\n",
    "seed          : random seed to be used in algorithm, default 219\n",
    "response_type : type of neighbors algorithm to use, default 'reg'\n",
    "    Use 'reg' for regression (KNeighborsRegressor)\n",
    "    Use 'class' for classification (KNeighborsClassifier)\n",
    "max_neighbors : maximum number of neighbors in exhaustive search, default 20\n",
    "show_viz      : display or surpress k-neigbors visualization, default True\n",
    "\"\"\"    \n",
    "    \n",
    "    \n",
    "    if standardize == True:\n",
    "        # optionally standardizing X_data\n",
    "        scaler             = StandardScaler()\n",
    "        scaler.fit(X_data)\n",
    "        X_scaled           = scaler.transform(X_data)\n",
    "        X_scaled_df        = pd.DataFrame(X_scaled)\n",
    "        X_data             = X_scaled_df\n",
    "\n",
    "\n",
    "\n",
    "    # train-test split\n",
    "    X_train, X_test, y_train, y_test = train_test_split(X_data,\n",
    "                                                        y_data,\n",
    "                                                        test_size = pct_test,\n",
    "                                                        random_state = seed)\n",
    "\n",
    "\n",
    "    # creating lists for training set accuracy and test set accuracy\n",
    "    training_accuracy = []\n",
    "    test_accuracy = []\n",
    "    \n",
    "    \n",
    "    # setting neighbor range\n",
    "    neighbors_settings = range(1, max_neighbors + 1)\n",
    "\n",
    "\n",
    "    for n_neighbors in neighbors_settings:\n",
    "        # building the model based on response variable type\n",
    "        if response_type == 'reg':\n",
    "            clf = KNeighborsRegressor(n_neighbors = n_neighbors)\n",
    "            clf.fit(X_train, y_train)\n",
    "            \n",
    "        elif response_type == 'class':\n",
    "            clf = KNeighborsClassifier(n_neighbors = n_neighbors)\n",
    "            clf.fit(X_train, y_train)            \n",
    "            \n",
    "        else:\n",
    "            print(\"Error: response_type must be 'reg' or 'class'\")\n",
    "        \n",
    "        \n",
    "        # recording the training set accuracy\n",
    "        training_accuracy.append(clf.score(X_train, y_train))\n",
    "    \n",
    "        # recording the generalization accuracy\n",
    "        test_accuracy.append(clf.score(X_test, y_test))\n",
    "\n",
    "\n",
    "    # optionally displaying visualization\n",
    "    if show_viz == True:\n",
    "        # plotting the visualization\n",
    "        fig, ax = plt.subplots(figsize=(12,8))\n",
    "        plt.plot(neighbors_settings, training_accuracy, label = \"training accuracy\")\n",
    "        plt.plot(neighbors_settings, test_accuracy, label = \"test accuracy\")\n",
    "        plt.ylabel(\"Accuracy\")\n",
    "        plt.xlabel(\"n_neighbors\")\n",
    "        plt.legend()\n",
    "        plt.show()\n",
    "    \n",
    "    \n",
    "    # returning optimal number of neighbors\n",
    "    print(f\"The optimal number of neighbors is: {test_accuracy.index(max(test_accuracy))+1}\")\n",
    "    return test_accuracy.index(max(test_accuracy))+1"
   ]
  },
  {
   "cell_type": "code",
   "execution_count": 44,
   "id": "aa3bb1b8",
   "metadata": {},
   "outputs": [],
   "source": [
    "# dropping categorical variables after they've been encoded and irrelevant\n",
    "cs = cs.drop(['CONTACTS_W_CUSTOMER_SERVICE', 'AVG_TIME_PER_SITE_VISIT',], axis = 1)\n"
   ]
  },
  {
   "cell_type": "code",
   "execution_count": 45,
   "id": "25d85a7d",
   "metadata": {},
   "outputs": [
    {
     "data": {
      "text/plain": [
       "Index(['CROSS_SELL_SUCCESS', 'REVENUE', 'TOTAL_MEALS_ORDERED', 'UNIQUE_MEALS_PURCH', 'PRODUCT_CATEGORIES_VIEWED', 'CANCELLATIONS_AFTER_NOON', 'PC_LOGINS', 'MOBILE_LOGINS', 'WEEKLY_PLAN', 'LATE_DELIVERIES ', 'AVG_PREP_VID_TIME', 'LARGEST_ORDER_SIZE', 'AVG_MEAN_RATING', 'TOTAL_PHOTOS_VIEWED', 'log_REVENUE', 'log_AVG_TIME_PER_SITE_VISIT', 'log_AVG_PREP_VID_TIME', 'log_AVG_MEAN_RATING', 'Total_Logins', 'junk', 'personal', 'professional'], dtype='object')"
      ]
     },
     "execution_count": 45,
     "metadata": {},
     "output_type": "execute_result"
    }
   ],
   "source": [
    "# checking the results\n",
    "cs.columns"
   ]
  },
  {
   "cell_type": "markdown",
   "id": "66342148",
   "metadata": {},
   "source": [
    "Applying value counts to Response The proportion of successful vs unsuccessful campaigns is a variable that may be understood."
   ]
  },
  {
   "cell_type": "code",
   "execution_count": 46,
   "id": "f511d695",
   "metadata": {},
   "outputs": [
    {
     "name": "stdout",
     "output_type": "stream",
     "text": [
      "\n",
      "Proportion of CROSS_SELL_SUCCESS\n",
      "============================\n",
      "0     625\n",
      "1    1321\n",
      "Name: CROSS_SELL_SUCCESS, dtype: int64\n",
      "\n",
      "\n"
     ]
    }
   ],
   "source": [
    "print(f\"\"\"\n",
    "Proportion of CROSS_SELL_SUCCESS\n",
    "============================\n",
    "{cs['CROSS_SELL_SUCCESS'].value_counts(normalize = False).sort_index()}\n",
    "\n",
    "\"\"\")"
   ]
  },
  {
   "cell_type": "code",
   "execution_count": 47,
   "id": "8bb1d943",
   "metadata": {},
   "outputs": [
    {
     "data": {
      "text/plain": [
       "CROSS_SELL_SUCCESS             1.00\n",
       "professional                   0.19\n",
       "CANCELLATIONS_AFTER_NOON       0.14\n",
       "Total_Logins                   0.07\n",
       "MOBILE_LOGINS                  0.06\n",
       "personal                       0.04\n",
       "PC_LOGINS                      0.04\n",
       "UNIQUE_MEALS_PURCH             0.04\n",
       "log_AVG_TIME_PER_SITE_VISIT    0.03\n",
       "LARGEST_ORDER_SIZE             0.02\n",
       "LATE_DELIVERIES                0.02\n",
       "log_AVG_PREP_VID_TIME          0.02\n",
       "log_REVENUE                    0.01\n",
       "TOTAL_MEALS_ORDERED            0.01\n",
       "TOTAL_PHOTOS_VIEWED            0.01\n",
       "AVG_PREP_VID_TIME              0.01\n",
       "REVENUE                        0.00\n",
       "PRODUCT_CATEGORIES_VIEWED      0.00\n",
       "WEEKLY_PLAN                   -0.01\n",
       "log_AVG_MEAN_RATING           -0.03\n",
       "AVG_MEAN_RATING               -0.04\n",
       "junk                          -0.28\n",
       "Name: CROSS_SELL_SUCCESS, dtype: float64"
      ]
     },
     "execution_count": 47,
     "metadata": {},
     "output_type": "execute_result"
    }
   ],
   "source": [
    "#Correlation analysis between the explanatory variables and the response variable.\n",
    "df_corr = cs.corr(method = 'pearson').round(decimals = 2)\n",
    "\n",
    "df_corr['CROSS_SELL_SUCCESS'].sort_values(ascending = False)"
   ]
  },
  {
   "cell_type": "markdown",
   "id": "22297edf",
   "metadata": {},
   "source": [
    "Creating a dictionary to store candidate models."
   ]
  },
  {
   "cell_type": "code",
   "execution_count": 48,
   "id": "3651e8c3",
   "metadata": {},
   "outputs": [
    {
     "name": "stdout",
     "output_type": "stream",
     "text": [
      "\n",
      "/--------------------------\\\n",
      "|Explanatory Variable Sets |\n",
      "\\--------------------------/\n",
      "\n",
      "Full Model:\n",
      "-----------\n",
      "['REVENUE', 'TOTAL_MEALS_ORDERED', 'UNIQUE_MEALS_PURCH', 'CONTACTS_W_CUSTOMER_SERVICE', 'PRODUCT_CATEGORIES_VIEWED', 'AVG_TIME_PER_SITE_VISIT', 'CANCELLATIONS_AFTER_NOON', 'PC_LOGINS', 'MOBILE_LOGINS', 'WEEKLY_PLAN', 'AVG_PREP_VID_TIME', 'LARGEST_ORDER_SIZE', 'AVG_MEAN_RATING', 'TOTAL_PHOTOS_VIEWED']\n",
      "\n",
      "\n",
      "First Significant p-value Model:\n",
      "--------------------------------\n",
      "['MOBILE_LOGINS', 'AVG_MEAN_RATING', 'PC_LOGINS', 'CANCELLATIONS_AFTER_NOON']\n",
      "\n",
      "\n",
      "Second Significant p-value Model:\n",
      "---------------------------------\n",
      "['CANCELLATIONS_AFTER_NOON', 'MOBILE_LOGINS', 'personal', 'professional']\n",
      "\n"
     ]
    }
   ],
   "source": [
    "# printing candidate variable sets\n",
    "print(f\"\"\"\n",
    "/--------------------------\\\\\n",
    "|Explanatory Variable Sets |\n",
    "\\\\--------------------------/\n",
    "\n",
    "Full Model:\n",
    "-----------\n",
    "{candidate_dict['logit_full']}\n",
    "\n",
    "\n",
    "First Significant p-value Model:\n",
    "--------------------------------\n",
    "{candidate_dict['logit_sig1']}\n",
    "\n",
    "\n",
    "Second Significant p-value Model:\n",
    "---------------------------------\n",
    "{candidate_dict['logit_sig2']}\n",
    "\"\"\")"
   ]
  },
  {
   "cell_type": "code",
   "execution_count": 49,
   "id": "656a2797",
   "metadata": {},
   "outputs": [],
   "source": [
    "# declaring explanatory variables\n",
    "cs_data   = cs.loc[ : , candidate_dict[key_to_run] ]\n",
    "\n",
    "# declaring response variable\n",
    "cs_target = cs.loc[ : , 'CROSS_SELL_SUCCESS']"
   ]
  },
  {
   "cell_type": "markdown",
   "id": "4dae0b90",
   "metadata": {},
   "source": [
    "Prepare train-test split for statsmodels.\n"
   ]
  },
  {
   "cell_type": "code",
   "execution_count": 50,
   "id": "0018a8da",
   "metadata": {},
   "outputs": [],
   "source": [
    "# train-test split with stratification\n",
    "x_train, x_test, y_train, y_test = train_test_split(\n",
    "            cs_data,\n",
    "            cs_target,\n",
    "            test_size    = 0.25,\n",
    "            random_state = 219,\n",
    "            stratify     = cs_target)\n",
    "\n",
    "\n",
    "# merging training data for statsmodels\n",
    "cs_train = pd.concat([x_train, y_train], axis = 1)"
   ]
  },
  {
   "cell_type": "code",
   "execution_count": 51,
   "id": "d485985b",
   "metadata": {},
   "outputs": [
    {
     "name": "stdout",
     "output_type": "stream",
     "text": [
      " CANCELLATIONS_AFTER_NOON + \n",
      " MOBILE_LOGINS + \n",
      " personal + \n",
      " professional + \n"
     ]
    }
   ],
   "source": [
    "#Print explanatory variables to copy to the models\n",
    "for val in cs_data:\n",
    "    print(f\" {val} + \")"
   ]
  },
  {
   "cell_type": "code",
   "execution_count": 52,
   "id": "a6c84ed4",
   "metadata": {},
   "outputs": [
    {
     "name": "stdout",
     "output_type": "stream",
     "text": [
      "Optimization terminated successfully.\n",
      "         Current function value: 0.573267\n",
      "         Iterations 5\n"
     ]
    },
    {
     "data": {
      "text/html": [
       "<table class=\"simpletable\">\n",
       "<caption>Logit Regression Results</caption>\n",
       "<tr>\n",
       "  <th>Dep. Variable:</th>   <td>CROSS_SELL_SUCCESS</td> <th>  No. Observations:  </th>  <td>  1459</td>  \n",
       "</tr>\n",
       "<tr>\n",
       "  <th>Model:</th>                  <td>Logit</td>       <th>  Df Residuals:      </th>  <td>  1454</td>  \n",
       "</tr>\n",
       "<tr>\n",
       "  <th>Method:</th>                  <td>MLE</td>        <th>  Df Model:          </th>  <td>     4</td>  \n",
       "</tr>\n",
       "<tr>\n",
       "  <th>Date:</th>             <td>Fri, 03 Mar 2023</td>  <th>  Pseudo R-squ.:     </th>  <td>0.08710</td> \n",
       "</tr>\n",
       "<tr>\n",
       "  <th>Time:</th>                 <td>23:42:22</td>      <th>  Log-Likelihood:    </th> <td> -836.40</td> \n",
       "</tr>\n",
       "<tr>\n",
       "  <th>converged:</th>              <td>True</td>        <th>  LL-Null:           </th> <td> -916.19</td> \n",
       "</tr>\n",
       "<tr>\n",
       "  <th>Covariance Type:</th>      <td>nonrobust</td>     <th>  LLR p-value:       </th> <td>1.787e-33</td>\n",
       "</tr>\n",
       "</table>\n",
       "<table class=\"simpletable\">\n",
       "<tr>\n",
       "              <td></td>                <th>coef</th>     <th>std err</th>      <th>z</th>      <th>P>|z|</th>  <th>[0.025</th>    <th>0.975]</th>  \n",
       "</tr>\n",
       "<tr>\n",
       "  <th>Intercept</th>                <td>   -1.2049</td> <td>    0.217</td> <td>   -5.554</td> <td> 0.000</td> <td>   -1.630</td> <td>   -0.780</td>\n",
       "</tr>\n",
       "<tr>\n",
       "  <th>CANCELLATIONS_AFTER_NOON</th> <td>    0.2155</td> <td>    0.041</td> <td>    5.278</td> <td> 0.000</td> <td>    0.135</td> <td>    0.296</td>\n",
       "</tr>\n",
       "<tr>\n",
       "  <th>MOBILE_LOGINS</th>            <td>    0.3513</td> <td>    0.113</td> <td>    3.103</td> <td> 0.002</td> <td>    0.129</td> <td>    0.573</td>\n",
       "</tr>\n",
       "<tr>\n",
       "  <th>personal</th>                 <td>    1.2514</td> <td>    0.150</td> <td>    8.319</td> <td> 0.000</td> <td>    0.957</td> <td>    1.546</td>\n",
       "</tr>\n",
       "<tr>\n",
       "  <th>professional</th>             <td>    1.7100</td> <td>    0.164</td> <td>   10.454</td> <td> 0.000</td> <td>    1.389</td> <td>    2.031</td>\n",
       "</tr>\n",
       "</table>"
      ],
      "text/plain": [
       "<class 'statsmodels.iolib.summary.Summary'>\n",
       "\"\"\"\n",
       "                           Logit Regression Results                           \n",
       "==============================================================================\n",
       "Dep. Variable:     CROSS_SELL_SUCCESS   No. Observations:                 1459\n",
       "Model:                          Logit   Df Residuals:                     1454\n",
       "Method:                           MLE   Df Model:                            4\n",
       "Date:                Fri, 03 Mar 2023   Pseudo R-squ.:                 0.08710\n",
       "Time:                        23:42:22   Log-Likelihood:                -836.40\n",
       "converged:                       True   LL-Null:                       -916.19\n",
       "Covariance Type:            nonrobust   LLR p-value:                 1.787e-33\n",
       "============================================================================================\n",
       "                               coef    std err          z      P>|z|      [0.025      0.975]\n",
       "--------------------------------------------------------------------------------------------\n",
       "Intercept                   -1.2049      0.217     -5.554      0.000      -1.630      -0.780\n",
       "CANCELLATIONS_AFTER_NOON     0.2155      0.041      5.278      0.000       0.135       0.296\n",
       "MOBILE_LOGINS                0.3513      0.113      3.103      0.002       0.129       0.573\n",
       "personal                     1.2514      0.150      8.319      0.000       0.957       1.546\n",
       "professional                 1.7100      0.164     10.454      0.000       1.389       2.031\n",
       "============================================================================================\n",
       "\"\"\""
      ]
     },
     "execution_count": 52,
     "metadata": {},
     "output_type": "execute_result"
    }
   ],
   "source": [
    " # instantiating a logistic regression model object\n",
    "logistic_sig2 = smf.logit(formula = \"\"\"CROSS_SELL_SUCCESS ~\n",
    "                                         CANCELLATIONS_AFTER_NOON + \n",
    "                                         MOBILE_LOGINS + \n",
    "                                         personal + \n",
    "                                         professional\"\"\", \n",
    "                           data    = cs_train)\n",
    "\n",
    "\n",
    "# fitting the model object\n",
    "results_sig2 = logistic_sig2.fit()\n",
    "\n",
    "\n",
    "# checking the results SUMMARY\n",
    "results_sig2.summary()"
   ]
  },
  {
   "cell_type": "markdown",
   "id": "7c2a1e95",
   "metadata": {},
   "source": [
    "Logistic Regression with Hyperparameter Tuning."
   ]
  },
  {
   "cell_type": "code",
   "execution_count": 53,
   "id": "fb0e6b20",
   "metadata": {},
   "outputs": [
    {
     "name": "stderr",
     "output_type": "stream",
     "text": [
      "/Users/tanginaparvez/opt/anaconda3/lib/python3.9/site-packages/sklearn/model_selection/_search.py:292: UserWarning: The total space of parameters 294 is smaller than n_iter=500. Running 294 iterations. For exhaustive searches, use GridSearchCV.\n",
      "  warnings.warn(\n"
     ]
    },
    {
     "name": "stdout",
     "output_type": "stream",
     "text": [
      "Tuned Parameters:  {'warm_start': True, 'solver': 'newton-cg', 'C': 0.4}\n",
      "Tuned CV AUC:  0.6202\n"
     ]
    }
   ],
   "source": [
    "########################################\n",
    "# RandomizedSearchCV\n",
    "########################################\n",
    "\n",
    "# declaring a hyperparameter space\n",
    "C_space          = np.arange(0.1, 5.0, 0.1)   # similar to alpha in lasso regression but inverse => lower C will try to help us select sig variables\n",
    "warm_start_space = [True, False]\n",
    "solver_space     = ['newton-cg', 'sag', 'lbfgs']\n",
    "\n",
    "# creating a hyperparameter grid\n",
    "param_grid = {'C'          : C_space,\n",
    "              'warm_start' : warm_start_space,\n",
    "              'solver'     : solver_space}\n",
    "\n",
    "# INSTANTIATING the model object without hyperparameters\n",
    "lr_tuned = LogisticRegression(random_state = 219,\n",
    "                              max_iter     = 1200)\n",
    "\n",
    "# GridSearchCV object\n",
    "lr_tuned_cv = RandomizedSearchCV(estimator           = lr_tuned,   # the model object\n",
    "                                 param_distributions = param_grid, # parameters to tune\n",
    "                                 cv                  = 3,          # how many folds in cross-validation\n",
    "                                 n_iter              = 500,        # number of combinations of hyperparameters to try\n",
    "                                 random_state        = 219,        # starting point for random sequence\n",
    "                                 scoring = make_scorer(\n",
    "                                           roc_auc_score,\n",
    "                                           needs_threshold = False))# scoring criteria (AUC)\n",
    "\n",
    "# FITTING to the FULL DATASET (due to cross-validation)\n",
    "lr_tuned_cv.fit(cs_data, cs_target)\n",
    "\n",
    "# PREDICT step is not needed\n",
    "\n",
    "# printing the optimal parameters and best score\n",
    "print(\"Tuned Parameters: \", lr_tuned_cv.best_params_)\n",
    "print(\"Tuned CV AUC: \", lr_tuned_cv.best_score_.round(4))"
   ]
  },
  {
   "cell_type": "markdown",
   "id": "264db2d5",
   "metadata": {},
   "source": [
    "Checking the best estimator for the model."
   ]
  },
  {
   "cell_type": "code",
   "execution_count": 54,
   "id": "96bed8b5",
   "metadata": {},
   "outputs": [
    {
     "data": {
      "text/plain": [
       "LogisticRegression(C=0.4, max_iter=1200, random_state=219, solver='newton-cg',\n",
       "                   warm_start=True)"
      ]
     },
     "execution_count": 54,
     "metadata": {},
     "output_type": "execute_result"
    }
   ],
   "source": [
    "lr_tuned_cv.best_estimator_"
   ]
  },
  {
   "cell_type": "code",
   "execution_count": 55,
   "id": "e6e6f901",
   "metadata": {},
   "outputs": [
    {
     "name": "stdout",
     "output_type": "stream",
     "text": [
      "LR Tuned Training ACCURACY: 0.7231\n",
      "LR Tuned Testing  ACCURACY: 0.7228\n",
      "LR Tuned AUC Score        : 0.6215\n"
     ]
    }
   ],
   "source": [
    "# building a model based on hyperparameter tuning results\n",
    "\n",
    "# INSTANTIATING a logistic regression model with tuned values\n",
    "lr_tuned = lr_tuned_cv.best_estimator_\n",
    "\n",
    "\n",
    "# FIT step is not needed\n",
    "\n",
    "\n",
    "# PREDICTING based on the testing set\n",
    "lr_tuned_pred = lr_tuned.predict(x_test)\n",
    "\n",
    "\n",
    "# SCORING the results\n",
    "print('LR Tuned Training ACCURACY:', lr_tuned.score(x_train, y_train).round(4))\n",
    "print('LR Tuned Testing  ACCURACY:', lr_tuned.score(x_test, y_test).round(4))\n",
    "print('LR Tuned AUC Score        :', roc_auc_score(y_true  = y_test,\n",
    "                                          y_score = lr_tuned_pred).round(4))\n",
    "\n",
    "\n",
    "# saving scoring data for future use\n",
    "lr_tuned_train_score = lr_tuned.score(x_train, y_train).round(4) # accuracy\n",
    "lr_tuned_test_score  = lr_tuned.score(x_test, y_test).round(4)   # accuracy\n",
    "\n",
    "\n",
    "# saving the AUC score\n",
    "lr_tuned_auc         = roc_auc_score(y_true  = y_test,\n",
    "                                     y_score = lr_tuned_pred).round(4) # auc"
   ]
  },
  {
   "cell_type": "markdown",
   "id": "bcace7e9",
   "metadata": {},
   "source": [
    "Unpack the confusion matrix."
   ]
  },
  {
   "cell_type": "code",
   "execution_count": 56,
   "id": "e19f890b",
   "metadata": {},
   "outputs": [
    {
     "name": "stdout",
     "output_type": "stream",
     "text": [
      "\n",
      "True Negatives : 53\n",
      "False Positives: 103\n",
      "False Negatives: 32\n",
      "True Positives : 299\n",
      "\n"
     ]
    }
   ],
   "source": [
    "# unpacking the confusion matrix\n",
    "lr_tuned_tn, \\\n",
    "lr_tuned_fp, \\\n",
    "lr_tuned_fn, \\\n",
    "lr_tuned_tp = confusion_matrix(y_true = y_test, y_pred = lr_tuned_pred).ravel()\n",
    "\n",
    "\n",
    "# printing each result one-by-one\n",
    "print(f\"\"\"\n",
    "True Negatives : {lr_tuned_tn}\n",
    "False Positives: {lr_tuned_fp}\n",
    "False Negatives: {lr_tuned_fn}\n",
    "True Positives : {lr_tuned_tp}\n",
    "\"\"\")"
   ]
  },
  {
   "cell_type": "markdown",
   "id": "1209c354",
   "metadata": {},
   "source": [
    "Store the model results."
   ]
  },
  {
   "cell_type": "code",
   "execution_count": 57,
   "id": "167618f9",
   "metadata": {},
   "outputs": [],
   "source": [
    "# declaring model performance objects\n",
    "lr_train_acc = lr_tuned_train_score\n",
    "lr_test_acc  = lr_tuned_test_score\n",
    "lr_auc       = lr_tuned_auc"
   ]
  },
  {
   "cell_type": "markdown",
   "id": "25dcfa95",
   "metadata": {},
   "source": [
    "# Classification Trees (CART Models)\n"
   ]
  },
  {
   "cell_type": "code",
   "execution_count": 58,
   "id": "d565a0c0",
   "metadata": {},
   "outputs": [],
   "source": [
    "########################################\n",
    "# display_tree\n",
    "########################################\n",
    "def display_tree(tree, feature_df, height = 500, width = 800):\n",
    "    \"\"\"\n",
    "    PARAMETERS\n",
    "    ----------\n",
    "    tree       : fitted tree model object\n",
    "        fitted CART model to visualized\n",
    "    feature_df : DataFrame\n",
    "        DataFrame of explanatory features (used to generate labels)\n",
    "    height     : int, default 500\n",
    "        height in pixels to which to constrain image in html\n",
    "    width      : int, default 800\n",
    "        width in pixels to which to constrain image in html\n",
    "    \"\"\"\n",
    "\n",
    "    # visualizing the tree\n",
    "    dot_data = StringIO()\n",
    "\n",
    "    \n",
    "    # exporting tree to graphviz\n",
    "    export_graphviz(decision_tree      = tree,\n",
    "                    out_file           = dot_data,\n",
    "                    filled             = True,\n",
    "                    rounded            = True,\n",
    "                    special_characters = True,\n",
    "                    feature_names      = feature_df.columns)\n",
    "\n",
    "\n",
    "    # declaring a graph object\n",
    "    graph = pydotplus.graph_from_dot_data(dot_data.getvalue())\n",
    "\n",
    "\n",
    "    # creating image\n",
    "    img = Image(graph.create_png(),\n",
    "                height = height,\n",
    "                width  = width)\n",
    "    \n",
    "    return img\n",
    "\n",
    "########################################\n",
    "# plot_feature_importances for CART model\n",
    "########################################\n",
    "def plot_feature_importances(model, train, export = False):\n",
    "    \"\"\"\n",
    "    Plots the importance of features from a CART model.\n",
    "    \n",
    "    PARAMETERS\n",
    "    ----------\n",
    "    model  : CART model\n",
    "    train  : explanatory variable training data\n",
    "    export : whether or not to export as a .png image, default False\n",
    "    \"\"\"\n",
    "    \n",
    "    # declaring the number\n",
    "    n_features = x_train.shape[1]\n",
    "    \n",
    "    # setting plot window\n",
    "    fig, ax = plt.subplots(figsize=(12,9))\n",
    "    \n",
    "    plt.barh(range(n_features), model.feature_importances_, align='center')\n",
    "    plt.yticks(pd.np.arange(n_features), train.columns)\n",
    "    plt.xlabel(\"Feature importance\")\n",
    "    plt.ylabel(\"Feature\")\n",
    "    \n",
    "    if export == True:\n",
    "        plt.savefig('Tree_Leaf_50_Feature_Importance.png')"
   ]
  },
  {
   "cell_type": "markdown",
   "id": "f0e30de3",
   "metadata": {},
   "source": [
    "Creating dictionary of explanatory variable sets for CART models."
   ]
  },
  {
   "cell_type": "code",
   "execution_count": 59,
   "id": "69103deb",
   "metadata": {},
   "outputs": [],
   "source": [
    "# create explanatory variable sets\n",
    "\n",
    "candidate_dict_CART = {\n",
    "\n",
    "    # original x-variables\n",
    "    'original_CART': [\n",
    "        'REVENUE',\n",
    "        'TOTAL_MEALS_ORDERED',\n",
    "        'UNIQUE_MEALS_PURCH',\n",
    "        'CANCELLATIONS_AFTER_NOON',\n",
    "        'PC_LOGINS',\n",
    "        'MOBILE_LOGINS',\n",
    "        'WEEKLY_PLAN',\n",
    "        'AVG_PREP_VID_TIME',\n",
    "        'LARGEST_ORDER_SIZE',\n",
    "        'AVG_MEAN_RATING'\n",
    "    ],\n",
    "\n",
    "    # significant variables only (set 1)\n",
    "    'logit_sig1': [\n",
    "        'PRODUCT_CATEGORIES_VIEWED']}\n",
    "\n",
    "# defining explanatory variable set to run in the models\n",
    "key_to_run_CART = 'original_CART'"
   ]
  },
  {
   "cell_type": "code",
   "execution_count": 60,
   "id": "2194d598",
   "metadata": {},
   "outputs": [],
   "source": [
    "# declaring explanatory variables\n",
    "cs_data_CART = cs.loc[:, candidate_dict_CART[key_to_run_CART]]"
   ]
  },
  {
   "cell_type": "markdown",
   "id": "814f0211",
   "metadata": {},
   "source": [
    "Prepare train-test split."
   ]
  },
  {
   "cell_type": "code",
   "execution_count": 61,
   "id": "36bcb67a",
   "metadata": {},
   "outputs": [],
   "source": [
    "# train-test split with stratification\n",
    "x_train_CART, x_test_CART, y_train_CART, y_test_CART = train_test_split(\n",
    "            cs_data_CART,\n",
    "            cs_target,\n",
    "            test_size    = 0.25,\n",
    "            random_state = 219,\n",
    "            stratify     = cs_target)\n",
    "\n",
    "\n",
    "# merging training data for statsmodels\n",
    "cs_train_CART = pd.concat([x_train_CART, y_train_CART], axis = 1)"
   ]
  },
  {
   "cell_type": "markdown",
   "id": "2e401fb3",
   "metadata": {},
   "source": [
    "Hyperparameter Tuning on Classification Trees."
   ]
  },
  {
   "cell_type": "code",
   "execution_count": 62,
   "id": "9be97c4a",
   "metadata": {},
   "outputs": [
    {
     "name": "stderr",
     "output_type": "stream",
     "text": [
      "/var/folders/qd/k600f85s3mlcxldc5c0t12g80000gn/T/ipykernel_69647/1142073231.py:4: FutureWarning: The pandas.np module is deprecated and will be removed from pandas in a future version. Import numpy directly instead.\n",
      "  depth_space     = pd.np.arange(1, 8, 1)\n",
      "/var/folders/qd/k600f85s3mlcxldc5c0t12g80000gn/T/ipykernel_69647/1142073231.py:5: FutureWarning: The pandas.np module is deprecated and will be removed from pandas in a future version. Import numpy directly instead.\n",
      "  leaf_space      = pd.np.arange(1, 100, 1)\n"
     ]
    },
    {
     "name": "stdout",
     "output_type": "stream",
     "text": [
      "Tuned Parameters  : {'splitter': 'best', 'min_samples_leaf': 35, 'max_depth': 6, 'criterion': 'entropy'}\n",
      "Tuned Training AUC: 0.5376\n"
     ]
    }
   ],
   "source": [
    "# declaring a hyperparameter space\n",
    "criterion_space = ['gini', 'entropy']\n",
    "splitter_space  = ['best', 'random']\n",
    "depth_space     = pd.np.arange(1, 8, 1)\n",
    "leaf_space      = pd.np.arange(1, 100, 1)\n",
    "\n",
    "\n",
    "# creating a hyperparameter grid\n",
    "param_grid = {'criterion'        : criterion_space,\n",
    "              'splitter'         : splitter_space,\n",
    "              'max_depth'        : depth_space,\n",
    "              'min_samples_leaf' : leaf_space}\n",
    "\n",
    "\n",
    "# INSTANTIATING the model object without hyperparameters\n",
    "tuned_tree_CART = DecisionTreeClassifier(random_state = 219)\n",
    "\n",
    "\n",
    "# RandomizedSearchCV object\n",
    "tuned_tree_CART_cv = RandomizedSearchCV(estimator        = tuned_tree_CART,\n",
    "                                   param_distributions   = param_grid,\n",
    "                                   cv                    = 3,   \n",
    "                                   n_iter                = 1000,\n",
    "                                   random_state          = 219,\n",
    "                                   scoring = make_scorer(roc_auc_score,\n",
    "                                             needs_threshold = False))\n",
    "\n",
    "\n",
    "# FITTING to the FULL DATASET (due to cross-validation)\n",
    "tuned_tree_CART_cv.fit(cs_data_CART, cs_target)\n",
    "\n",
    "\n",
    "# PREDICT step is not needed\n",
    "\n",
    "\n",
    "# printing the optimal parameters and best score\n",
    "print(\"Tuned Parameters  :\", tuned_tree_CART_cv.best_params_)\n",
    "print(\"Tuned Training AUC:\", tuned_tree_CART_cv.best_score_.round(4))"
   ]
  },
  {
   "cell_type": "markdown",
   "id": "2e9ae86a",
   "metadata": {},
   "source": [
    "With the results of the hyperparameter tweaking, create a classification tree model."
   ]
  },
  {
   "cell_type": "code",
   "execution_count": 63,
   "id": "07308aef",
   "metadata": {},
   "outputs": [
    {
     "name": "stdout",
     "output_type": "stream",
     "text": [
      "Training ACCURACY: 0.6991\n",
      "Testing  ACCURACY: 0.6797\n",
      "AUC Score        : 0.539\n"
     ]
    }
   ],
   "source": [
    "# building a model based on hyperparameter tuning results\n",
    "\n",
    "# INSTANTIATING a logistic regression model with tuned values\n",
    "tree_tuned_CART = tuned_tree_CART_cv.best_estimator_\n",
    "\n",
    "\n",
    "# FIT step is not needed\n",
    "\n",
    "\n",
    "# PREDICTING based on the testing set\n",
    "tree_tuned_CART_pred = tree_tuned_CART.predict(x_test_CART)\n",
    "\n",
    "\n",
    "# SCORING the results\n",
    "print('Training ACCURACY:', tree_tuned_CART.score(x_train_CART, y_train_CART).round(4))\n",
    "print('Testing  ACCURACY:', tree_tuned_CART.score(x_test_CART, y_test_CART).round(4))\n",
    "print('AUC Score        :', roc_auc_score(y_true  = y_test_CART,\n",
    "                                          y_score = tree_tuned_CART_pred).round(4))\n",
    "\n",
    "\n",
    "# saving scoring data for future use\n",
    "tree_tuned_CART_train_score = tree_tuned_CART.score(x_train_CART, y_train_CART).round(4) # accuracy\n",
    "tree_tuned_CART_test_score  = tree_tuned_CART.score(x_test_CART, y_test_CART).round(4)   # accuracy\n",
    "\n",
    "\n",
    "# saving the AUC score\n",
    "tree_tuned_CART_auc         = roc_auc_score(y_true  = y_test_CART,\n",
    "                                     y_score = tree_tuned_CART_pred).round(4) # auc\n"
   ]
  },
  {
   "cell_type": "code",
   "execution_count": 64,
   "id": "74f766d8",
   "metadata": {},
   "outputs": [
    {
     "name": "stdout",
     "output_type": "stream",
     "text": [
      "\n",
      "True Negatives : 23\n",
      "False Positives: 133\n",
      "False Negatives: 23\n",
      "True Positives : 308\n",
      "\n"
     ]
    }
   ],
   "source": [
    "# unpacking the confusion matrix\n",
    "tuned_tree_CART_tn, \\\n",
    "tuned_tree_CART_fp, \\\n",
    "tuned_tree_CART_fn, \\\n",
    "tuned_tree_CART_tp = confusion_matrix(y_true = y_test, y_pred = tree_tuned_CART_pred).ravel()\n",
    "\n",
    "\n",
    "# printing each result one-by-one\n",
    "print(f\"\"\"\n",
    "True Negatives : {tuned_tree_CART_tn}\n",
    "False Positives: {tuned_tree_CART_fp}\n",
    "False Negatives: {tuned_tree_CART_fn}\n",
    "True Positives : {tuned_tree_CART_tp}\n",
    "\"\"\")"
   ]
  },
  {
   "cell_type": "markdown",
   "id": "c1ae60dc",
   "metadata": {},
   "source": [
    "Using the dictionary's candidate models, construct a classification tree model."
   ]
  },
  {
   "cell_type": "code",
   "execution_count": 65,
   "id": "a75f0845",
   "metadata": {},
   "outputs": [
    {
     "name": "stdout",
     "output_type": "stream",
     "text": [
      "Full Tree Training ACCURACY: 0.7341\n",
      "Full Tree Testing ACCURACY: 0.7248\n",
      "Full Tree AUC Score: 0.6146\n"
     ]
    }
   ],
   "source": [
    "# INSTANTIATING a classification tree object\n",
    "full_tree = DecisionTreeClassifier(max_depth=8, random_state=219)\n",
    "\n",
    "# FITTING the training data\n",
    "full_tree_fit = full_tree.fit(x_train, y_train)\n",
    "\n",
    "# PREDICTING on new data\n",
    "full_tree_pred = full_tree_fit.predict(x_test)\n",
    "\n",
    "# SCORING the model\n",
    "print('Full Tree Training ACCURACY:', full_tree_fit.score(x_train, y_train).round(4))\n",
    "print('Full Tree Testing ACCURACY:', full_tree_fit.score(x_test, y_test).round(4))\n",
    "print('Full Tree AUC Score:', roc_auc_score(y_true=y_test, y_score=full_tree_pred).round(4))\n",
    "\n",
    "# saving scoring data for future use\n",
    "full_tree_train_score = full_tree_fit.score(x_train, y_train).round(4) # accuracy\n",
    "full_tree_test_score = full_tree_fit.score(x_test, y_test).round(4) # accuracy\n",
    "\n",
    "# saving AUC\n",
    "full_tree_auc_score = roc_auc_score(y_true=y_test, y_score=full_tree_pred).round(4) # auc"
   ]
  },
  {
   "cell_type": "code",
   "execution_count": 66,
   "id": "79339c74",
   "metadata": {},
   "outputs": [
    {
     "name": "stdout",
     "output_type": "stream",
     "text": [
      "\n",
      "True Negatives : 48\n",
      "False Positives: 108\n",
      "False Negatives: 26\n",
      "True Positives : 305\n",
      "\n"
     ]
    }
   ],
   "source": [
    "# unpacking the confusion matrix\n",
    "full_tree_tn, \\\n",
    "full_tree_fp, \\\n",
    "full_tree_fn, \\\n",
    "full_tree_tp = confusion_matrix(y_true = y_test, y_pred = full_tree_pred ).ravel()\n",
    "\n",
    "\n",
    "# printing each result one-by-one\n",
    "print(f\"\"\"\n",
    "True Negatives : {full_tree_tn}\n",
    "False Positives: {full_tree_fp}\n",
    "False Negatives: {full_tree_fn}\n",
    "True Positives : {full_tree_tp}\n",
    "\"\"\")"
   ]
  },
  {
   "cell_type": "code",
   "execution_count": 67,
   "id": "b4d909e2",
   "metadata": {},
   "outputs": [
    {
     "name": "stderr",
     "output_type": "stream",
     "text": [
      "/var/folders/qd/k600f85s3mlcxldc5c0t12g80000gn/T/ipykernel_69647/3629681362.py:63: FutureWarning: The pandas.np module is deprecated and will be removed from pandas in a future version. Import numpy directly instead.\n",
      "  plt.yticks(pd.np.arange(n_features), train.columns)\n"
     ]
    }
   ],
   "source": [
    "# plotting feature importance\n",
    "plot_feature_importances(full_tree_fit,\n",
    "                         train  = x_train,\n",
    "                         export = False)"
   ]
  },
  {
   "cell_type": "markdown",
   "id": "385728a0",
   "metadata": {},
   "source": [
    "Create a new classification tree model to prune the tree."
   ]
  },
  {
   "cell_type": "code",
   "execution_count": 68,
   "id": "e067a3ba",
   "metadata": {},
   "outputs": [
    {
     "name": "stdout",
     "output_type": "stream",
     "text": [
      "Training ACCURACY: 0.7245\n",
      "Testing  ACCURACY: 0.7228\n",
      "AUC Score        : 0.6198\n"
     ]
    }
   ],
   "source": [
    "# INSTANTIATING a classification tree object\n",
    "pruned_tree = DecisionTreeClassifier(max_depth = 8,\n",
    "                                     min_samples_leaf = 50,\n",
    "                                     random_state = 219)\n",
    "\n",
    "\n",
    "# FITTING the training data\n",
    "pruned_tree_fit  = pruned_tree.fit(x_train, y_train)\n",
    "\n",
    "\n",
    "# PREDICTING on new data\n",
    "pruned_tree_pred = pruned_tree_fit.predict(x_test)\n",
    "\n",
    "\n",
    "# SCORING the model\n",
    "print('Training ACCURACY:', pruned_tree_fit.score(x_train, y_train).round(4))\n",
    "print('Testing  ACCURACY:', pruned_tree_fit.score(x_test, y_test).round(4))\n",
    "print('AUC Score        :', roc_auc_score(y_true  = y_test,\n",
    "                                          y_score = pruned_tree_pred).round(4))\n",
    "\n",
    "\n",
    "# saving scoring data for future use\n",
    "pruned_tree_train_score = pruned_tree_fit.score(x_train, y_train).round(4) # accuracy\n",
    "pruned_tree_test_score  = pruned_tree_fit.score(x_test, y_test).round(4)   # accuracy\n",
    "\n",
    "\n",
    "# saving auc score\n",
    "pruned_tree_auc_score   = roc_auc_score(y_true  = y_test,\n",
    "                                        y_score = pruned_tree_pred).round(4) # auc"
   ]
  },
  {
   "cell_type": "code",
   "execution_count": 69,
   "id": "3c47822b",
   "metadata": {},
   "outputs": [
    {
     "name": "stdout",
     "output_type": "stream",
     "text": [
      "\n",
      "True Negatives : 52\n",
      "False Positives: 104\n",
      "False Negatives: 31\n",
      "True Positives : 300\n",
      "\n"
     ]
    }
   ],
   "source": [
    "# unpacking the confusion matrix\n",
    "pruned_tree_tn, \\\n",
    "pruned_tree_fp, \\\n",
    "pruned_tree_fn, \\\n",
    "pruned_tree_tp = confusion_matrix(y_true = y_test, y_pred = pruned_tree_pred).ravel()\n",
    "\n",
    "\n",
    "# printing each result one-by-one\n",
    "print(f\"\"\"\n",
    "True Negatives : {pruned_tree_tn}\n",
    "False Positives: {pruned_tree_fp}\n",
    "False Negatives: {pruned_tree_fn}\n",
    "True Positives : {pruned_tree_tp}\n",
    "\"\"\")"
   ]
  },
  {
   "cell_type": "markdown",
   "id": "bf84c5d5",
   "metadata": {},
   "source": [
    "Hyperparameter Tuning on Classification Trees."
   ]
  },
  {
   "cell_type": "code",
   "execution_count": 70,
   "id": "3d551ef5",
   "metadata": {},
   "outputs": [
    {
     "name": "stderr",
     "output_type": "stream",
     "text": [
      "/var/folders/qd/k600f85s3mlcxldc5c0t12g80000gn/T/ipykernel_69647/2611757762.py:4: FutureWarning: The pandas.np module is deprecated and will be removed from pandas in a future version. Import numpy directly instead.\n",
      "  depth_space     = pd.np.arange(1, 25, 1)\n",
      "/var/folders/qd/k600f85s3mlcxldc5c0t12g80000gn/T/ipykernel_69647/2611757762.py:5: FutureWarning: The pandas.np module is deprecated and will be removed from pandas in a future version. Import numpy directly instead.\n",
      "  leaf_space      = pd.np.arange(1, 100, 1)\n"
     ]
    },
    {
     "name": "stdout",
     "output_type": "stream",
     "text": [
      "Tuned Parameters  : {'splitter': 'best', 'min_samples_leaf': 54, 'max_depth': 2, 'criterion': 'entropy'}\n",
      "Tuned Training AUC: 0.6202\n"
     ]
    }
   ],
   "source": [
    "# declaring a hyperparameter space\n",
    "criterion_space = ['gini', 'entropy']\n",
    "splitter_space  = ['best', 'random']\n",
    "depth_space     = pd.np.arange(1, 25, 1)\n",
    "leaf_space      = pd.np.arange(1, 100, 1)\n",
    "\n",
    "\n",
    "# creating a hyperparameter grid\n",
    "param_grid = {'criterion'        : criterion_space,\n",
    "              'splitter'         : splitter_space,\n",
    "              'max_depth'        : depth_space,\n",
    "              'min_samples_leaf' : leaf_space}\n",
    "\n",
    "\n",
    "# INSTANTIATING the model object without hyperparameters\n",
    "tuned_tree = DecisionTreeClassifier(random_state = 219)\n",
    "\n",
    "\n",
    "# RandomizedSearchCV object\n",
    "tuned_tree_cv = RandomizedSearchCV(estimator             = tuned_tree,\n",
    "                                   param_distributions   = param_grid,\n",
    "                                   cv                    = 3,    \n",
    "                                   n_iter                = 1500,\n",
    "                                   random_state          = 219,\n",
    "                                   scoring = make_scorer(roc_auc_score,\n",
    "                                             needs_threshold = False))\n",
    "\n",
    "\n",
    "# FITTING to the FULL DATASET (due to cross-validation)\n",
    "tuned_tree_cv.fit(cs_data, cs_target)\n",
    "\n",
    "\n",
    "# PREDICT step is not needed\n",
    "\n",
    "\n",
    "# printing the optimal parameters and best score\n",
    "print(\"Tuned Parameters  :\", tuned_tree_cv.best_params_)\n",
    "print(\"Tuned Training AUC:\", tuned_tree_cv.best_score_.round(4))"
   ]
  },
  {
   "cell_type": "code",
   "execution_count": 71,
   "id": "5ad6d962",
   "metadata": {},
   "outputs": [
    {
     "data": {
      "text/plain": [
       "{'splitter': 'best',\n",
       " 'min_samples_leaf': 54,\n",
       " 'max_depth': 2,\n",
       " 'criterion': 'entropy'}"
      ]
     },
     "execution_count": 71,
     "metadata": {},
     "output_type": "execute_result"
    }
   ],
   "source": [
    "#Check the best estimator for the model\n",
    "\n",
    "tuned_tree_cv.best_params_"
   ]
  },
  {
   "cell_type": "code",
   "execution_count": 72,
   "id": "b0f49fd4",
   "metadata": {},
   "outputs": [
    {
     "name": "stdout",
     "output_type": "stream",
     "text": [
      "Training ACCURACY: 0.7121\n",
      "Testing  ACCURACY: 0.7125\n",
      "AUC Score        : 0.6225\n"
     ]
    }
   ],
   "source": [
    "# Build a classification tree model based on the hyperparameter tuning results.\n",
    "\n",
    "# INSTANTIATING a classification tree object with tuned values\n",
    "tree_tuned = tuned_tree_cv.best_estimator_\n",
    "\n",
    "\n",
    "# FIT step is not needed\n",
    "\n",
    "\n",
    "# PREDICTING based on the testing set\n",
    "tree_tuned_pred = tree_tuned.predict(x_test)\n",
    "\n",
    "\n",
    "# SCORING the results\n",
    "print('Training ACCURACY:', tree_tuned.score(x_train, y_train).round(4))\n",
    "print('Testing  ACCURACY:', tree_tuned.score(x_test, y_test).round(4))\n",
    "print('AUC Score        :', roc_auc_score(y_true  = y_test,\n",
    "                                          y_score = tree_tuned_pred).round(4))\n",
    "\n",
    "\n",
    "# saving scoring data for future use\n",
    "tree_tuned_train_score = tree_tuned.score(x_train, y_train).round(4) # accuracy\n",
    "tree_tuned_test_score  = tree_tuned.score(x_test, y_test).round(4)   # accuracy\n",
    "\n",
    "\n",
    "# saving the AUC score\n",
    "tree_tuned_auc         = roc_auc_score(y_true  = y_test,\n",
    "                                     y_score = tree_tuned_pred).round(4) # auc"
   ]
  },
  {
   "cell_type": "code",
   "execution_count": 73,
   "id": "fd587ad8",
   "metadata": {},
   "outputs": [
    {
     "name": "stdout",
     "output_type": "stream",
     "text": [
      "\n",
      "True Negatives : 58\n",
      "False Positives: 98\n",
      "False Negatives: 42\n",
      "True Positives : 289\n",
      "\n"
     ]
    }
   ],
   "source": [
    "# unpacking the confusion matrix\n",
    "tuned_tree_tn, \\\n",
    "tuned_tree_fp, \\\n",
    "tuned_tree_fn, \\\n",
    "tuned_tree_tp = confusion_matrix(y_true = y_test, y_pred = tree_tuned_pred).ravel()\n",
    "\n",
    "\n",
    "# printing each result one-by-one\n",
    "print(f\"\"\"\n",
    "True Negatives : {tuned_tree_tn}\n",
    "False Positives: {tuned_tree_fp}\n",
    "False Negatives: {tuned_tree_fn}\n",
    "True Positives : {tuned_tree_tp}\n",
    "\"\"\")"
   ]
  },
  {
   "cell_type": "code",
   "execution_count": 74,
   "id": "554ed99a",
   "metadata": {},
   "outputs": [],
   "source": [
    "# declaring model performance objects\n",
    "tree_train_acc = tree_tuned.score(x_train, y_train).round(4)\n",
    "tree_test_acc  = tree_tuned.score(x_test, y_test).round(4)\n",
    "tree_auc       = roc_auc_score(y_true  = y_test,\n",
    "                              y_score = tree_tuned_pred).round(4)"
   ]
  },
  {
   "cell_type": "markdown",
   "id": "6e4aeb40",
   "metadata": {},
   "source": [
    "Scale the explanatory data and create a KNN classification model with optimal neighbors."
   ]
  },
  {
   "cell_type": "code",
   "execution_count": 75,
   "id": "f07283cf",
   "metadata": {},
   "outputs": [
    {
     "name": "stdout",
     "output_type": "stream",
     "text": [
      "Training ACCURACY: 0.6861\n",
      "Testing  ACCURACY: 0.7023\n",
      "AUC Score        : 0.6403\n"
     ]
    },
    {
     "name": "stderr",
     "output_type": "stream",
     "text": [
      "/Users/tanginaparvez/opt/anaconda3/lib/python3.9/site-packages/sklearn/neighbors/_classification.py:228: FutureWarning: Unlike other reduction functions (e.g. `skew`, `kurtosis`), the default behavior of `mode` typically preserves the axis it acts along. In SciPy 1.11.0, this behavior will change: the default value of `keepdims` will become False, the `axis` over which the statistic is taken will be eliminated, and the value None will no longer be accepted. Set `keepdims` to True or False to avoid this warning.\n",
      "  mode, _ = stats.mode(_y[neigh_ind, k], axis=1)\n",
      "/Users/tanginaparvez/opt/anaconda3/lib/python3.9/site-packages/sklearn/neighbors/_classification.py:228: FutureWarning: Unlike other reduction functions (e.g. `skew`, `kurtosis`), the default behavior of `mode` typically preserves the axis it acts along. In SciPy 1.11.0, this behavior will change: the default value of `keepdims` will become False, the `axis` over which the statistic is taken will be eliminated, and the value None will no longer be accepted. Set `keepdims` to True or False to avoid this warning.\n",
      "  mode, _ = stats.mode(_y[neigh_ind, k], axis=1)\n",
      "/Users/tanginaparvez/opt/anaconda3/lib/python3.9/site-packages/sklearn/neighbors/_classification.py:228: FutureWarning: Unlike other reduction functions (e.g. `skew`, `kurtosis`), the default behavior of `mode` typically preserves the axis it acts along. In SciPy 1.11.0, this behavior will change: the default value of `keepdims` will become False, the `axis` over which the statistic is taken will be eliminated, and the value None will no longer be accepted. Set `keepdims` to True or False to avoid this warning.\n",
      "  mode, _ = stats.mode(_y[neigh_ind, k], axis=1)\n",
      "/Users/tanginaparvez/opt/anaconda3/lib/python3.9/site-packages/sklearn/neighbors/_classification.py:228: FutureWarning: Unlike other reduction functions (e.g. `skew`, `kurtosis`), the default behavior of `mode` typically preserves the axis it acts along. In SciPy 1.11.0, this behavior will change: the default value of `keepdims` will become False, the `axis` over which the statistic is taken will be eliminated, and the value None will no longer be accepted. Set `keepdims` to True or False to avoid this warning.\n",
      "  mode, _ = stats.mode(_y[neigh_ind, k], axis=1)\n",
      "/Users/tanginaparvez/opt/anaconda3/lib/python3.9/site-packages/sklearn/neighbors/_classification.py:228: FutureWarning: Unlike other reduction functions (e.g. `skew`, `kurtosis`), the default behavior of `mode` typically preserves the axis it acts along. In SciPy 1.11.0, this behavior will change: the default value of `keepdims` will become False, the `axis` over which the statistic is taken will be eliminated, and the value None will no longer be accepted. Set `keepdims` to True or False to avoid this warning.\n",
      "  mode, _ = stats.mode(_y[neigh_ind, k], axis=1)\n"
     ]
    }
   ],
   "source": [
    "# INSTANTIATING StandardScaler()\n",
    "scaler = StandardScaler()\n",
    "\n",
    "\n",
    "# FITTING the data\n",
    "scaler.fit(cs_data)\n",
    "\n",
    "\n",
    "# TRANSFORMING the data\n",
    "x_scaled     = scaler.transform(cs_data)\n",
    "\n",
    "\n",
    "# converting to a DataFrame\n",
    "x_scaled_df  = pd.DataFrame(x_scaled) \n",
    "\n",
    "\n",
    "# train-test split with the scaled data\n",
    "x_train_scaled, x_test_scaled, y_train_scaled, y_test_scaled = train_test_split(\n",
    "            x_scaled_df,\n",
    "            cs_target,\n",
    "            random_state = 219,\n",
    "            test_size = 0.25,\n",
    "            stratify = cs_target)\n",
    "\n",
    "\n",
    "# INSTANTIATING a KNN classification model with optimal neighbors\n",
    "knn_opt = KNeighborsClassifier(n_neighbors = 19)\n",
    "\n",
    "\n",
    "# FITTING the training data\n",
    "knn_fit = knn_opt.fit(x_train_scaled, y_train_scaled)\n",
    "\n",
    "\n",
    "# PREDICTING based on the testing set\n",
    "knn_pred = knn_fit.predict(x_test_scaled)\n",
    "\n",
    "\n",
    "# SCORING the results\n",
    "print('Training ACCURACY:', knn_fit.score(x_train_scaled, y_train_scaled).round(4))\n",
    "print('Testing  ACCURACY:', knn_fit.score(x_test_scaled, y_test_scaled).round(4))\n",
    "print('AUC Score        :', roc_auc_score(y_true  = y_test,\n",
    "                                          y_score = knn_pred).round(4))\n",
    "\n",
    "\n",
    "# saving scoring data\n",
    "knn_train_score = knn_fit.score(x_train_scaled, y_train_scaled).round(4)\n",
    "knn_test_score  = knn_fit.score(x_test_scaled, y_test_scaled).round(4)\n",
    "\n",
    "\n",
    "# saving AUC score\n",
    "knn_auc_score   = roc_auc_score(y_true  = y_test,\n",
    "                                          y_score = knn_pred).round(4)"
   ]
  },
  {
   "cell_type": "code",
   "execution_count": 76,
   "id": "c33ee975",
   "metadata": {},
   "outputs": [
    {
     "name": "stdout",
     "output_type": "stream",
     "text": [
      "\n",
      "True Negatives : 73\n",
      "False Positives: 83\n",
      "False Negatives: 62\n",
      "True Positives : 269\n",
      "\n"
     ]
    }
   ],
   "source": [
    "# unpacking the confusion matrix\n",
    "knn_tree_tn, \\\n",
    "knn_tree_fp, \\\n",
    "knn_tree_fn, \\\n",
    "knn_tree_tp = confusion_matrix(y_true = y_test, y_pred = knn_pred).ravel()\n",
    "\n",
    "\n",
    "# printing each result one-by-one\n",
    "print(f\"\"\"\n",
    "True Negatives : {knn_tree_tn}\n",
    "False Positives: {knn_tree_fp}\n",
    "False Negatives: {knn_tree_fn}\n",
    "True Positives : {knn_tree_tp}\n",
    "\"\"\")"
   ]
  },
  {
   "cell_type": "markdown",
   "id": "ebf2001f",
   "metadata": {},
   "source": [
    "Using RandomizedSearchCV, optimize the random forest's hyperparameters."
   ]
  },
  {
   "cell_type": "code",
   "execution_count": 77,
   "id": "4a39487d",
   "metadata": {},
   "outputs": [
    {
     "name": "stderr",
     "output_type": "stream",
     "text": [
      "/var/folders/qd/k600f85s3mlcxldc5c0t12g80000gn/T/ipykernel_69647/3317191593.py:2: FutureWarning: The pandas.np module is deprecated and will be removed from pandas in a future version. Import numpy directly instead.\n",
      "  estimator_space  = pd.np.arange(100, 1100, 250)\n",
      "/var/folders/qd/k600f85s3mlcxldc5c0t12g80000gn/T/ipykernel_69647/3317191593.py:3: FutureWarning: The pandas.np module is deprecated and will be removed from pandas in a future version. Import numpy directly instead.\n",
      "  leaf_space       = pd.np.arange(1, 31, 10)\n",
      "/Users/tanginaparvez/opt/anaconda3/lib/python3.9/site-packages/sklearn/model_selection/_search.py:292: UserWarning: The total space of parameters 96 is smaller than n_iter=1000. Running 96 iterations. For exhaustive searches, use GridSearchCV.\n",
      "  warnings.warn(\n"
     ]
    },
    {
     "name": "stdout",
     "output_type": "stream",
     "text": [
      "Tuned Parameters  : {'warm_start': True, 'n_estimators': 100, 'min_samples_leaf': 1, 'criterion': 'entropy', 'bootstrap': True}\n",
      "Tuned Training AUC: 0.6158\n"
     ]
    }
   ],
   "source": [
    "# declaring a hyperparameter space\n",
    "estimator_space  = pd.np.arange(100, 1100, 250)\n",
    "leaf_space       = pd.np.arange(1, 31, 10)\n",
    "criterion_space  = ['gini', 'entropy']\n",
    "bootstrap_space  = [True, False]\n",
    "warm_start_space = [True, False]\n",
    "\n",
    "\n",
    "# creating a hyperparameter grid\n",
    "param_grid = {'n_estimators'     : estimator_space,\n",
    "              'min_samples_leaf' : leaf_space,\n",
    "              'criterion'        : criterion_space,\n",
    "              'bootstrap'        : bootstrap_space,\n",
    "              'warm_start'       : warm_start_space}\n",
    "\n",
    "\n",
    "# INSTANTIATING the model object without hyperparameters\n",
    "forest_grid = RandomForestClassifier(max_depth    = 8,\n",
    "                                     random_state = 219)\n",
    "\n",
    "\n",
    "# GridSearchCV object\n",
    "forest_cv = RandomizedSearchCV(estimator           = forest_grid,\n",
    "                               param_distributions = param_grid,\n",
    "                                        cv         = 3,\n",
    "                                        n_iter     = 1000,\n",
    "                                        scoring    = make_scorer(roc_auc_score,\n",
    "                                   needs_threshold = False))\n",
    "\n",
    "\n",
    "# FITTING to the FULL DATASET (due to cross-validation)\n",
    "forest_cv.fit(cs_data, cs_target)\n",
    "\n",
    "\n",
    "# PREDICT step is not needed\n",
    "\n",
    "\n",
    "# printing the optimal parameters and best score\n",
    "print(\"Tuned Parameters  :\", forest_cv.best_params_)\n",
    "print(\"Tuned Training AUC:\", forest_cv.best_score_.round(4))"
   ]
  },
  {
   "cell_type": "code",
   "execution_count": 78,
   "id": "0d640d8a",
   "metadata": {},
   "outputs": [
    {
     "data": {
      "text/plain": [
       "RandomForestClassifier(criterion='entropy', max_depth=8, random_state=219,\n",
       "                       warm_start=True)"
      ]
     },
     "execution_count": 78,
     "metadata": {},
     "output_type": "execute_result"
    }
   ],
   "source": [
    "# best estimators based on RandomizedSearchCV\n",
    "forest_cv.best_estimator_"
   ]
  },
  {
   "cell_type": "markdown",
   "id": "49e0e865",
   "metadata": {},
   "source": [
    "Creating tuned random forest model based on hyperparameter tuning results."
   ]
  },
  {
   "cell_type": "code",
   "execution_count": 79,
   "id": "e1f476a3",
   "metadata": {},
   "outputs": [
    {
     "name": "stdout",
     "output_type": "stream",
     "text": [
      "Forest Tuned Training ACCURACY: 0.7286\n",
      "Forest Tuned Testing  ACCURACY: 0.7269\n",
      "Forest Tuned AUC Score        : 0.6127\n"
     ]
    }
   ],
   "source": [
    "# to avoid running another RandomizedSearch\n",
    "forest_tuned = RandomForestClassifier(bootstrap      =False , \n",
    "                                      ccp_alpha      =0.0 , \n",
    "                                      class_weight   =None ,\n",
    "                                      criterion      ='entropy',\n",
    "                                      max_depth      =8 , \n",
    "                                      max_features   ='auto',\n",
    "                                      max_leaf_nodes =None , \n",
    "                                      max_samples    =None ,\n",
    "                                      min_impurity_decrease  =0.0 , \n",
    "                                      min_samples_leaf=11 , \n",
    "                                      min_samples_split=2 ,\n",
    "                                      min_weight_fraction_leaf=0.0, \n",
    "                                      n_estimators=350,\n",
    "                                      n_jobs=None, \n",
    "                                      oob_score=False, \n",
    "                                      random_state=219,\n",
    "                                      verbose=0, \n",
    "                                      warm_start=True)\n",
    "\n",
    "\n",
    "# FITTING the model object\n",
    "forest_tuned_fit = forest_tuned.fit(x_train, y_train)\n",
    "\n",
    "\n",
    "# PREDICTING based on the testing set\n",
    "forest_tuned_pred = forest_tuned_fit.predict(x_test)\n",
    "\n",
    "\n",
    "# SCORING the results\n",
    "print('Forest Tuned Training ACCURACY:', forest_tuned.score(x_train, y_train).round(4))\n",
    "print('Forest Tuned Testing  ACCURACY:', forest_tuned.score(x_test, y_test).round(4))\n",
    "print('Forest Tuned AUC Score        :', roc_auc_score(y_true  = y_test,\n",
    "                                                   y_score = forest_tuned_pred).round(4))\n",
    "\n",
    "\n",
    "# saving scoring data for future use\n",
    "forest_tuned_train_score = forest_tuned.score(x_train, y_train).round(4) # accuracy\n",
    "forest_tuned_test_score  = forest_tuned.score(x_test, y_test).round(4)   # accuracy\n",
    "\n",
    "\n",
    "# saving the AUC score\n",
    "forest_tuned_auc = roc_auc_score(y_true  = y_test,\n",
    "                                 y_score = forest_tuned_pred).round(4) # auc"
   ]
  },
  {
   "cell_type": "code",
   "execution_count": 80,
   "id": "72c2931e",
   "metadata": {},
   "outputs": [
    {
     "name": "stderr",
     "output_type": "stream",
     "text": [
      "/var/folders/qd/k600f85s3mlcxldc5c0t12g80000gn/T/ipykernel_69647/3629681362.py:63: FutureWarning: The pandas.np module is deprecated and will be removed from pandas in a future version. Import numpy directly instead.\n",
      "  plt.yticks(pd.np.arange(n_features), train.columns)\n"
     ]
    }
   ],
   "source": [
    "# plotting feature importances\n",
    "plot_feature_importances(forest_tuned_fit,\n",
    "                         train = x_train,\n",
    "                         export = False)"
   ]
  },
  {
   "cell_type": "code",
   "execution_count": 81,
   "id": "78f01c34",
   "metadata": {},
   "outputs": [
    {
     "name": "stdout",
     "output_type": "stream",
     "text": [
      "\n",
      "True Negatives : 46\n",
      "False Positives: 110\n",
      "False Negatives: 23\n",
      "True Positives : 308\n",
      "\n"
     ]
    }
   ],
   "source": [
    "# unpacking the confusion matrix\n",
    "tuned_rf_tn, \\\n",
    "tuned_rf_fp, \\\n",
    "tuned_rf_fn, \\\n",
    "tuned_rf_tp = confusion_matrix(y_true = y_test, y_pred = forest_tuned_pred).ravel()\n",
    "\n",
    "\n",
    "# printing each result one-by-one\n",
    "print(f\"\"\"\n",
    "True Negatives : {tuned_rf_tn}\n",
    "False Positives: {tuned_rf_fp}\n",
    "False Negatives: {tuned_rf_fn}\n",
    "True Positives : {tuned_rf_tp}\n",
    "\"\"\")"
   ]
  },
  {
   "cell_type": "markdown",
   "id": "5f49313a",
   "metadata": {},
   "source": [
    "Save the tweaked random forest model's output in model performance for further use."
   ]
  },
  {
   "cell_type": "code",
   "execution_count": 82,
   "id": "24f7729e",
   "metadata": {},
   "outputs": [],
   "source": [
    "# declaring model performance objects\n",
    "tuned_rf_train_acc = forest_tuned_fit.score(x_train, y_train).round(4)\n",
    "tuned_rf_test_acc  = forest_tuned_fit.score(x_test, y_test).round(4)\n",
    "tuned_rf_auc       = roc_auc_score(y_true  = y_test,\n",
    "                                   y_score = forest_tuned_pred).round(4)"
   ]
  },
  {
   "cell_type": "markdown",
   "id": "41deecb4",
   "metadata": {},
   "source": [
    " Build a gradient boosting classifier model with the hyperparameters tuning."
   ]
  },
  {
   "cell_type": "code",
   "execution_count": 83,
   "id": "540d92fc",
   "metadata": {},
   "outputs": [
    {
     "name": "stderr",
     "output_type": "stream",
     "text": [
      "/var/folders/qd/k600f85s3mlcxldc5c0t12g80000gn/T/ipykernel_69647/258157216.py:2: FutureWarning: The pandas.np module is deprecated and will be removed from pandas in a future version. Import numpy directly instead.\n",
      "  learn_space        = pd.np.arange(0.1, 4.0, 0.2)\n",
      "/var/folders/qd/k600f85s3mlcxldc5c0t12g80000gn/T/ipykernel_69647/258157216.py:3: FutureWarning: The pandas.np module is deprecated and will be removed from pandas in a future version. Import numpy directly instead.\n",
      "  estimator_space    = pd.np.arange(100, 200, 5)\n",
      "/var/folders/qd/k600f85s3mlcxldc5c0t12g80000gn/T/ipykernel_69647/258157216.py:4: FutureWarning: The pandas.np module is deprecated and will be removed from pandas in a future version. Import numpy directly instead.\n",
      "  depth_space        = pd.np.arange(1, 8, 1)\n"
     ]
    },
    {
     "name": "stdout",
     "output_type": "stream",
     "text": [
      "Tuned Parameters  : {'warm_start': False, 'n_estimators': 175, 'max_depth': 1, 'learning_rate': 1.3000000000000003}\n",
      "Tuned Training AUC: 0.6193\n"
     ]
    }
   ],
   "source": [
    "# declaring a hyperparameter space\n",
    "learn_space        = pd.np.arange(0.1, 4.0, 0.2)\n",
    "estimator_space    = pd.np.arange(100, 200, 5)\n",
    "depth_space        = pd.np.arange(1, 8, 1)\n",
    "warm_start_space   = [True, False]\n",
    "\n",
    "# creating a hyperparameter grid\n",
    "param_grid = {'learning_rate' : learn_space,\n",
    "              'max_depth'     : depth_space,\n",
    "              'n_estimators'  : estimator_space,\n",
    "              'warm_start'     : warm_start_space}\n",
    "\n",
    "\n",
    "# INSTANTIATING the model object without hyperparameters\n",
    "full_gbm_grid = GradientBoostingClassifier(random_state = 219)\n",
    "\n",
    "\n",
    "# GridSearchCV object\n",
    "full_gbm_cv = RandomizedSearchCV(estimator     = full_gbm_grid,\n",
    "                           param_distributions = param_grid,\n",
    "                           cv                  = 3,\n",
    "                           n_iter              = 900,\n",
    "                           random_state        = 219,\n",
    "                           scoring             = make_scorer(roc_auc_score,\n",
    "                                                 needs_threshold = False))\n",
    "\n",
    "\n",
    "# FITTING to the FULL DATASET (due to cross-validation)\n",
    "full_gbm_cv.fit(cs_data, cs_target)\n",
    "\n",
    "\n",
    "# PREDICT step is not needed\n",
    "\n",
    "\n",
    "# printing the optimal parameters and best score\n",
    "print(\"Tuned Parameters  :\", full_gbm_cv.best_params_)\n",
    "print(\"Tuned Training AUC:\", full_gbm_cv.best_score_.round(4))"
   ]
  },
  {
   "cell_type": "code",
   "execution_count": 84,
   "id": "8d95a7d1",
   "metadata": {},
   "outputs": [
    {
     "data": {
      "text/plain": [
       "GradientBoostingClassifier(learning_rate=1.3000000000000003, max_depth=1,\n",
       "                           n_estimators=175, random_state=219)"
      ]
     },
     "execution_count": 84,
     "metadata": {},
     "output_type": "execute_result"
    }
   ],
   "source": [
    "# checking the best estimator for the model\n",
    "full_gbm_cv.best_estimator_"
   ]
  },
  {
   "cell_type": "code",
   "execution_count": 95,
   "id": "124de7b5",
   "metadata": {},
   "outputs": [
    {
     "name": "stdout",
     "output_type": "stream",
     "text": [
      "Training ACCURACY: 0.73\n",
      "Testing  ACCURACY: 0.7269\n",
      "AUC Score        : 0.6229\n"
     ]
    }
   ],
   "source": [
    "# INSTANTIATING the model object without hyperparameters\n",
    "\n",
    "# hyperparameter tuning\n",
    "gbm_tuned = GradientBoostingClassifier(ccp_alpha=0.0, \n",
    "                                       criterion='friedman_mse', \n",
    "                                       init=None,\n",
    "                                       learning_rate=0.5000000000000001, \n",
    "                                       loss='deviance',\n",
    "                                       max_depth=1, \n",
    "                                       max_features=None, \n",
    "                                       max_leaf_nodes=None,\n",
    "                                       min_impurity_decrease=0.0,\n",
    "                                       min_samples_leaf=1, \n",
    "                                       min_samples_split=2,\n",
    "                                       min_weight_fraction_leaf=0.0, \n",
    "                                       n_estimators=180,\n",
    "                                       n_iter_no_change=None, \n",
    "                                       random_state=219, \n",
    "                                       subsample=1.0, tol=0.0001,\n",
    "                                       validation_fraction=0.1, \n",
    "                                       verbose=0,\n",
    "                                       warm_start=True)\n",
    "\n",
    "# FIT step is needed as we are not using .best_estimator\n",
    "gbm_tuned_fit = gbm_tuned.fit(x_train, y_train)\n",
    "\n",
    "\n",
    "# PREDICTING based on the testing set\n",
    "gbm_tuned_pred = gbm_tuned_fit.predict(x_test)\n",
    "\n",
    "\n",
    "# SCORING the results\n",
    "print('Training ACCURACY:', gbm_tuned_fit.score(x_train, y_train).round(4))\n",
    "print('Testing  ACCURACY:', gbm_tuned_fit.score(x_test, y_test).round(4))\n",
    "print('AUC Score        :', roc_auc_score(y_true  = y_test,\n",
    "                                          y_score = gbm_tuned_pred).round(4))"
   ]
  },
  {
   "cell_type": "code",
   "execution_count": 96,
   "id": "8881956e",
   "metadata": {},
   "outputs": [
    {
     "name": "stdout",
     "output_type": "stream",
     "text": [
      "\n",
      "True Negatives : 52\n",
      "False Positives: 104\n",
      "False Negatives: 29\n",
      "True Positives : 302\n",
      "\n"
     ]
    }
   ],
   "source": [
    "# unpacking the confusion matrix\n",
    "gbm_tuned_tn, \\\n",
    "gbm_tuned_fp, \\\n",
    "gbm_tuned_fn, \\\n",
    "gbm_tuned_tp = confusion_matrix(y_true = y_test, y_pred = gbm_tuned_pred).ravel()\n",
    "\n",
    "\n",
    "# printing each result one-by-one\n",
    "print(f\"\"\"\n",
    "True Negatives : {gbm_tuned_tn}\n",
    "False Positives: {gbm_tuned_fp}\n",
    "False Negatives: {gbm_tuned_fn}\n",
    "True Positives : {gbm_tuned_tp}\n",
    "\"\"\")"
   ]
  },
  {
   "cell_type": "code",
   "execution_count": 93,
   "id": "ec0fc1af",
   "metadata": {},
   "outputs": [],
   "source": [
    "# declaring model performance objects\n",
    "gbm_train_acc = gbm_tuned_fit.score(x_train, y_train).round(4)\n",
    "gbm_test_acc  = gbm_tuned_fit.score(x_test, y_test).round(4)\n",
    "gbm_auc       = roc_auc_score(y_true  = y_test,\n",
    "                              y_score = gbm_tuned_pred).round(4)"
   ]
  },
  {
   "cell_type": "markdown",
   "id": "33d5bff5",
   "metadata": {},
   "source": [
    "# Comparing Results"
   ]
  },
  {
   "cell_type": "code",
   "execution_count": 97,
   "id": "bcf341d0",
   "metadata": {},
   "outputs": [
    {
     "ename": "NameError",
     "evalue": "name 'model_performance' is not defined",
     "output_type": "error",
     "traceback": [
      "\u001b[0;31m---------------------------------------------------------------------------\u001b[0m",
      "\u001b[0;31mNameError\u001b[0m                                 Traceback (most recent call last)",
      "\u001b[0;32m/var/folders/qd/k600f85s3mlcxldc5c0t12g80000gn/T/ipykernel_69647/565868606.py\u001b[0m in \u001b[0;36m<module>\u001b[0;34m\u001b[0m\n\u001b[0;32m----> 1\u001b[0;31m \u001b[0mmodel_performance\u001b[0m\u001b[0;34m.\u001b[0m\u001b[0miloc\u001b[0m\u001b[0;34m[\u001b[0m \u001b[0;36m3\u001b[0m \u001b[0;34m,\u001b[0m \u001b[0;34m:\u001b[0m  \u001b[0;34m]\u001b[0m\u001b[0;34m\u001b[0m\u001b[0;34m\u001b[0m\u001b[0m\n\u001b[0m",
      "\u001b[0;31mNameError\u001b[0m: name 'model_performance' is not defined"
     ]
    }
   ],
   "source": [
    "model_performance.iloc[ 3 , :  ]"
   ]
  },
  {
   "cell_type": "markdown",
   "id": "a73421a1",
   "metadata": {},
   "source": [
    "The \"Tuned Tree\" model has a training accuracy of 0.7121 and a testing accuracy of 0.7125. The AUC score for this model is 0.6225, which indicates that the model has a fair discrimination performance. The confusion matrix shows that the model correctly classified 289 out of 331 observations in the testing set, with 58 false negatives and 98 false positives."
   ]
  },
  {
   "cell_type": "code",
   "execution_count": null,
   "id": "adfe46d8",
   "metadata": {},
   "outputs": [],
   "source": []
  }
 ],
 "metadata": {
  "kernelspec": {
   "display_name": "Python 3 (ipykernel)",
   "language": "python",
   "name": "python3"
  },
  "language_info": {
   "codemirror_mode": {
    "name": "ipython",
    "version": 3
   },
   "file_extension": ".py",
   "mimetype": "text/x-python",
   "name": "python",
   "nbconvert_exporter": "python",
   "pygments_lexer": "ipython3",
   "version": "3.9.13"
  },
  "toc": {
   "base_numbering": 1,
   "nav_menu": {},
   "number_sections": true,
   "sideBar": true,
   "skip_h1_title": false,
   "title_cell": "Table of Contents",
   "title_sidebar": "Contents",
   "toc_cell": false,
   "toc_position": {},
   "toc_section_display": true,
   "toc_window_display": false
  },
  "varInspector": {
   "cols": {
    "lenName": 16,
    "lenType": 16,
    "lenVar": 40
   },
   "kernels_config": {
    "python": {
     "delete_cmd_postfix": "",
     "delete_cmd_prefix": "del ",
     "library": "var_list.py",
     "varRefreshCmd": "print(var_dic_list())"
    },
    "r": {
     "delete_cmd_postfix": ") ",
     "delete_cmd_prefix": "rm(",
     "library": "var_list.r",
     "varRefreshCmd": "cat(var_dic_list()) "
    }
   },
   "types_to_exclude": [
    "module",
    "function",
    "builtin_function_or_method",
    "instance",
    "_Feature"
   ],
   "window_display": false
  }
 },
 "nbformat": 4,
 "nbformat_minor": 5
}
